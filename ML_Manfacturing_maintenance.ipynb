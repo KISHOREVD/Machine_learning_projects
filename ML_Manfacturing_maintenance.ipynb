{
  "nbformat": 4,
  "nbformat_minor": 0,
  "metadata": {
    "colab": {
      "name": "ML_Manfacturing maintenance.ipynb",
      "provenance": []
    },
    "kernelspec": {
      "name": "python3",
      "display_name": "Python 3"
    },
    "language_info": {
      "name": "python"
    }
  },
  "cells": [
    {
      "cell_type": "markdown",
      "source": [
        "Brief Description\n",
        "This dataset reflects real predictive maintenance encountered in the industry with measurements from real equipment. The features description is taken directly from the dataset source.\n",
        "\n",
        "The six features are:\n",
        "* Type: the quality of the product, consisting of a letter L, M, or H. Meaning low, medium, and high, respectively.\n",
        "* Air temperature [K]: generated using a random walk process later normalized to a standard deviation of 2 K around 300 K.\n",
        "* Process temperature [K]: generated using a random walk process normalized to a standard deviation of 1 K, added to the air temperature\n",
        "plus 10 K.\n",
        "* Rotational speed [rpm]: calculated from power of 2860 W, overlaid with a normally distributed noise.\n",
        "* Torque [Nm]: torque values are normally distributed around 40 Nm with an Ïƒ = 10 Nm and no negative values.  (Power (P) = Speed (n) x Torque (M).)\n",
        "* Tool wear [minutes]: The quality variants H/M/L add 5/3/2 minutes of tool wear to the used tool in the process.\n",
        "\n",
        "The targets are:\n",
        "* Target: failure or no failure (to perform binary classification).\n",
        "* Failure Type: type of failure (to perform multiclass classification).\n",
        "\n",
        "It also includes the following information, which is not useful for building the models:\n",
        "UID: unique identifier ranging from 1 to 10000.\n",
        "ProductID: the id of the product."
      ],
      "metadata": {
        "id": "HV44n3u0eLcT"
      }
    },
    {
      "cell_type": "code",
      "execution_count": null,
      "metadata": {
        "id": "lGgI4BzQdZOi"
      },
      "outputs": [],
      "source": [
        "import pandas as pd\n",
        "import numpy as np\n",
        "import matplotlib.pyplot as plt\n",
        "import seaborn as sns\n",
        "% matplotlib inline"
      ]
    },
    {
      "cell_type": "code",
      "source": [
        "df=pd.read_csv(\"https://raw.githubusercontent.com/KISHOREVD/Machine_learning_projects/main/predictive_maintenance.csv\")\n",
        "df.head()"
      ],
      "metadata": {
        "colab": {
          "base_uri": "https://localhost:8080/",
          "height": 206
        },
        "id": "3sRVKszFd7KG",
        "outputId": "a96c9307-c40b-469d-db99-f86efed58cf8"
      },
      "execution_count": null,
      "outputs": [
        {
          "output_type": "execute_result",
          "data": {
            "text/plain": [
              "   UDI Product ID Type  Air temperature [K]  Process temperature [K]  \\\n",
              "0    1     M14860    M                298.1                    308.6   \n",
              "1    2     L47181    L                298.2                    308.7   \n",
              "2    3     L47182    L                298.1                    308.5   \n",
              "3    4     L47183    L                298.2                    308.6   \n",
              "4    5     L47184    L                298.2                    308.7   \n",
              "\n",
              "   Rotational speed [rpm]  Torque [Nm]  Tool wear [min]  Target Failure Type  \n",
              "0                    1551         42.8                0       0   No Failure  \n",
              "1                    1408         46.3                3       0   No Failure  \n",
              "2                    1498         49.4                5       0   No Failure  \n",
              "3                    1433         39.5                7       0   No Failure  \n",
              "4                    1408         40.0                9       0   No Failure  "
            ],
            "text/html": [
              "\n",
              "  <div id=\"df-669ba66b-b53d-464a-9b93-9d0ddf3f7e2f\">\n",
              "    <div class=\"colab-df-container\">\n",
              "      <div>\n",
              "<style scoped>\n",
              "    .dataframe tbody tr th:only-of-type {\n",
              "        vertical-align: middle;\n",
              "    }\n",
              "\n",
              "    .dataframe tbody tr th {\n",
              "        vertical-align: top;\n",
              "    }\n",
              "\n",
              "    .dataframe thead th {\n",
              "        text-align: right;\n",
              "    }\n",
              "</style>\n",
              "<table border=\"1\" class=\"dataframe\">\n",
              "  <thead>\n",
              "    <tr style=\"text-align: right;\">\n",
              "      <th></th>\n",
              "      <th>UDI</th>\n",
              "      <th>Product ID</th>\n",
              "      <th>Type</th>\n",
              "      <th>Air temperature [K]</th>\n",
              "      <th>Process temperature [K]</th>\n",
              "      <th>Rotational speed [rpm]</th>\n",
              "      <th>Torque [Nm]</th>\n",
              "      <th>Tool wear [min]</th>\n",
              "      <th>Target</th>\n",
              "      <th>Failure Type</th>\n",
              "    </tr>\n",
              "  </thead>\n",
              "  <tbody>\n",
              "    <tr>\n",
              "      <th>0</th>\n",
              "      <td>1</td>\n",
              "      <td>M14860</td>\n",
              "      <td>M</td>\n",
              "      <td>298.1</td>\n",
              "      <td>308.6</td>\n",
              "      <td>1551</td>\n",
              "      <td>42.8</td>\n",
              "      <td>0</td>\n",
              "      <td>0</td>\n",
              "      <td>No Failure</td>\n",
              "    </tr>\n",
              "    <tr>\n",
              "      <th>1</th>\n",
              "      <td>2</td>\n",
              "      <td>L47181</td>\n",
              "      <td>L</td>\n",
              "      <td>298.2</td>\n",
              "      <td>308.7</td>\n",
              "      <td>1408</td>\n",
              "      <td>46.3</td>\n",
              "      <td>3</td>\n",
              "      <td>0</td>\n",
              "      <td>No Failure</td>\n",
              "    </tr>\n",
              "    <tr>\n",
              "      <th>2</th>\n",
              "      <td>3</td>\n",
              "      <td>L47182</td>\n",
              "      <td>L</td>\n",
              "      <td>298.1</td>\n",
              "      <td>308.5</td>\n",
              "      <td>1498</td>\n",
              "      <td>49.4</td>\n",
              "      <td>5</td>\n",
              "      <td>0</td>\n",
              "      <td>No Failure</td>\n",
              "    </tr>\n",
              "    <tr>\n",
              "      <th>3</th>\n",
              "      <td>4</td>\n",
              "      <td>L47183</td>\n",
              "      <td>L</td>\n",
              "      <td>298.2</td>\n",
              "      <td>308.6</td>\n",
              "      <td>1433</td>\n",
              "      <td>39.5</td>\n",
              "      <td>7</td>\n",
              "      <td>0</td>\n",
              "      <td>No Failure</td>\n",
              "    </tr>\n",
              "    <tr>\n",
              "      <th>4</th>\n",
              "      <td>5</td>\n",
              "      <td>L47184</td>\n",
              "      <td>L</td>\n",
              "      <td>298.2</td>\n",
              "      <td>308.7</td>\n",
              "      <td>1408</td>\n",
              "      <td>40.0</td>\n",
              "      <td>9</td>\n",
              "      <td>0</td>\n",
              "      <td>No Failure</td>\n",
              "    </tr>\n",
              "  </tbody>\n",
              "</table>\n",
              "</div>\n",
              "      <button class=\"colab-df-convert\" onclick=\"convertToInteractive('df-669ba66b-b53d-464a-9b93-9d0ddf3f7e2f')\"\n",
              "              title=\"Convert this dataframe to an interactive table.\"\n",
              "              style=\"display:none;\">\n",
              "        \n",
              "  <svg xmlns=\"http://www.w3.org/2000/svg\" height=\"24px\"viewBox=\"0 0 24 24\"\n",
              "       width=\"24px\">\n",
              "    <path d=\"M0 0h24v24H0V0z\" fill=\"none\"/>\n",
              "    <path d=\"M18.56 5.44l.94 2.06.94-2.06 2.06-.94-2.06-.94-.94-2.06-.94 2.06-2.06.94zm-11 1L8.5 8.5l.94-2.06 2.06-.94-2.06-.94L8.5 2.5l-.94 2.06-2.06.94zm10 10l.94 2.06.94-2.06 2.06-.94-2.06-.94-.94-2.06-.94 2.06-2.06.94z\"/><path d=\"M17.41 7.96l-1.37-1.37c-.4-.4-.92-.59-1.43-.59-.52 0-1.04.2-1.43.59L10.3 9.45l-7.72 7.72c-.78.78-.78 2.05 0 2.83L4 21.41c.39.39.9.59 1.41.59.51 0 1.02-.2 1.41-.59l7.78-7.78 2.81-2.81c.8-.78.8-2.07 0-2.86zM5.41 20L4 18.59l7.72-7.72 1.47 1.35L5.41 20z\"/>\n",
              "  </svg>\n",
              "      </button>\n",
              "      \n",
              "  <style>\n",
              "    .colab-df-container {\n",
              "      display:flex;\n",
              "      flex-wrap:wrap;\n",
              "      gap: 12px;\n",
              "    }\n",
              "\n",
              "    .colab-df-convert {\n",
              "      background-color: #E8F0FE;\n",
              "      border: none;\n",
              "      border-radius: 50%;\n",
              "      cursor: pointer;\n",
              "      display: none;\n",
              "      fill: #1967D2;\n",
              "      height: 32px;\n",
              "      padding: 0 0 0 0;\n",
              "      width: 32px;\n",
              "    }\n",
              "\n",
              "    .colab-df-convert:hover {\n",
              "      background-color: #E2EBFA;\n",
              "      box-shadow: 0px 1px 2px rgba(60, 64, 67, 0.3), 0px 1px 3px 1px rgba(60, 64, 67, 0.15);\n",
              "      fill: #174EA6;\n",
              "    }\n",
              "\n",
              "    [theme=dark] .colab-df-convert {\n",
              "      background-color: #3B4455;\n",
              "      fill: #D2E3FC;\n",
              "    }\n",
              "\n",
              "    [theme=dark] .colab-df-convert:hover {\n",
              "      background-color: #434B5C;\n",
              "      box-shadow: 0px 1px 3px 1px rgba(0, 0, 0, 0.15);\n",
              "      filter: drop-shadow(0px 1px 2px rgba(0, 0, 0, 0.3));\n",
              "      fill: #FFFFFF;\n",
              "    }\n",
              "  </style>\n",
              "\n",
              "      <script>\n",
              "        const buttonEl =\n",
              "          document.querySelector('#df-669ba66b-b53d-464a-9b93-9d0ddf3f7e2f button.colab-df-convert');\n",
              "        buttonEl.style.display =\n",
              "          google.colab.kernel.accessAllowed ? 'block' : 'none';\n",
              "\n",
              "        async function convertToInteractive(key) {\n",
              "          const element = document.querySelector('#df-669ba66b-b53d-464a-9b93-9d0ddf3f7e2f');\n",
              "          const dataTable =\n",
              "            await google.colab.kernel.invokeFunction('convertToInteractive',\n",
              "                                                     [key], {});\n",
              "          if (!dataTable) return;\n",
              "\n",
              "          const docLinkHtml = 'Like what you see? Visit the ' +\n",
              "            '<a target=\"_blank\" href=https://colab.research.google.com/notebooks/data_table.ipynb>data table notebook</a>'\n",
              "            + ' to learn more about interactive tables.';\n",
              "          element.innerHTML = '';\n",
              "          dataTable['output_type'] = 'display_data';\n",
              "          await google.colab.output.renderOutput(dataTable, element);\n",
              "          const docLink = document.createElement('div');\n",
              "          docLink.innerHTML = docLinkHtml;\n",
              "          element.appendChild(docLink);\n",
              "        }\n",
              "      </script>\n",
              "    </div>\n",
              "  </div>\n",
              "  "
            ]
          },
          "metadata": {},
          "execution_count": 656
        }
      ]
    },
    {
      "cell_type": "code",
      "source": [
        "df.shape"
      ],
      "metadata": {
        "colab": {
          "base_uri": "https://localhost:8080/"
        },
        "id": "b7RLZLU4en5L",
        "outputId": "ce30e834-fee7-44ea-a36b-b199626cf36a"
      },
      "execution_count": null,
      "outputs": [
        {
          "output_type": "execute_result",
          "data": {
            "text/plain": [
              "(10000, 10)"
            ]
          },
          "metadata": {},
          "execution_count": 657
        }
      ]
    },
    {
      "cell_type": "code",
      "source": [
        "df.describe()"
      ],
      "metadata": {
        "colab": {
          "base_uri": "https://localhost:8080/",
          "height": 300
        },
        "id": "9IHEKE3veosC",
        "outputId": "897d5601-6371-49e1-a676-d1b2c868b091"
      },
      "execution_count": null,
      "outputs": [
        {
          "output_type": "execute_result",
          "data": {
            "text/plain": [
              "               UDI  Air temperature [K]  Process temperature [K]  \\\n",
              "count  10000.00000         10000.000000             10000.000000   \n",
              "mean    5000.50000           300.004930               310.005560   \n",
              "std     2886.89568             2.000259                 1.483734   \n",
              "min        1.00000           295.300000               305.700000   \n",
              "25%     2500.75000           298.300000               308.800000   \n",
              "50%     5000.50000           300.100000               310.100000   \n",
              "75%     7500.25000           301.500000               311.100000   \n",
              "max    10000.00000           304.500000               313.800000   \n",
              "\n",
              "       Rotational speed [rpm]   Torque [Nm]  Tool wear [min]        Target  \n",
              "count            10000.000000  10000.000000     10000.000000  10000.000000  \n",
              "mean              1538.776100     39.986910       107.951000      0.033900  \n",
              "std                179.284096      9.968934        63.654147      0.180981  \n",
              "min               1168.000000      3.800000         0.000000      0.000000  \n",
              "25%               1423.000000     33.200000        53.000000      0.000000  \n",
              "50%               1503.000000     40.100000       108.000000      0.000000  \n",
              "75%               1612.000000     46.800000       162.000000      0.000000  \n",
              "max               2886.000000     76.600000       253.000000      1.000000  "
            ],
            "text/html": [
              "\n",
              "  <div id=\"df-0b91e2a5-17fa-426b-8111-bfcd8075048a\">\n",
              "    <div class=\"colab-df-container\">\n",
              "      <div>\n",
              "<style scoped>\n",
              "    .dataframe tbody tr th:only-of-type {\n",
              "        vertical-align: middle;\n",
              "    }\n",
              "\n",
              "    .dataframe tbody tr th {\n",
              "        vertical-align: top;\n",
              "    }\n",
              "\n",
              "    .dataframe thead th {\n",
              "        text-align: right;\n",
              "    }\n",
              "</style>\n",
              "<table border=\"1\" class=\"dataframe\">\n",
              "  <thead>\n",
              "    <tr style=\"text-align: right;\">\n",
              "      <th></th>\n",
              "      <th>UDI</th>\n",
              "      <th>Air temperature [K]</th>\n",
              "      <th>Process temperature [K]</th>\n",
              "      <th>Rotational speed [rpm]</th>\n",
              "      <th>Torque [Nm]</th>\n",
              "      <th>Tool wear [min]</th>\n",
              "      <th>Target</th>\n",
              "    </tr>\n",
              "  </thead>\n",
              "  <tbody>\n",
              "    <tr>\n",
              "      <th>count</th>\n",
              "      <td>10000.00000</td>\n",
              "      <td>10000.000000</td>\n",
              "      <td>10000.000000</td>\n",
              "      <td>10000.000000</td>\n",
              "      <td>10000.000000</td>\n",
              "      <td>10000.000000</td>\n",
              "      <td>10000.000000</td>\n",
              "    </tr>\n",
              "    <tr>\n",
              "      <th>mean</th>\n",
              "      <td>5000.50000</td>\n",
              "      <td>300.004930</td>\n",
              "      <td>310.005560</td>\n",
              "      <td>1538.776100</td>\n",
              "      <td>39.986910</td>\n",
              "      <td>107.951000</td>\n",
              "      <td>0.033900</td>\n",
              "    </tr>\n",
              "    <tr>\n",
              "      <th>std</th>\n",
              "      <td>2886.89568</td>\n",
              "      <td>2.000259</td>\n",
              "      <td>1.483734</td>\n",
              "      <td>179.284096</td>\n",
              "      <td>9.968934</td>\n",
              "      <td>63.654147</td>\n",
              "      <td>0.180981</td>\n",
              "    </tr>\n",
              "    <tr>\n",
              "      <th>min</th>\n",
              "      <td>1.00000</td>\n",
              "      <td>295.300000</td>\n",
              "      <td>305.700000</td>\n",
              "      <td>1168.000000</td>\n",
              "      <td>3.800000</td>\n",
              "      <td>0.000000</td>\n",
              "      <td>0.000000</td>\n",
              "    </tr>\n",
              "    <tr>\n",
              "      <th>25%</th>\n",
              "      <td>2500.75000</td>\n",
              "      <td>298.300000</td>\n",
              "      <td>308.800000</td>\n",
              "      <td>1423.000000</td>\n",
              "      <td>33.200000</td>\n",
              "      <td>53.000000</td>\n",
              "      <td>0.000000</td>\n",
              "    </tr>\n",
              "    <tr>\n",
              "      <th>50%</th>\n",
              "      <td>5000.50000</td>\n",
              "      <td>300.100000</td>\n",
              "      <td>310.100000</td>\n",
              "      <td>1503.000000</td>\n",
              "      <td>40.100000</td>\n",
              "      <td>108.000000</td>\n",
              "      <td>0.000000</td>\n",
              "    </tr>\n",
              "    <tr>\n",
              "      <th>75%</th>\n",
              "      <td>7500.25000</td>\n",
              "      <td>301.500000</td>\n",
              "      <td>311.100000</td>\n",
              "      <td>1612.000000</td>\n",
              "      <td>46.800000</td>\n",
              "      <td>162.000000</td>\n",
              "      <td>0.000000</td>\n",
              "    </tr>\n",
              "    <tr>\n",
              "      <th>max</th>\n",
              "      <td>10000.00000</td>\n",
              "      <td>304.500000</td>\n",
              "      <td>313.800000</td>\n",
              "      <td>2886.000000</td>\n",
              "      <td>76.600000</td>\n",
              "      <td>253.000000</td>\n",
              "      <td>1.000000</td>\n",
              "    </tr>\n",
              "  </tbody>\n",
              "</table>\n",
              "</div>\n",
              "      <button class=\"colab-df-convert\" onclick=\"convertToInteractive('df-0b91e2a5-17fa-426b-8111-bfcd8075048a')\"\n",
              "              title=\"Convert this dataframe to an interactive table.\"\n",
              "              style=\"display:none;\">\n",
              "        \n",
              "  <svg xmlns=\"http://www.w3.org/2000/svg\" height=\"24px\"viewBox=\"0 0 24 24\"\n",
              "       width=\"24px\">\n",
              "    <path d=\"M0 0h24v24H0V0z\" fill=\"none\"/>\n",
              "    <path d=\"M18.56 5.44l.94 2.06.94-2.06 2.06-.94-2.06-.94-.94-2.06-.94 2.06-2.06.94zm-11 1L8.5 8.5l.94-2.06 2.06-.94-2.06-.94L8.5 2.5l-.94 2.06-2.06.94zm10 10l.94 2.06.94-2.06 2.06-.94-2.06-.94-.94-2.06-.94 2.06-2.06.94z\"/><path d=\"M17.41 7.96l-1.37-1.37c-.4-.4-.92-.59-1.43-.59-.52 0-1.04.2-1.43.59L10.3 9.45l-7.72 7.72c-.78.78-.78 2.05 0 2.83L4 21.41c.39.39.9.59 1.41.59.51 0 1.02-.2 1.41-.59l7.78-7.78 2.81-2.81c.8-.78.8-2.07 0-2.86zM5.41 20L4 18.59l7.72-7.72 1.47 1.35L5.41 20z\"/>\n",
              "  </svg>\n",
              "      </button>\n",
              "      \n",
              "  <style>\n",
              "    .colab-df-container {\n",
              "      display:flex;\n",
              "      flex-wrap:wrap;\n",
              "      gap: 12px;\n",
              "    }\n",
              "\n",
              "    .colab-df-convert {\n",
              "      background-color: #E8F0FE;\n",
              "      border: none;\n",
              "      border-radius: 50%;\n",
              "      cursor: pointer;\n",
              "      display: none;\n",
              "      fill: #1967D2;\n",
              "      height: 32px;\n",
              "      padding: 0 0 0 0;\n",
              "      width: 32px;\n",
              "    }\n",
              "\n",
              "    .colab-df-convert:hover {\n",
              "      background-color: #E2EBFA;\n",
              "      box-shadow: 0px 1px 2px rgba(60, 64, 67, 0.3), 0px 1px 3px 1px rgba(60, 64, 67, 0.15);\n",
              "      fill: #174EA6;\n",
              "    }\n",
              "\n",
              "    [theme=dark] .colab-df-convert {\n",
              "      background-color: #3B4455;\n",
              "      fill: #D2E3FC;\n",
              "    }\n",
              "\n",
              "    [theme=dark] .colab-df-convert:hover {\n",
              "      background-color: #434B5C;\n",
              "      box-shadow: 0px 1px 3px 1px rgba(0, 0, 0, 0.15);\n",
              "      filter: drop-shadow(0px 1px 2px rgba(0, 0, 0, 0.3));\n",
              "      fill: #FFFFFF;\n",
              "    }\n",
              "  </style>\n",
              "\n",
              "      <script>\n",
              "        const buttonEl =\n",
              "          document.querySelector('#df-0b91e2a5-17fa-426b-8111-bfcd8075048a button.colab-df-convert');\n",
              "        buttonEl.style.display =\n",
              "          google.colab.kernel.accessAllowed ? 'block' : 'none';\n",
              "\n",
              "        async function convertToInteractive(key) {\n",
              "          const element = document.querySelector('#df-0b91e2a5-17fa-426b-8111-bfcd8075048a');\n",
              "          const dataTable =\n",
              "            await google.colab.kernel.invokeFunction('convertToInteractive',\n",
              "                                                     [key], {});\n",
              "          if (!dataTable) return;\n",
              "\n",
              "          const docLinkHtml = 'Like what you see? Visit the ' +\n",
              "            '<a target=\"_blank\" href=https://colab.research.google.com/notebooks/data_table.ipynb>data table notebook</a>'\n",
              "            + ' to learn more about interactive tables.';\n",
              "          element.innerHTML = '';\n",
              "          dataTable['output_type'] = 'display_data';\n",
              "          await google.colab.output.renderOutput(dataTable, element);\n",
              "          const docLink = document.createElement('div');\n",
              "          docLink.innerHTML = docLinkHtml;\n",
              "          element.appendChild(docLink);\n",
              "        }\n",
              "      </script>\n",
              "    </div>\n",
              "  </div>\n",
              "  "
            ]
          },
          "metadata": {},
          "execution_count": 658
        }
      ]
    },
    {
      "cell_type": "markdown",
      "source": [
        "# Data Cleaning "
      ],
      "metadata": {
        "id": "kY4LrHh-f8CE"
      }
    },
    {
      "cell_type": "markdown",
      "source": [
        "Droping unnecessary columns"
      ],
      "metadata": {
        "id": "YCBHluoag4d0"
      }
    },
    {
      "cell_type": "code",
      "source": [
        "# we can see the UID and product ID column is unique hence it will cause overfit lets drop them\n",
        "df.drop([\"UDI\",\"Product ID\"],axis=1,inplace=True)"
      ],
      "metadata": {
        "id": "Vqoic1B-g36d"
      },
      "execution_count": null,
      "outputs": []
    },
    {
      "cell_type": "code",
      "source": [
        "df.columns"
      ],
      "metadata": {
        "colab": {
          "base_uri": "https://localhost:8080/"
        },
        "id": "iXXb8XYIhXU7",
        "outputId": "c5d3307b-6a1c-433c-d42d-1cc8d8bb34ef"
      },
      "execution_count": null,
      "outputs": [
        {
          "output_type": "execute_result",
          "data": {
            "text/plain": [
              "Index(['Type', 'Air temperature [K]', 'Process temperature [K]',\n",
              "       'Rotational speed [rpm]', 'Torque [Nm]', 'Tool wear [min]', 'Target',\n",
              "       'Failure Type'],\n",
              "      dtype='object')"
            ]
          },
          "metadata": {},
          "execution_count": 660
        }
      ]
    },
    {
      "cell_type": "code",
      "source": [
        "#Renaming the columns for easy access\n",
        "df=df.rename(columns={'Air temperature [K]':\"air_temperature\",'Process temperature [K]':\"process_temperature\",\n",
        "       'Rotational speed [rpm]':\"rotational_speed\", 'Torque [Nm]':\"torque\", 'Tool wear [min]':\"tool_wear\",\"Failure Type\":\"failure_type\"})"
      ],
      "metadata": {
        "id": "gKz-Ia4qhb4C"
      },
      "execution_count": null,
      "outputs": []
    },
    {
      "cell_type": "code",
      "source": [
        "# Renaming all the column names in lowercase letters\n",
        "df.columns = df.columns.str.lower()"
      ],
      "metadata": {
        "id": "pBg8uXuFh-Sk"
      },
      "execution_count": null,
      "outputs": []
    },
    {
      "cell_type": "code",
      "source": [
        "df.columns"
      ],
      "metadata": {
        "colab": {
          "base_uri": "https://localhost:8080/"
        },
        "id": "INFMEnwPiKIS",
        "outputId": "ff126628-3c19-4f7a-c57a-f259890c5cf6"
      },
      "execution_count": null,
      "outputs": [
        {
          "output_type": "execute_result",
          "data": {
            "text/plain": [
              "Index(['type', 'air_temperature', 'process_temperature', 'rotational_speed',\n",
              "       'torque', 'tool_wear', 'target', 'failure_type'],\n",
              "      dtype='object')"
            ]
          },
          "metadata": {},
          "execution_count": 663
        }
      ]
    },
    {
      "cell_type": "markdown",
      "source": [
        "\n",
        "\n",
        "Handling Missing value\n"
      ],
      "metadata": {
        "id": "hEbh5Sf4gJ8d"
      }
    },
    {
      "cell_type": "code",
      "source": [
        "df.isnull().sum()   #no null values in the dataset "
      ],
      "metadata": {
        "colab": {
          "base_uri": "https://localhost:8080/"
        },
        "id": "UKeRnW-RerVF",
        "outputId": "14573a0f-b045-4d38-86e3-3c4e2baea9ec"
      },
      "execution_count": null,
      "outputs": [
        {
          "output_type": "execute_result",
          "data": {
            "text/plain": [
              "type                   0\n",
              "air_temperature        0\n",
              "process_temperature    0\n",
              "rotational_speed       0\n",
              "torque                 0\n",
              "tool_wear              0\n",
              "target                 0\n",
              "failure_type           0\n",
              "dtype: int64"
            ]
          },
          "metadata": {},
          "execution_count": 664
        }
      ]
    },
    {
      "cell_type": "code",
      "source": [
        "#from the description we can see tool wear in minuteas has 0 values \n",
        "df[df[\"tool_wear\"]==0].shape  #so 120 rows out of 10000 rows has 0 tool wear min so we can drop them "
      ],
      "metadata": {
        "colab": {
          "base_uri": "https://localhost:8080/"
        },
        "id": "rbkSW4t1gBmJ",
        "outputId": "8063cfc4-aad2-4b4d-d4ab-a961827d6914"
      },
      "execution_count": null,
      "outputs": [
        {
          "output_type": "execute_result",
          "data": {
            "text/plain": [
              "(120, 8)"
            ]
          },
          "metadata": {},
          "execution_count": 665
        }
      ]
    },
    {
      "cell_type": "code",
      "source": [
        "df=df[~(df[\"tool_wear\"]==0)]"
      ],
      "metadata": {
        "id": "s0Plpfy3jsvf"
      },
      "execution_count": null,
      "outputs": []
    },
    {
      "cell_type": "code",
      "source": [
        "df.shape  #120 rows deleted"
      ],
      "metadata": {
        "colab": {
          "base_uri": "https://localhost:8080/"
        },
        "id": "RdVbyCIYkRhz",
        "outputId": "e4d6d3f0-27e0-457d-d84b-7d9e2b37be60"
      },
      "execution_count": null,
      "outputs": [
        {
          "output_type": "execute_result",
          "data": {
            "text/plain": [
              "(9880, 8)"
            ]
          },
          "metadata": {},
          "execution_count": 667
        }
      ]
    },
    {
      "cell_type": "code",
      "source": [
        "df.describe() # min value of tool_wear is no 2 minutes "
      ],
      "metadata": {
        "colab": {
          "base_uri": "https://localhost:8080/",
          "height": 300
        },
        "id": "OXqs3vaVj9IZ",
        "outputId": "7e4984ee-3a30-4c50-a93e-dfbfaa4e4d1c"
      },
      "execution_count": null,
      "outputs": [
        {
          "output_type": "execute_result",
          "data": {
            "text/plain": [
              "       air_temperature  process_temperature  rotational_speed       torque  \\\n",
              "count      9880.000000          9880.000000       9880.000000  9880.000000   \n",
              "mean        300.005516           310.006164       1538.944433    39.978715   \n",
              "std           2.000113             1.483590        179.581327     9.977527   \n",
              "min         295.300000           305.700000       1168.000000     3.800000   \n",
              "25%         298.300000           308.800000       1423.000000    33.200000   \n",
              "50%         300.100000           310.100000       1503.000000    40.100000   \n",
              "75%         301.500000           311.100000       1612.000000    46.800000   \n",
              "max         304.500000           313.800000       2886.000000    76.600000   \n",
              "\n",
              "         tool_wear       target  \n",
              "count  9880.000000  9880.000000  \n",
              "mean    109.262146     0.034008  \n",
              "std      62.911009     0.181259  \n",
              "min       2.000000     0.000000  \n",
              "25%      55.000000     0.000000  \n",
              "50%     109.000000     0.000000  \n",
              "75%     163.000000     0.000000  \n",
              "max     253.000000     1.000000  "
            ],
            "text/html": [
              "\n",
              "  <div id=\"df-d32df1d4-c8a2-40fd-8763-e4ec0a5d5b81\">\n",
              "    <div class=\"colab-df-container\">\n",
              "      <div>\n",
              "<style scoped>\n",
              "    .dataframe tbody tr th:only-of-type {\n",
              "        vertical-align: middle;\n",
              "    }\n",
              "\n",
              "    .dataframe tbody tr th {\n",
              "        vertical-align: top;\n",
              "    }\n",
              "\n",
              "    .dataframe thead th {\n",
              "        text-align: right;\n",
              "    }\n",
              "</style>\n",
              "<table border=\"1\" class=\"dataframe\">\n",
              "  <thead>\n",
              "    <tr style=\"text-align: right;\">\n",
              "      <th></th>\n",
              "      <th>air_temperature</th>\n",
              "      <th>process_temperature</th>\n",
              "      <th>rotational_speed</th>\n",
              "      <th>torque</th>\n",
              "      <th>tool_wear</th>\n",
              "      <th>target</th>\n",
              "    </tr>\n",
              "  </thead>\n",
              "  <tbody>\n",
              "    <tr>\n",
              "      <th>count</th>\n",
              "      <td>9880.000000</td>\n",
              "      <td>9880.000000</td>\n",
              "      <td>9880.000000</td>\n",
              "      <td>9880.000000</td>\n",
              "      <td>9880.000000</td>\n",
              "      <td>9880.000000</td>\n",
              "    </tr>\n",
              "    <tr>\n",
              "      <th>mean</th>\n",
              "      <td>300.005516</td>\n",
              "      <td>310.006164</td>\n",
              "      <td>1538.944433</td>\n",
              "      <td>39.978715</td>\n",
              "      <td>109.262146</td>\n",
              "      <td>0.034008</td>\n",
              "    </tr>\n",
              "    <tr>\n",
              "      <th>std</th>\n",
              "      <td>2.000113</td>\n",
              "      <td>1.483590</td>\n",
              "      <td>179.581327</td>\n",
              "      <td>9.977527</td>\n",
              "      <td>62.911009</td>\n",
              "      <td>0.181259</td>\n",
              "    </tr>\n",
              "    <tr>\n",
              "      <th>min</th>\n",
              "      <td>295.300000</td>\n",
              "      <td>305.700000</td>\n",
              "      <td>1168.000000</td>\n",
              "      <td>3.800000</td>\n",
              "      <td>2.000000</td>\n",
              "      <td>0.000000</td>\n",
              "    </tr>\n",
              "    <tr>\n",
              "      <th>25%</th>\n",
              "      <td>298.300000</td>\n",
              "      <td>308.800000</td>\n",
              "      <td>1423.000000</td>\n",
              "      <td>33.200000</td>\n",
              "      <td>55.000000</td>\n",
              "      <td>0.000000</td>\n",
              "    </tr>\n",
              "    <tr>\n",
              "      <th>50%</th>\n",
              "      <td>300.100000</td>\n",
              "      <td>310.100000</td>\n",
              "      <td>1503.000000</td>\n",
              "      <td>40.100000</td>\n",
              "      <td>109.000000</td>\n",
              "      <td>0.000000</td>\n",
              "    </tr>\n",
              "    <tr>\n",
              "      <th>75%</th>\n",
              "      <td>301.500000</td>\n",
              "      <td>311.100000</td>\n",
              "      <td>1612.000000</td>\n",
              "      <td>46.800000</td>\n",
              "      <td>163.000000</td>\n",
              "      <td>0.000000</td>\n",
              "    </tr>\n",
              "    <tr>\n",
              "      <th>max</th>\n",
              "      <td>304.500000</td>\n",
              "      <td>313.800000</td>\n",
              "      <td>2886.000000</td>\n",
              "      <td>76.600000</td>\n",
              "      <td>253.000000</td>\n",
              "      <td>1.000000</td>\n",
              "    </tr>\n",
              "  </tbody>\n",
              "</table>\n",
              "</div>\n",
              "      <button class=\"colab-df-convert\" onclick=\"convertToInteractive('df-d32df1d4-c8a2-40fd-8763-e4ec0a5d5b81')\"\n",
              "              title=\"Convert this dataframe to an interactive table.\"\n",
              "              style=\"display:none;\">\n",
              "        \n",
              "  <svg xmlns=\"http://www.w3.org/2000/svg\" height=\"24px\"viewBox=\"0 0 24 24\"\n",
              "       width=\"24px\">\n",
              "    <path d=\"M0 0h24v24H0V0z\" fill=\"none\"/>\n",
              "    <path d=\"M18.56 5.44l.94 2.06.94-2.06 2.06-.94-2.06-.94-.94-2.06-.94 2.06-2.06.94zm-11 1L8.5 8.5l.94-2.06 2.06-.94-2.06-.94L8.5 2.5l-.94 2.06-2.06.94zm10 10l.94 2.06.94-2.06 2.06-.94-2.06-.94-.94-2.06-.94 2.06-2.06.94z\"/><path d=\"M17.41 7.96l-1.37-1.37c-.4-.4-.92-.59-1.43-.59-.52 0-1.04.2-1.43.59L10.3 9.45l-7.72 7.72c-.78.78-.78 2.05 0 2.83L4 21.41c.39.39.9.59 1.41.59.51 0 1.02-.2 1.41-.59l7.78-7.78 2.81-2.81c.8-.78.8-2.07 0-2.86zM5.41 20L4 18.59l7.72-7.72 1.47 1.35L5.41 20z\"/>\n",
              "  </svg>\n",
              "      </button>\n",
              "      \n",
              "  <style>\n",
              "    .colab-df-container {\n",
              "      display:flex;\n",
              "      flex-wrap:wrap;\n",
              "      gap: 12px;\n",
              "    }\n",
              "\n",
              "    .colab-df-convert {\n",
              "      background-color: #E8F0FE;\n",
              "      border: none;\n",
              "      border-radius: 50%;\n",
              "      cursor: pointer;\n",
              "      display: none;\n",
              "      fill: #1967D2;\n",
              "      height: 32px;\n",
              "      padding: 0 0 0 0;\n",
              "      width: 32px;\n",
              "    }\n",
              "\n",
              "    .colab-df-convert:hover {\n",
              "      background-color: #E2EBFA;\n",
              "      box-shadow: 0px 1px 2px rgba(60, 64, 67, 0.3), 0px 1px 3px 1px rgba(60, 64, 67, 0.15);\n",
              "      fill: #174EA6;\n",
              "    }\n",
              "\n",
              "    [theme=dark] .colab-df-convert {\n",
              "      background-color: #3B4455;\n",
              "      fill: #D2E3FC;\n",
              "    }\n",
              "\n",
              "    [theme=dark] .colab-df-convert:hover {\n",
              "      background-color: #434B5C;\n",
              "      box-shadow: 0px 1px 3px 1px rgba(0, 0, 0, 0.15);\n",
              "      filter: drop-shadow(0px 1px 2px rgba(0, 0, 0, 0.3));\n",
              "      fill: #FFFFFF;\n",
              "    }\n",
              "  </style>\n",
              "\n",
              "      <script>\n",
              "        const buttonEl =\n",
              "          document.querySelector('#df-d32df1d4-c8a2-40fd-8763-e4ec0a5d5b81 button.colab-df-convert');\n",
              "        buttonEl.style.display =\n",
              "          google.colab.kernel.accessAllowed ? 'block' : 'none';\n",
              "\n",
              "        async function convertToInteractive(key) {\n",
              "          const element = document.querySelector('#df-d32df1d4-c8a2-40fd-8763-e4ec0a5d5b81');\n",
              "          const dataTable =\n",
              "            await google.colab.kernel.invokeFunction('convertToInteractive',\n",
              "                                                     [key], {});\n",
              "          if (!dataTable) return;\n",
              "\n",
              "          const docLinkHtml = 'Like what you see? Visit the ' +\n",
              "            '<a target=\"_blank\" href=https://colab.research.google.com/notebooks/data_table.ipynb>data table notebook</a>'\n",
              "            + ' to learn more about interactive tables.';\n",
              "          element.innerHTML = '';\n",
              "          dataTable['output_type'] = 'display_data';\n",
              "          await google.colab.output.renderOutput(dataTable, element);\n",
              "          const docLink = document.createElement('div');\n",
              "          docLink.innerHTML = docLinkHtml;\n",
              "          element.appendChild(docLink);\n",
              "        }\n",
              "      </script>\n",
              "    </div>\n",
              "  </div>\n",
              "  "
            ]
          },
          "metadata": {},
          "execution_count": 668
        }
      ]
    },
    {
      "cell_type": "markdown",
      "source": [
        "Formatting Error"
      ],
      "metadata": {
        "id": "aQgQ8SkIkjb_"
      }
    },
    {
      "cell_type": "code",
      "source": [
        "df.dtypes   #all the datatype values is correct "
      ],
      "metadata": {
        "colab": {
          "base_uri": "https://localhost:8080/"
        },
        "id": "j14cvNShj-UY",
        "outputId": "90ecb3c4-33f5-4b06-ff0a-e1e6e4e38b17"
      },
      "execution_count": null,
      "outputs": [
        {
          "output_type": "execute_result",
          "data": {
            "text/plain": [
              "type                    object\n",
              "air_temperature        float64\n",
              "process_temperature    float64\n",
              "rotational_speed         int64\n",
              "torque                 float64\n",
              "tool_wear                int64\n",
              "target                   int64\n",
              "failure_type            object\n",
              "dtype: object"
            ]
          },
          "metadata": {},
          "execution_count": 669
        }
      ]
    },
    {
      "cell_type": "code",
      "source": [
        "df[\"type\"].unique()   #type of tool is given low/medium/high carbon steel tool "
      ],
      "metadata": {
        "colab": {
          "base_uri": "https://localhost:8080/"
        },
        "id": "4a4fT-IIkdw3",
        "outputId": "e0cf4cac-a119-40d6-dcb1-875efaf8b704"
      },
      "execution_count": null,
      "outputs": [
        {
          "output_type": "execute_result",
          "data": {
            "text/plain": [
              "array(['L', 'M', 'H'], dtype=object)"
            ]
          },
          "metadata": {},
          "execution_count": 670
        }
      ]
    },
    {
      "cell_type": "code",
      "source": [
        "df[\"target\"].unique()   # 0 means no failure # 1 means failure"
      ],
      "metadata": {
        "colab": {
          "base_uri": "https://localhost:8080/"
        },
        "id": "7EjSjaealOYK",
        "outputId": "e94d67e8-72e7-4fdb-b48a-5c6a1f072650"
      },
      "execution_count": null,
      "outputs": [
        {
          "output_type": "execute_result",
          "data": {
            "text/plain": [
              "array([0, 1])"
            ]
          },
          "metadata": {},
          "execution_count": 671
        }
      ]
    },
    {
      "cell_type": "code",
      "source": [
        "df[\"failure_type\"].unique()  #failure_type contains all type of failure in organisation"
      ],
      "metadata": {
        "colab": {
          "base_uri": "https://localhost:8080/"
        },
        "id": "9yvmjRh-kpbv",
        "outputId": "c5d7487c-46ef-4df5-e006-2ee835673dd1"
      },
      "execution_count": null,
      "outputs": [
        {
          "output_type": "execute_result",
          "data": {
            "text/plain": [
              "array(['No Failure', 'Power Failure', 'Tool Wear Failure',\n",
              "       'Overstrain Failure', 'Random Failures',\n",
              "       'Heat Dissipation Failure'], dtype=object)"
            ]
          },
          "metadata": {},
          "execution_count": 672
        }
      ]
    },
    {
      "cell_type": "markdown",
      "source": [
        "**Lets create new dataframe for failure type as target multiclass classification **"
      ],
      "metadata": {
        "id": "6RpfSKdoUklW"
      }
    },
    {
      "cell_type": "code",
      "source": [
        "df_failtype_no=df[df[\"target\"]==0]   # target==0 is the no failure "
      ],
      "metadata": {
        "id": "OtIb8IqdU0HV"
      },
      "execution_count": null,
      "outputs": []
    },
    {
      "cell_type": "code",
      "source": [
        "df_failtype_no[\"target\"].unique()"
      ],
      "metadata": {
        "colab": {
          "base_uri": "https://localhost:8080/"
        },
        "id": "qkHqP71oXGKf",
        "outputId": "93e1c245-c876-4076-b4bb-adf40e91900c"
      },
      "execution_count": null,
      "outputs": [
        {
          "output_type": "execute_result",
          "data": {
            "text/plain": [
              "array([0])"
            ]
          },
          "metadata": {},
          "execution_count": 674
        }
      ]
    },
    {
      "cell_type": "code",
      "source": [
        "df_failtype_no[\"failure_type\"].unique()    #random failure is present we want so when we filter target==1 then random failure will disappear"
      ],
      "metadata": {
        "colab": {
          "base_uri": "https://localhost:8080/"
        },
        "id": "dsZQtwrFW4im",
        "outputId": "9eea3969-2cf9-4979-c772-ba395292d25b"
      },
      "execution_count": null,
      "outputs": [
        {
          "output_type": "execute_result",
          "data": {
            "text/plain": [
              "array(['No Failure', 'Random Failures'], dtype=object)"
            ]
          },
          "metadata": {},
          "execution_count": 675
        }
      ]
    },
    {
      "cell_type": "code",
      "source": [
        "df_failtype_no.drop([\"target\"],axis=1,inplace=True)"
      ],
      "metadata": {
        "id": "Pys8t1igVG7W"
      },
      "execution_count": null,
      "outputs": []
    },
    {
      "cell_type": "code",
      "source": [
        "df_failtype_no.head()   #this dataframe is used for Multi class classification "
      ],
      "metadata": {
        "colab": {
          "base_uri": "https://localhost:8080/",
          "height": 206
        },
        "id": "7AvCZ7hzU5dQ",
        "outputId": "3726146d-19db-4b3b-d80d-b49fb1b444fe"
      },
      "execution_count": null,
      "outputs": [
        {
          "output_type": "execute_result",
          "data": {
            "text/plain": [
              "  type  air_temperature  process_temperature  rotational_speed  torque  \\\n",
              "1    L            298.2                308.7              1408    46.3   \n",
              "2    L            298.1                308.5              1498    49.4   \n",
              "3    L            298.2                308.6              1433    39.5   \n",
              "4    L            298.2                308.7              1408    40.0   \n",
              "5    M            298.1                308.6              1425    41.9   \n",
              "\n",
              "   tool_wear failure_type  \n",
              "1          3   No Failure  \n",
              "2          5   No Failure  \n",
              "3          7   No Failure  \n",
              "4          9   No Failure  \n",
              "5         11   No Failure  "
            ],
            "text/html": [
              "\n",
              "  <div id=\"df-627ba7f2-6c59-48e2-94fd-b1b0f734488f\">\n",
              "    <div class=\"colab-df-container\">\n",
              "      <div>\n",
              "<style scoped>\n",
              "    .dataframe tbody tr th:only-of-type {\n",
              "        vertical-align: middle;\n",
              "    }\n",
              "\n",
              "    .dataframe tbody tr th {\n",
              "        vertical-align: top;\n",
              "    }\n",
              "\n",
              "    .dataframe thead th {\n",
              "        text-align: right;\n",
              "    }\n",
              "</style>\n",
              "<table border=\"1\" class=\"dataframe\">\n",
              "  <thead>\n",
              "    <tr style=\"text-align: right;\">\n",
              "      <th></th>\n",
              "      <th>type</th>\n",
              "      <th>air_temperature</th>\n",
              "      <th>process_temperature</th>\n",
              "      <th>rotational_speed</th>\n",
              "      <th>torque</th>\n",
              "      <th>tool_wear</th>\n",
              "      <th>failure_type</th>\n",
              "    </tr>\n",
              "  </thead>\n",
              "  <tbody>\n",
              "    <tr>\n",
              "      <th>1</th>\n",
              "      <td>L</td>\n",
              "      <td>298.2</td>\n",
              "      <td>308.7</td>\n",
              "      <td>1408</td>\n",
              "      <td>46.3</td>\n",
              "      <td>3</td>\n",
              "      <td>No Failure</td>\n",
              "    </tr>\n",
              "    <tr>\n",
              "      <th>2</th>\n",
              "      <td>L</td>\n",
              "      <td>298.1</td>\n",
              "      <td>308.5</td>\n",
              "      <td>1498</td>\n",
              "      <td>49.4</td>\n",
              "      <td>5</td>\n",
              "      <td>No Failure</td>\n",
              "    </tr>\n",
              "    <tr>\n",
              "      <th>3</th>\n",
              "      <td>L</td>\n",
              "      <td>298.2</td>\n",
              "      <td>308.6</td>\n",
              "      <td>1433</td>\n",
              "      <td>39.5</td>\n",
              "      <td>7</td>\n",
              "      <td>No Failure</td>\n",
              "    </tr>\n",
              "    <tr>\n",
              "      <th>4</th>\n",
              "      <td>L</td>\n",
              "      <td>298.2</td>\n",
              "      <td>308.7</td>\n",
              "      <td>1408</td>\n",
              "      <td>40.0</td>\n",
              "      <td>9</td>\n",
              "      <td>No Failure</td>\n",
              "    </tr>\n",
              "    <tr>\n",
              "      <th>5</th>\n",
              "      <td>M</td>\n",
              "      <td>298.1</td>\n",
              "      <td>308.6</td>\n",
              "      <td>1425</td>\n",
              "      <td>41.9</td>\n",
              "      <td>11</td>\n",
              "      <td>No Failure</td>\n",
              "    </tr>\n",
              "  </tbody>\n",
              "</table>\n",
              "</div>\n",
              "      <button class=\"colab-df-convert\" onclick=\"convertToInteractive('df-627ba7f2-6c59-48e2-94fd-b1b0f734488f')\"\n",
              "              title=\"Convert this dataframe to an interactive table.\"\n",
              "              style=\"display:none;\">\n",
              "        \n",
              "  <svg xmlns=\"http://www.w3.org/2000/svg\" height=\"24px\"viewBox=\"0 0 24 24\"\n",
              "       width=\"24px\">\n",
              "    <path d=\"M0 0h24v24H0V0z\" fill=\"none\"/>\n",
              "    <path d=\"M18.56 5.44l.94 2.06.94-2.06 2.06-.94-2.06-.94-.94-2.06-.94 2.06-2.06.94zm-11 1L8.5 8.5l.94-2.06 2.06-.94-2.06-.94L8.5 2.5l-.94 2.06-2.06.94zm10 10l.94 2.06.94-2.06 2.06-.94-2.06-.94-.94-2.06-.94 2.06-2.06.94z\"/><path d=\"M17.41 7.96l-1.37-1.37c-.4-.4-.92-.59-1.43-.59-.52 0-1.04.2-1.43.59L10.3 9.45l-7.72 7.72c-.78.78-.78 2.05 0 2.83L4 21.41c.39.39.9.59 1.41.59.51 0 1.02-.2 1.41-.59l7.78-7.78 2.81-2.81c.8-.78.8-2.07 0-2.86zM5.41 20L4 18.59l7.72-7.72 1.47 1.35L5.41 20z\"/>\n",
              "  </svg>\n",
              "      </button>\n",
              "      \n",
              "  <style>\n",
              "    .colab-df-container {\n",
              "      display:flex;\n",
              "      flex-wrap:wrap;\n",
              "      gap: 12px;\n",
              "    }\n",
              "\n",
              "    .colab-df-convert {\n",
              "      background-color: #E8F0FE;\n",
              "      border: none;\n",
              "      border-radius: 50%;\n",
              "      cursor: pointer;\n",
              "      display: none;\n",
              "      fill: #1967D2;\n",
              "      height: 32px;\n",
              "      padding: 0 0 0 0;\n",
              "      width: 32px;\n",
              "    }\n",
              "\n",
              "    .colab-df-convert:hover {\n",
              "      background-color: #E2EBFA;\n",
              "      box-shadow: 0px 1px 2px rgba(60, 64, 67, 0.3), 0px 1px 3px 1px rgba(60, 64, 67, 0.15);\n",
              "      fill: #174EA6;\n",
              "    }\n",
              "\n",
              "    [theme=dark] .colab-df-convert {\n",
              "      background-color: #3B4455;\n",
              "      fill: #D2E3FC;\n",
              "    }\n",
              "\n",
              "    [theme=dark] .colab-df-convert:hover {\n",
              "      background-color: #434B5C;\n",
              "      box-shadow: 0px 1px 3px 1px rgba(0, 0, 0, 0.15);\n",
              "      filter: drop-shadow(0px 1px 2px rgba(0, 0, 0, 0.3));\n",
              "      fill: #FFFFFF;\n",
              "    }\n",
              "  </style>\n",
              "\n",
              "      <script>\n",
              "        const buttonEl =\n",
              "          document.querySelector('#df-627ba7f2-6c59-48e2-94fd-b1b0f734488f button.colab-df-convert');\n",
              "        buttonEl.style.display =\n",
              "          google.colab.kernel.accessAllowed ? 'block' : 'none';\n",
              "\n",
              "        async function convertToInteractive(key) {\n",
              "          const element = document.querySelector('#df-627ba7f2-6c59-48e2-94fd-b1b0f734488f');\n",
              "          const dataTable =\n",
              "            await google.colab.kernel.invokeFunction('convertToInteractive',\n",
              "                                                     [key], {});\n",
              "          if (!dataTable) return;\n",
              "\n",
              "          const docLinkHtml = 'Like what you see? Visit the ' +\n",
              "            '<a target=\"_blank\" href=https://colab.research.google.com/notebooks/data_table.ipynb>data table notebook</a>'\n",
              "            + ' to learn more about interactive tables.';\n",
              "          element.innerHTML = '';\n",
              "          dataTable['output_type'] = 'display_data';\n",
              "          await google.colab.output.renderOutput(dataTable, element);\n",
              "          const docLink = document.createElement('div');\n",
              "          docLink.innerHTML = docLinkHtml;\n",
              "          element.appendChild(docLink);\n",
              "        }\n",
              "      </script>\n",
              "    </div>\n",
              "  </div>\n",
              "  "
            ]
          },
          "metadata": {},
          "execution_count": 677
        }
      ]
    },
    {
      "cell_type": "code",
      "source": [
        "df_failtype_no[\"failure_type\"].value_counts()  # we can drop rows with random failure "
      ],
      "metadata": {
        "colab": {
          "base_uri": "https://localhost:8080/"
        },
        "id": "eFUS4AbQXoCW",
        "outputId": "b5d4b494-a3c6-405a-8c19-fc2c48e13f8f"
      },
      "execution_count": null,
      "outputs": [
        {
          "output_type": "execute_result",
          "data": {
            "text/plain": [
              "No Failure         9526\n",
              "Random Failures      18\n",
              "Name: failure_type, dtype: int64"
            ]
          },
          "metadata": {},
          "execution_count": 678
        }
      ]
    },
    {
      "cell_type": "code",
      "source": [
        "df_failure=df[(df[\"target\"]==1) & (~(df[\"failure_type\"].isin([\"Random Failures\",\"No Failure\"])))]   # no failure is present in failure_type column even when target=1"
      ],
      "metadata": {
        "id": "bTVQ9OwjYBVe"
      },
      "execution_count": null,
      "outputs": []
    },
    {
      "cell_type": "code",
      "source": [
        "df_failure.failure_type.unique()"
      ],
      "metadata": {
        "colab": {
          "base_uri": "https://localhost:8080/"
        },
        "id": "laUW1PGsYdgV",
        "outputId": "2c674914-b72b-410d-e01c-2be7f88a2910"
      },
      "execution_count": null,
      "outputs": [
        {
          "output_type": "execute_result",
          "data": {
            "text/plain": [
              "array(['Power Failure', 'Tool Wear Failure', 'Overstrain Failure',\n",
              "       'Heat Dissipation Failure'], dtype=object)"
            ]
          },
          "metadata": {},
          "execution_count": 680
        }
      ]
    },
    {
      "cell_type": "code",
      "source": [
        "df_failure.drop([\"target\"],axis=1,inplace=True)"
      ],
      "metadata": {
        "id": "OjB0fiYoZI4T"
      },
      "execution_count": null,
      "outputs": []
    },
    {
      "cell_type": "markdown",
      "source": [
        "# Exploratory Data analysis "
      ],
      "metadata": {
        "id": "HcrgwGcGlDbv"
      }
    },
    {
      "cell_type": "markdown",
      "source": [
        "The targets features are:\n",
        "\n",
        "* target: failure or no failure (to perform binary classification).\n",
        "* failure_type: type of failure (to perform multiclass classification).\n"
      ],
      "metadata": {
        "id": "_h-lR_WVl4g9"
      }
    },
    {
      "cell_type": "markdown",
      "source": [
        "with df table as target to be predicted\n",
        "\n",
        "Plotting of Numerical data vs target(failure or no failure)"
      ],
      "metadata": {
        "id": "_WzpHyavlvo5"
      }
    },
    {
      "cell_type": "code",
      "source": [
        "df.drop([\"failure_type\"],axis=1,inplace=True)"
      ],
      "metadata": {
        "id": "gSfdVWt3VsqX"
      },
      "execution_count": null,
      "outputs": []
    },
    {
      "cell_type": "code",
      "source": [
        "df[\"target\"].unique()   # 0 means no failure     # 1 means failure"
      ],
      "metadata": {
        "colab": {
          "base_uri": "https://localhost:8080/"
        },
        "id": "4VNaFMIYkype",
        "outputId": "1bb273a9-1482-4fbd-a286-e7b5b8bf4027"
      },
      "execution_count": null,
      "outputs": [
        {
          "output_type": "execute_result",
          "data": {
            "text/plain": [
              "array([0, 1])"
            ]
          },
          "metadata": {},
          "execution_count": 683
        }
      ]
    },
    {
      "cell_type": "code",
      "source": [
        "print(df[\"target\"].value_counts())\n",
        "print(\"Percentage of 0(no failure class) : \", df[\"target\"].value_counts()[0]*100/df[\"target\"].value_counts().sum())\n",
        "print(\"Percentage of 1(failure class) : \" ,df[\"target\"].value_counts()[1]*100/df[\"target\"].value_counts().sum())\n",
        "#this is Highly imbalanced data"
      ],
      "metadata": {
        "colab": {
          "base_uri": "https://localhost:8080/"
        },
        "id": "KhibNVR9me4x",
        "outputId": "7bc7d289-65ac-4a74-ce5f-be13508c250d"
      },
      "execution_count": null,
      "outputs": [
        {
          "output_type": "stream",
          "name": "stdout",
          "text": [
            "0    9544\n",
            "1     336\n",
            "Name: target, dtype: int64\n",
            "Percentage of 0(no failure class) :  96.59919028340082\n",
            "Percentage of 1(failure class) :  3.4008097165991904\n"
          ]
        }
      ]
    },
    {
      "cell_type": "code",
      "source": [
        "plt.figure(figsize=(6,6))\n",
        "plt.pie(df.target.value_counts(),labels=[\"Not failure\",\"Failure\"],autopct=\"%1.2f%%\")\n",
        "plt.title(\"Failure vs Not Failure\")\n",
        "plt.show() #this is Highly imbalanced data"
      ],
      "metadata": {
        "colab": {
          "base_uri": "https://localhost:8080/",
          "height": 373
        },
        "id": "icD1LrcxqwlD",
        "outputId": "e129b0f9-a9ce-4dc3-b6e0-630e0982cbf3"
      },
      "execution_count": null,
      "outputs": [
        {
          "output_type": "display_data",
          "data": {
            "text/plain": [
              "<Figure size 432x432 with 1 Axes>"
            ],
            "image/png": "[encoded data removed]"
          },
          "metadata": {}
        }
      ]
    },
    {
      "cell_type": "code",
      "source": [
        "df.columns"
      ],
      "metadata": {
        "colab": {
          "base_uri": "https://localhost:8080/"
        },
        "id": "J5h3l3b4pyRU",
        "outputId": "915e0d94-5339-431f-8f6e-a8e73e0f554f"
      },
      "execution_count": null,
      "outputs": [
        {
          "output_type": "execute_result",
          "data": {
            "text/plain": [
              "Index(['type', 'air_temperature', 'process_temperature', 'rotational_speed',\n",
              "       'torque', 'tool_wear', 'target'],\n",
              "      dtype='object')"
            ]
          },
          "metadata": {},
          "execution_count": 686
        }
      ]
    },
    {
      "cell_type": "code",
      "source": [
        "df.shape   #df has 9880 rows and 7column"
      ],
      "metadata": {
        "colab": {
          "base_uri": "https://localhost:8080/"
        },
        "id": "g-O-vacyaOZf",
        "outputId": "44e7f5a7-b15c-44db-e95f-b62f9ca0a7b3"
      },
      "execution_count": null,
      "outputs": [
        {
          "output_type": "execute_result",
          "data": {
            "text/plain": [
              "(9880, 7)"
            ]
          },
          "metadata": {},
          "execution_count": 687
        }
      ]
    },
    {
      "cell_type": "code",
      "source": [
        "import warnings\n",
        "warnings.filterwarnings(\"ignore\")   #to ignore the warning"
      ],
      "metadata": {
        "id": "453ROgLaqSyb"
      },
      "execution_count": null,
      "outputs": []
    },
    {
      "cell_type": "code",
      "source": [
        "plt.figure(figsize=(10,10))\n",
        "sns.heatmap(df.corr(), annot=True)\n",
        "plt.show()  #checks only linear relationship"
      ],
      "metadata": {
        "colab": {
          "base_uri": "https://localhost:8080/",
          "height": 691
        },
        "id": "ewXLP8Jtb6X7",
        "outputId": "4a9f68b5-e038-4c92-f394-d6fab47f5b93"
      },
      "execution_count": null,
      "outputs": [
        {
          "output_type": "display_data",
          "data": {
            "text/plain": [
              "<Figure size 720x720 with 2 Axes>"
            ],
            "image/png": "[encoded data removed]"
          },
          "metadata": {
            "needs_background": "light"
          }
        }
      ]
    },
    {
      "cell_type": "code",
      "source": [
        "sns.set_style(style=\"darkgrid\")\n",
        "plt.figure(figsize=(17,7), dpi=150)\n",
        "#regplot--->plot data and a linear regression model fit.\n",
        "plt.subplot(2,3,1)\n",
        "sns.barplot( df.target,df.air_temperature)\n",
        "\n",
        "plt.subplot(2,3,2)\n",
        "sns.barplot(df.target,df.process_temperature)\n",
        "\n",
        "plt.subplot(2,3,3)\n",
        "sns.barplot(df.target, df.rotational_speed)\n",
        "\n",
        "plt.subplot(2,3,4)\n",
        "sns.barplot(df.target,df.torque)\n",
        "\n",
        "plt.subplot(2,3,5)\n",
        "sns.barplot( df.target,df.tool_wear)\n",
        "\n",
        "plt.suptitle(\"Continous numerical variable VS Target\", fontsize=10)  #suptitle to show title for overall plot \n",
        "plt.show()\n",
        "\n"
      ],
      "metadata": {
        "id": "z3_GjLtKmkjm",
        "colab": {
          "base_uri": "https://localhost:8080/",
          "height": 632
        },
        "outputId": "60fda3e0-873b-480a-949b-f9a50035dc3d"
      },
      "execution_count": null,
      "outputs": [
        {
          "output_type": "display_data",
          "data": {
            "text/plain": [
              "<Figure size 2550x1050 with 5 Axes>"
            ],
            "image/png": "[encoded data removed]"
          },
          "metadata": {}
        }
      ]
    },
    {
      "cell_type": "markdown",
      "source": [
        "Interpretation\n",
        "* air_temperature is not a major cause of failure\n",
        "* process_temperature is not a major cause of failure\n",
        "* rotational speed is not a major cause of failure\n",
        "* Torque is a major cause of failure-Higher the torque Higher the failure\n",
        "* Tool_wear is a major cause of failure-Higher the tool_wear Higher the failure"
      ],
      "metadata": {
        "id": "nMSDpyyqu_qf"
      }
    },
    {
      "cell_type": "code",
      "source": [
        "plt.figure(figsize=(3,3), dpi=150)\n",
        "sns.countplot(x=\"type\",data=df,hue='target')\n",
        "plt.title(\"Type vs target\")\n",
        "plt.show()\n",
        "# we can observe with respect to  low has highest failure ,then medium and high "
      ],
      "metadata": {
        "colab": {
          "base_uri": "https://localhost:8080/",
          "height": 481
        },
        "id": "syuKsxkas6h_",
        "outputId": "a4dddc48-bdd1-40b3-adaf-35faae157ff1"
      },
      "execution_count": null,
      "outputs": [
        {
          "output_type": "display_data",
          "data": {
            "text/plain": [
              "<Figure size 450x450 with 1 Axes>"
            ],
            "image/png": "[encoded data removed]"
          },
          "metadata": {}
        }
      ]
    },
    {
      "cell_type": "markdown",
      "source": [
        "Interpretation\n",
        "* we can observe with respect to target low has high failure ,then medium and high "
      ],
      "metadata": {
        "id": "-Y1ZiP_wxNo9"
      }
    },
    {
      "cell_type": "markdown",
      "source": [
        "**Plotting of Numerical data vs failure_type**\n",
        "\n",
        "For to be predicted :failure _type(multi class classification)\n"
      ],
      "metadata": {
        "id": "bOLBzL09yA9V"
      }
    },
    {
      "cell_type": "code",
      "source": [
        "df_failure.columns"
      ],
      "metadata": {
        "colab": {
          "base_uri": "https://localhost:8080/"
        },
        "id": "TuzQkvc1aWXD",
        "outputId": "1db88c84-cb1b-4f4b-c377-445e0f18ff5a"
      },
      "execution_count": null,
      "outputs": [
        {
          "output_type": "execute_result",
          "data": {
            "text/plain": [
              "Index(['type', 'air_temperature', 'process_temperature', 'rotational_speed',\n",
              "       'torque', 'tool_wear', 'failure_type'],\n",
              "      dtype='object')"
            ]
          },
          "metadata": {},
          "execution_count": 692
        }
      ]
    },
    {
      "cell_type": "code",
      "source": [
        "df_failure.shape   # has 327 rows and 7 columns "
      ],
      "metadata": {
        "colab": {
          "base_uri": "https://localhost:8080/"
        },
        "id": "0UR_h23ZaZSN",
        "outputId": "714602d4-c157-4a17-a0e2-ab794a46aeac"
      },
      "execution_count": null,
      "outputs": [
        {
          "output_type": "execute_result",
          "data": {
            "text/plain": [
              "(327, 7)"
            ]
          },
          "metadata": {},
          "execution_count": 693
        }
      ]
    },
    {
      "cell_type": "code",
      "source": [
        "print(df_failure[\"failure_type\"].unique())\n",
        "print(\"\\n\")\n",
        "print(f\"There are {df_failure['failure_type'].nunique()}  failure types\")\n"
      ],
      "metadata": {
        "colab": {
          "base_uri": "https://localhost:8080/"
        },
        "id": "WqrWBtuQxJ6z",
        "outputId": "171d3e46-b5cd-42ef-f06c-0712a45e33ef"
      },
      "execution_count": null,
      "outputs": [
        {
          "output_type": "stream",
          "name": "stdout",
          "text": [
            "['Power Failure' 'Tool Wear Failure' 'Overstrain Failure'\n",
            " 'Heat Dissipation Failure']\n",
            "\n",
            "\n",
            "There are 4  failure types\n"
          ]
        }
      ]
    },
    {
      "cell_type": "code",
      "source": [
        "for_pie1=df_failure[\"failure_type\"].value_counts().reset_index().rename(columns={\"index\":\"failure_type\",\"failure_type\":\"count\"})\n",
        "for_pie1"
      ],
      "metadata": {
        "colab": {
          "base_uri": "https://localhost:8080/",
          "height": 175
        },
        "id": "2Nqa2AnVyJGl",
        "outputId": "ef9e7b20-f807-4746-9b38-6e789bb90973"
      },
      "execution_count": null,
      "outputs": [
        {
          "output_type": "execute_result",
          "data": {
            "text/plain": [
              "               failure_type  count\n",
              "0  Heat Dissipation Failure    112\n",
              "1             Power Failure     92\n",
              "2        Overstrain Failure     78\n",
              "3         Tool Wear Failure     45"
            ],
            "text/html": [
              "\n",
              "  <div id=\"df-46982867-a2ab-4df2-9fe1-3d5437921238\">\n",
              "    <div class=\"colab-df-container\">\n",
              "      <div>\n",
              "<style scoped>\n",
              "    .dataframe tbody tr th:only-of-type {\n",
              "        vertical-align: middle;\n",
              "    }\n",
              "\n",
              "    .dataframe tbody tr th {\n",
              "        vertical-align: top;\n",
              "    }\n",
              "\n",
              "    .dataframe thead th {\n",
              "        text-align: right;\n",
              "    }\n",
              "</style>\n",
              "<table border=\"1\" class=\"dataframe\">\n",
              "  <thead>\n",
              "    <tr style=\"text-align: right;\">\n",
              "      <th></th>\n",
              "      <th>failure_type</th>\n",
              "      <th>count</th>\n",
              "    </tr>\n",
              "  </thead>\n",
              "  <tbody>\n",
              "    <tr>\n",
              "      <th>0</th>\n",
              "      <td>Heat Dissipation Failure</td>\n",
              "      <td>112</td>\n",
              "    </tr>\n",
              "    <tr>\n",
              "      <th>1</th>\n",
              "      <td>Power Failure</td>\n",
              "      <td>92</td>\n",
              "    </tr>\n",
              "    <tr>\n",
              "      <th>2</th>\n",
              "      <td>Overstrain Failure</td>\n",
              "      <td>78</td>\n",
              "    </tr>\n",
              "    <tr>\n",
              "      <th>3</th>\n",
              "      <td>Tool Wear Failure</td>\n",
              "      <td>45</td>\n",
              "    </tr>\n",
              "  </tbody>\n",
              "</table>\n",
              "</div>\n",
              "      <button class=\"colab-df-convert\" onclick=\"convertToInteractive('df-46982867-a2ab-4df2-9fe1-3d5437921238')\"\n",
              "              title=\"Convert this dataframe to an interactive table.\"\n",
              "              style=\"display:none;\">\n",
              "        \n",
              "  <svg xmlns=\"http://www.w3.org/2000/svg\" height=\"24px\"viewBox=\"0 0 24 24\"\n",
              "       width=\"24px\">\n",
              "    <path d=\"M0 0h24v24H0V0z\" fill=\"none\"/>\n",
              "    <path d=\"M18.56 5.44l.94 2.06.94-2.06 2.06-.94-2.06-.94-.94-2.06-.94 2.06-2.06.94zm-11 1L8.5 8.5l.94-2.06 2.06-.94-2.06-.94L8.5 2.5l-.94 2.06-2.06.94zm10 10l.94 2.06.94-2.06 2.06-.94-2.06-.94-.94-2.06-.94 2.06-2.06.94z\"/><path d=\"M17.41 7.96l-1.37-1.37c-.4-.4-.92-.59-1.43-.59-.52 0-1.04.2-1.43.59L10.3 9.45l-7.72 7.72c-.78.78-.78 2.05 0 2.83L4 21.41c.39.39.9.59 1.41.59.51 0 1.02-.2 1.41-.59l7.78-7.78 2.81-2.81c.8-.78.8-2.07 0-2.86zM5.41 20L4 18.59l7.72-7.72 1.47 1.35L5.41 20z\"/>\n",
              "  </svg>\n",
              "      </button>\n",
              "      \n",
              "  <style>\n",
              "    .colab-df-container {\n",
              "      display:flex;\n",
              "      flex-wrap:wrap;\n",
              "      gap: 12px;\n",
              "    }\n",
              "\n",
              "    .colab-df-convert {\n",
              "      background-color: #E8F0FE;\n",
              "      border: none;\n",
              "      border-radius: 50%;\n",
              "      cursor: pointer;\n",
              "      display: none;\n",
              "      fill: #1967D2;\n",
              "      height: 32px;\n",
              "      padding: 0 0 0 0;\n",
              "      width: 32px;\n",
              "    }\n",
              "\n",
              "    .colab-df-convert:hover {\n",
              "      background-color: #E2EBFA;\n",
              "      box-shadow: 0px 1px 2px rgba(60, 64, 67, 0.3), 0px 1px 3px 1px rgba(60, 64, 67, 0.15);\n",
              "      fill: #174EA6;\n",
              "    }\n",
              "\n",
              "    [theme=dark] .colab-df-convert {\n",
              "      background-color: #3B4455;\n",
              "      fill: #D2E3FC;\n",
              "    }\n",
              "\n",
              "    [theme=dark] .colab-df-convert:hover {\n",
              "      background-color: #434B5C;\n",
              "      box-shadow: 0px 1px 3px 1px rgba(0, 0, 0, 0.15);\n",
              "      filter: drop-shadow(0px 1px 2px rgba(0, 0, 0, 0.3));\n",
              "      fill: #FFFFFF;\n",
              "    }\n",
              "  </style>\n",
              "\n",
              "      <script>\n",
              "        const buttonEl =\n",
              "          document.querySelector('#df-46982867-a2ab-4df2-9fe1-3d5437921238 button.colab-df-convert');\n",
              "        buttonEl.style.display =\n",
              "          google.colab.kernel.accessAllowed ? 'block' : 'none';\n",
              "\n",
              "        async function convertToInteractive(key) {\n",
              "          const element = document.querySelector('#df-46982867-a2ab-4df2-9fe1-3d5437921238');\n",
              "          const dataTable =\n",
              "            await google.colab.kernel.invokeFunction('convertToInteractive',\n",
              "                                                     [key], {});\n",
              "          if (!dataTable) return;\n",
              "\n",
              "          const docLinkHtml = 'Like what you see? Visit the ' +\n",
              "            '<a target=\"_blank\" href=https://colab.research.google.com/notebooks/data_table.ipynb>data table notebook</a>'\n",
              "            + ' to learn more about interactive tables.';\n",
              "          element.innerHTML = '';\n",
              "          dataTable['output_type'] = 'display_data';\n",
              "          await google.colab.output.renderOutput(dataTable, element);\n",
              "          const docLink = document.createElement('div');\n",
              "          docLink.innerHTML = docLinkHtml;\n",
              "          element.appendChild(docLink);\n",
              "        }\n",
              "      </script>\n",
              "    </div>\n",
              "  </div>\n",
              "  "
            ]
          },
          "metadata": {},
          "execution_count": 695
        }
      ]
    },
    {
      "cell_type": "code",
      "source": [
        "import plotly.express as px\n",
        "fig = px.pie(for_pie1, values='count', names='failure_type', title='Failure_type')\n",
        "fig.show()\n",
        "\n",
        "#failure type data is not a imbalanced data "
      ],
      "metadata": {
        "colab": {
          "base_uri": "https://localhost:8080/",
          "height": 542
        },
        "id": "QQViAG8B0CX9",
        "outputId": "8c9b12c2-accc-4ff9-9d0e-8abb5b412e56"
      },
      "execution_count": null,
      "outputs": [
        {
          "output_type": "display_data",
          "data": {
            "text/html": [
              "<html>\n",
              "<head><meta charset=\"utf-8\" /></head>\n",
              "<body>\n",
              "    <div>            <script src=\"https://cdnjs.cloudflare.com/ajax/libs/mathjax/2.7.5/MathJax.js?config=TeX-AMS-MML_SVG\"></script><script type=\"text/javascript\">if (window.MathJax) {MathJax.Hub.Config({SVG: {font: \"STIX-Web\"}});}</script>                <script type=\"text/javascript\">window.PlotlyConfig = {MathJaxConfig: 'local'};</script>\n",
              "        <script src=\"https://cdn.plot.ly/plotly-2.8.3.min.js\"></script>                <div id=\"727d8f1d-a92b-4696-8578-3a4f54d56ad3\" class=\"plotly-graph-div\" style=\"height:525px; width:100%;\"></div>            <script type=\"text/javascript\">                                    window.PLOTLYENV=window.PLOTLYENV || {};                                    if (document.getElementById(\"727d8f1d-a92b-4696-8578-3a4f54d56ad3\")) {                    Plotly.newPlot(                        \"727d8f1d-a92b-4696-8578-3a4f54d56ad3\",                        [{\"domain\":{\"x\":[0.0,1.0],\"y\":[0.0,1.0]},\"hovertemplate\":\"failure_type=%{label}<br>count=%{value}<extra></extra>\",\"labels\":[\"Heat Dissipation Failure\",\"Power Failure\",\"Overstrain Failure\",\"Tool Wear Failure\"],\"legendgroup\":\"\",\"name\":\"\",\"showlegend\":true,\"values\":[112,92,78,45],\"type\":\"pie\"}],                        {\"template\":{\"data\":{\"bar\":[{\"error_x\":{\"color\":\"#2a3f5f\"},\"error_y\":{\"color\":\"#2a3f5f\"},\"marker\":{\"line\":{\"color\":\"#E5ECF6\",\"width\":0.5},\"pattern\":{\"fillmode\":\"overlay\",\"size\":10,\"solidity\":0.2}},\"type\":\"bar\"}],\"barpolar\":[{\"marker\":{\"line\":{\"color\":\"#E5ECF6\",\"width\":0.5},\"pattern\":{\"fillmode\":\"overlay\",\"size\":10,\"solidity\":0.2}},\"type\":\"barpolar\"}],\"carpet\":[{\"aaxis\":{\"endlinecolor\":\"#2a3f5f\",\"gridcolor\":\"white\",\"linecolor\":\"white\",\"minorgridcolor\":\"white\",\"startlinecolor\":\"#2a3f5f\"},\"baxis\":{\"endlinecolor\":\"#2a3f5f\",\"gridcolor\":\"white\",\"linecolor\":\"white\",\"minorgridcolor\":\"white\",\"startlinecolor\":\"#2a3f5f\"},\"type\":\"carpet\"}],\"choropleth\":[{\"colorbar\":{\"outlinewidth\":0,\"ticks\":\"\"},\"type\":\"choropleth\"}],\"contour\":[{\"colorbar\":{\"outlinewidth\":0,\"ticks\":\"\"},\"colorscale\":[[0.0,\"#0d0887\"],[0.1111111111111111,\"#46039f\"],[0.2222222222222222,\"#7201a8\"],[0.3333333333333333,\"#9c179e\"],[0.4444444444444444,\"#bd3786\"],[0.5555555555555556,\"#d8576b\"],[0.6666666666666666,\"#ed7953\"],[0.7777777777777778,\"#fb9f3a\"],[0.8888888888888888,\"#fdca26\"],[1.0,\"#f0f921\"]],\"type\":\"contour\"}],\"contourcarpet\":[{\"colorbar\":{\"outlinewidth\":0,\"ticks\":\"\"},\"type\":\"contourcarpet\"}],\"heatmap\":[{\"colorbar\":{\"outlinewidth\":0,\"ticks\":\"\"},\"colorscale\":[[0.0,\"#0d0887\"],[0.1111111111111111,\"#46039f\"],[0.2222222222222222,\"#7201a8\"],[0.3333333333333333,\"#9c179e\"],[0.4444444444444444,\"#bd3786\"],[0.5555555555555556,\"#d8576b\"],[0.6666666666666666,\"#ed7953\"],[0.7777777777777778,\"#fb9f3a\"],[0.8888888888888888,\"#fdca26\"],[1.0,\"#f0f921\"]],\"type\":\"heatmap\"}],\"heatmapgl\":[{\"colorbar\":{\"outlinewidth\":0,\"ticks\":\"\"},\"colorscale\":[[0.0,\"#0d0887\"],[0.1111111111111111,\"#46039f\"],[0.2222222222222222,\"#7201a8\"],[0.3333333333333333,\"#9c179e\"],[0.4444444444444444,\"#bd3786\"],[0.5555555555555556,\"#d8576b\"],[0.6666666666666666,\"#ed7953\"],[0.7777777777777778,\"#fb9f3a\"],[0.8888888888888888,\"#fdca26\"],[1.0,\"#f0f921\"]],\"type\":\"heatmapgl\"}],\"histogram\":[{\"marker\":{\"pattern\":{\"fillmode\":\"overlay\",\"size\":10,\"solidity\":0.2}},\"type\":\"histogram\"}],\"histogram2d\":[{\"colorbar\":{\"outlinewidth\":0,\"ticks\":\"\"},\"colorscale\":[[0.0,\"#0d0887\"],[0.1111111111111111,\"#46039f\"],[0.2222222222222222,\"#7201a8\"],[0.3333333333333333,\"#9c179e\"],[0.4444444444444444,\"#bd3786\"],[0.5555555555555556,\"#d8576b\"],[0.6666666666666666,\"#ed7953\"],[0.7777777777777778,\"#fb9f3a\"],[0.8888888888888888,\"#fdca26\"],[1.0,\"#f0f921\"]],\"type\":\"histogram2d\"}],\"histogram2dcontour\":[{\"colorbar\":{\"outlinewidth\":0,\"ticks\":\"\"},\"colorscale\":[[0.0,\"#0d0887\"],[0.1111111111111111,\"#46039f\"],[0.2222222222222222,\"#7201a8\"],[0.3333333333333333,\"#9c179e\"],[0.4444444444444444,\"#bd3786\"],[0.5555555555555556,\"#d8576b\"],[0.6666666666666666,\"#ed7953\"],[0.7777777777777778,\"#fb9f3a\"],[0.8888888888888888,\"#fdca26\"],[1.0,\"#f0f921\"]],\"type\":\"histogram2dcontour\"}],\"mesh3d\":[{\"colorbar\":{\"outlinewidth\":0,\"ticks\":\"\"},\"type\":\"mesh3d\"}],\"parcoords\":[{\"line\":{\"colorbar\":{\"outlinewidth\":0,\"ticks\":\"\"}},\"type\":\"parcoords\"}],\"pie\":[{\"automargin\":true,\"type\":\"pie\"}],\"scatter\":[{\"marker\":{\"colorbar\":{\"outlinewidth\":0,\"ticks\":\"\"}},\"type\":\"scatter\"}],\"scatter3d\":[{\"line\":{\"colorbar\":{\"outlinewidth\":0,\"ticks\":\"\"}},\"marker\":{\"colorbar\":{\"outlinewidth\":0,\"ticks\":\"\"}},\"type\":\"scatter3d\"}],\"scattercarpet\":[{\"marker\":{\"colorbar\":{\"outlinewidth\":0,\"ticks\":\"\"}},\"type\":\"scattercarpet\"}],\"scattergeo\":[{\"marker\":{\"colorbar\":{\"outlinewidth\":0,\"ticks\":\"\"}},\"type\":\"scattergeo\"}],\"scattergl\":[{\"marker\":{\"colorbar\":{\"outlinewidth\":0,\"ticks\":\"\"}},\"type\":\"scattergl\"}],\"scattermapbox\":[{\"marker\":{\"colorbar\":{\"outlinewidth\":0,\"ticks\":\"\"}},\"type\":\"scattermapbox\"}],\"scatterpolar\":[{\"marker\":{\"colorbar\":{\"outlinewidth\":0,\"ticks\":\"\"}},\"type\":\"scatterpolar\"}],\"scatterpolargl\":[{\"marker\":{\"colorbar\":{\"outlinewidth\":0,\"ticks\":\"\"}},\"type\":\"scatterpolargl\"}],\"scatterternary\":[{\"marker\":{\"colorbar\":{\"outlinewidth\":0,\"ticks\":\"\"}},\"type\":\"scatterternary\"}],\"surface\":[{\"colorbar\":{\"outlinewidth\":0,\"ticks\":\"\"},\"colorscale\":[[0.0,\"#0d0887\"],[0.1111111111111111,\"#46039f\"],[0.2222222222222222,\"#7201a8\"],[0.3333333333333333,\"#9c179e\"],[0.4444444444444444,\"#bd3786\"],[0.5555555555555556,\"#d8576b\"],[0.6666666666666666,\"#ed7953\"],[0.7777777777777778,\"#fb9f3a\"],[0.8888888888888888,\"#fdca26\"],[1.0,\"#f0f921\"]],\"type\":\"surface\"}],\"table\":[{\"cells\":{\"fill\":{\"color\":\"#EBF0F8\"},\"line\":{\"color\":\"white\"}},\"header\":{\"fill\":{\"color\":\"#C8D4E3\"},\"line\":{\"color\":\"white\"}},\"type\":\"table\"}]},\"layout\":{\"annotationdefaults\":{\"arrowcolor\":\"#2a3f5f\",\"arrowhead\":0,\"arrowwidth\":1},\"autotypenumbers\":\"strict\",\"coloraxis\":{\"colorbar\":{\"outlinewidth\":0,\"ticks\":\"\"}},\"colorscale\":{\"diverging\":[[0,\"#8e0152\"],[0.1,\"#c51b7d\"],[0.2,\"#de77ae\"],[0.3,\"#f1b6da\"],[0.4,\"#fde0ef\"],[0.5,\"#f7f7f7\"],[0.6,\"#e6f5d0\"],[0.7,\"#b8e186\"],[0.8,\"#7fbc41\"],[0.9,\"#4d9221\"],[1,\"#276419\"]],\"sequential\":[[0.0,\"#0d0887\"],[0.1111111111111111,\"#46039f\"],[0.2222222222222222,\"#7201a8\"],[0.3333333333333333,\"#9c179e\"],[0.4444444444444444,\"#bd3786\"],[0.5555555555555556,\"#d8576b\"],[0.6666666666666666,\"#ed7953\"],[0.7777777777777778,\"#fb9f3a\"],[0.8888888888888888,\"#fdca26\"],[1.0,\"#f0f921\"]],\"sequentialminus\":[[0.0,\"#0d0887\"],[0.1111111111111111,\"#46039f\"],[0.2222222222222222,\"#7201a8\"],[0.3333333333333333,\"#9c179e\"],[0.4444444444444444,\"#bd3786\"],[0.5555555555555556,\"#d8576b\"],[0.6666666666666666,\"#ed7953\"],[0.7777777777777778,\"#fb9f3a\"],[0.8888888888888888,\"#fdca26\"],[1.0,\"#f0f921\"]]},\"colorway\":[\"#636efa\",\"#EF553B\",\"#00cc96\",\"#ab63fa\",\"#FFA15A\",\"#19d3f3\",\"#FF6692\",\"#B6E880\",\"#FF97FF\",\"#FECB52\"],\"font\":{\"color\":\"#2a3f5f\"},\"geo\":{\"bgcolor\":\"white\",\"lakecolor\":\"white\",\"landcolor\":\"#E5ECF6\",\"showlakes\":true,\"showland\":true,\"subunitcolor\":\"white\"},\"hoverlabel\":{\"align\":\"left\"},\"hovermode\":\"closest\",\"mapbox\":{\"style\":\"light\"},\"paper_bgcolor\":\"white\",\"plot_bgcolor\":\"#E5ECF6\",\"polar\":{\"angularaxis\":{\"gridcolor\":\"white\",\"linecolor\":\"white\",\"ticks\":\"\"},\"bgcolor\":\"#E5ECF6\",\"radialaxis\":{\"gridcolor\":\"white\",\"linecolor\":\"white\",\"ticks\":\"\"}},\"scene\":{\"xaxis\":{\"backgroundcolor\":\"#E5ECF6\",\"gridcolor\":\"white\",\"gridwidth\":2,\"linecolor\":\"white\",\"showbackground\":true,\"ticks\":\"\",\"zerolinecolor\":\"white\"},\"yaxis\":{\"backgroundcolor\":\"#E5ECF6\",\"gridcolor\":\"white\",\"gridwidth\":2,\"linecolor\":\"white\",\"showbackground\":true,\"ticks\":\"\",\"zerolinecolor\":\"white\"},\"zaxis\":{\"backgroundcolor\":\"#E5ECF6\",\"gridcolor\":\"white\",\"gridwidth\":2,\"linecolor\":\"white\",\"showbackground\":true,\"ticks\":\"\",\"zerolinecolor\":\"white\"}},\"shapedefaults\":{\"line\":{\"color\":\"#2a3f5f\"}},\"ternary\":{\"aaxis\":{\"gridcolor\":\"white\",\"linecolor\":\"white\",\"ticks\":\"\"},\"baxis\":{\"gridcolor\":\"white\",\"linecolor\":\"white\",\"ticks\":\"\"},\"bgcolor\":\"#E5ECF6\",\"caxis\":{\"gridcolor\":\"white\",\"linecolor\":\"white\",\"ticks\":\"\"}},\"title\":{\"x\":0.05},\"xaxis\":{\"automargin\":true,\"gridcolor\":\"white\",\"linecolor\":\"white\",\"ticks\":\"\",\"title\":{\"standoff\":15},\"zerolinecolor\":\"white\",\"zerolinewidth\":2},\"yaxis\":{\"automargin\":true,\"gridcolor\":\"white\",\"linecolor\":\"white\",\"ticks\":\"\",\"title\":{\"standoff\":15},\"zerolinecolor\":\"white\",\"zerolinewidth\":2}}},\"legend\":{\"tracegroupgap\":0},\"title\":{\"text\":\"Failure_type\"}},                        {\"responsive\": true}                    ).then(function(){\n",
              "                            \n",
              "var gd = document.getElementById('727d8f1d-a92b-4696-8578-3a4f54d56ad3');\n",
              "var x = new MutationObserver(function (mutations, observer) {{\n",
              "        var display = window.getComputedStyle(gd).display;\n",
              "        if (!display || display === 'none') {{\n",
              "            console.log([gd, 'removed!']);\n",
              "            Plotly.purge(gd);\n",
              "            observer.disconnect();\n",
              "        }}\n",
              "}});\n",
              "\n",
              "// Listen for the removal of the full notebook cells\n",
              "var notebookContainer = gd.closest('#notebook-container');\n",
              "if (notebookContainer) {{\n",
              "    x.observe(notebookContainer, {childList: true});\n",
              "}}\n",
              "\n",
              "// Listen for the clearing of the current output cell\n",
              "var outputEl = gd.closest('.output');\n",
              "if (outputEl) {{\n",
              "    x.observe(outputEl, {childList: true});\n",
              "}}\n",
              "\n",
              "                        })                };                            </script>        </div>\n",
              "</body>\n",
              "</html>"
            ]
          },
          "metadata": {}
        }
      ]
    },
    {
      "cell_type": "code",
      "source": [
        "plt.figure(figsize=(10,10))\n",
        "sns.barplot(x=\"type\",y=\"torque\",data=df_failure,hue=\"failure_type\")\n",
        "plt.title(\"Type Vs torque\")\n",
        "\n",
        "#overstrain failure occurs with higher torque in case of L,M,H type tools \n",
        "#tool wear failure is lowest in case of all L,M,H type"
      ],
      "metadata": {
        "colab": {
          "base_uri": "https://localhost:8080/",
          "height": 638
        },
        "id": "L_JxwgMHcaTu",
        "outputId": "53e487a1-3601-40cd-a6e1-479f0e5c69ad"
      },
      "execution_count": null,
      "outputs": [
        {
          "output_type": "execute_result",
          "data": {
            "text/plain": [
              "Text(0.5, 1.0, 'Type Vs torque')"
            ]
          },
          "metadata": {},
          "execution_count": 697
        },
        {
          "output_type": "display_data",
          "data": {
            "text/plain": [
              "<Figure size 720x720 with 1 Axes>"
            ],
            "image/png": "[encoded data removed]"
          },
          "metadata": {}
        }
      ]
    },
    {
      "cell_type": "code",
      "source": [
        "plt.figure(figsize=(10,5))\n",
        "sns.barplot(x=\"failure_type\",y=\"rotational_speed\",data=df_failure)\n",
        "plt.title(\"failure_type VS rotational_speed\")\n",
        "\n",
        "#Power failure id caused the highest by rotational speed"
      ],
      "metadata": {
        "colab": {
          "base_uri": "https://localhost:8080/",
          "height": 368
        },
        "id": "YEMyUos1eLBJ",
        "outputId": "c327cbba-17d1-4994-f74e-dafcdc17964b"
      },
      "execution_count": null,
      "outputs": [
        {
          "output_type": "execute_result",
          "data": {
            "text/plain": [
              "Text(0.5, 1.0, 'failure_type VS rotational_speed')"
            ]
          },
          "metadata": {},
          "execution_count": 698
        },
        {
          "output_type": "display_data",
          "data": {
            "text/plain": [
              "<Figure size 720x360 with 1 Axes>"
            ],
            "image/png": "[encoded data removed]"
          },
          "metadata": {}
        }
      ]
    },
    {
      "cell_type": "code",
      "source": [
        "plt.figure(figsize=(10,10))\n",
        "sns.barplot(x=\"type\",y=\"rotational_speed\",data=df_failure,hue=\"failure_type\")\n",
        "plt.title(\"Type Vs rotational_speed\")"
      ],
      "metadata": {
        "colab": {
          "base_uri": "https://localhost:8080/",
          "height": 638
        },
        "id": "VzETOe0Bd9qM",
        "outputId": "519185f6-4c57-4c53-b7e6-95e4b579bbe9"
      },
      "execution_count": null,
      "outputs": [
        {
          "output_type": "execute_result",
          "data": {
            "text/plain": [
              "Text(0.5, 1.0, 'Type Vs rotational_speed')"
            ]
          },
          "metadata": {},
          "execution_count": 699
        },
        {
          "output_type": "display_data",
          "data": {
            "text/plain": [
              "<Figure size 720x720 with 1 Axes>"
            ],
            "image/png": "[encoded data removed]"
          },
          "metadata": {}
        }
      ]
    },
    {
      "cell_type": "code",
      "source": [
        "plt.figure(figsize=(10,5))\n",
        "sns.barplot(x=\"failure_type\",y=\"process_temperature\",data=df_failure)\n",
        "plt.title(\"failure_type VS process_temperature\")"
      ],
      "metadata": {
        "colab": {
          "base_uri": "https://localhost:8080/",
          "height": 368
        },
        "id": "yfEW-yxle5HU",
        "outputId": "f1c4d41c-5cbc-4c3f-d922-61a66c6d92e8"
      },
      "execution_count": null,
      "outputs": [
        {
          "output_type": "execute_result",
          "data": {
            "text/plain": [
              "Text(0.5, 1.0, 'failure_type VS process_temperature')"
            ]
          },
          "metadata": {},
          "execution_count": 700
        },
        {
          "output_type": "display_data",
          "data": {
            "text/plain": [
              "<Figure size 720x360 with 1 Axes>"
            ],
            "image/png": "[encoded data removed]"
          },
          "metadata": {}
        }
      ]
    },
    {
      "cell_type": "code",
      "source": [
        "plt.figure(figsize=(10,5))\n",
        "sns.barplot(x=\"failure_type\",y=\"air_temperature\",data=df_failure)\n",
        "plt.title(\"failure_type VS air_temperature\")"
      ],
      "metadata": {
        "colab": {
          "base_uri": "https://localhost:8080/",
          "height": 368
        },
        "id": "YoxfwkYdfEvk",
        "outputId": "523ac22c-5da2-4f13-9d7f-135932738484"
      },
      "execution_count": null,
      "outputs": [
        {
          "output_type": "execute_result",
          "data": {
            "text/plain": [
              "Text(0.5, 1.0, 'failure_type VS air_temperature')"
            ]
          },
          "metadata": {},
          "execution_count": 701
        },
        {
          "output_type": "display_data",
          "data": {
            "text/plain": [
              "<Figure size 720x360 with 1 Axes>"
            ],
            "image/png": "[encoded data removed]"
          },
          "metadata": {}
        }
      ]
    },
    {
      "cell_type": "markdown",
      "source": [
        "# Encoding the data "
      ],
      "metadata": {
        "id": "UN_UgbcbasmC"
      }
    },
    {
      "cell_type": "code",
      "source": [
        "df[\"type\"].unique()"
      ],
      "metadata": {
        "colab": {
          "base_uri": "https://localhost:8080/"
        },
        "id": "5KILDv0MiCGt",
        "outputId": "38b6dc64-03c9-423a-f135-9d6cf4a4214a"
      },
      "execution_count": null,
      "outputs": [
        {
          "output_type": "execute_result",
          "data": {
            "text/plain": [
              "array(['L', 'M', 'H'], dtype=object)"
            ]
          },
          "metadata": {},
          "execution_count": 702
        }
      ]
    },
    {
      "cell_type": "code",
      "source": [
        "# we can do label encoding for type as it is ordinal\n",
        "df[\"type\"]=df[\"type\"].map({\"L\":1,\"M\":2,\"H\":3})\n",
        "df_failure[\"type\"]=df_failure[\"type\"].map({\"L\":1,\"M\":2,\"H\":3})"
      ],
      "metadata": {
        "id": "C3hcTyCGzI8E"
      },
      "execution_count": null,
      "outputs": []
    },
    {
      "cell_type": "code",
      "source": [
        "df_failure[\"failure_type\"].value_counts().sort_values()  #data is ordinal thats why we do label encoding "
      ],
      "metadata": {
        "colab": {
          "base_uri": "https://localhost:8080/"
        },
        "id": "q45od5qheWet",
        "outputId": "dff4dae9-486c-4de3-f1ed-a892e6b9bb9a"
      },
      "execution_count": null,
      "outputs": [
        {
          "output_type": "execute_result",
          "data": {
            "text/plain": [
              "Tool Wear Failure            45\n",
              "Overstrain Failure           78\n",
              "Power Failure                92\n",
              "Heat Dissipation Failure    112\n",
              "Name: failure_type, dtype: int64"
            ]
          },
          "metadata": {},
          "execution_count": 704
        }
      ]
    },
    {
      "cell_type": "code",
      "source": [
        "#we do label encoding because of the ordianl nature of target failure_type\n",
        "df_failure[\"failure_type\"]=df_failure[\"failure_type\"].map({\"Tool Wear Failure\":1,\"Overstrain Failure\":2,\"Power Failure\":3,\"Heat Dissipation Failure\":4})"
      ],
      "metadata": {
        "id": "3wS0-f4deOXN"
      },
      "execution_count": null,
      "outputs": []
    },
    {
      "cell_type": "markdown",
      "source": [
        "# Splitting the data "
      ],
      "metadata": {
        "id": "DHLReJY3iSy4"
      }
    },
    {
      "cell_type": "code",
      "source": [
        "df.columns.to_list()"
      ],
      "metadata": {
        "colab": {
          "base_uri": "https://localhost:8080/"
        },
        "id": "RaAriNfIiiX2",
        "outputId": "0fc451e2-7a90-4369-a1f8-f25c7ce74924"
      },
      "execution_count": null,
      "outputs": [
        {
          "output_type": "execute_result",
          "data": {
            "text/plain": [
              "['type',\n",
              " 'air_temperature',\n",
              " 'process_temperature',\n",
              " 'rotational_speed',\n",
              " 'torque',\n",
              " 'tool_wear',\n",
              " 'target']"
            ]
          },
          "metadata": {},
          "execution_count": 706
        }
      ]
    },
    {
      "cell_type": "code",
      "source": [
        "X_bin=df.iloc[:,:-1]\n",
        "y_bin=df.iloc[:,-1]"
      ],
      "metadata": {
        "id": "dMT5zbOEioHN"
      },
      "execution_count": null,
      "outputs": []
    },
    {
      "cell_type": "markdown",
      "source": [
        "**Balancing the imbalanced dataset**"
      ],
      "metadata": {
        "id": "fvDCrA3FF-GS"
      }
    },
    {
      "cell_type": "code",
      "source": [
        "#Balancing the data with SMOTE(synthetic minority oversampling technique) and cluster centroid undersampling \n",
        "from imblearn.combine import SMOTEENN   \n",
        "smt = SMOTEENN(sampling_strategy='all')  #initialize  #sampling_strategy=all means both minority and majority\n",
        "X_smt, y_smt = smt.fit_resample(X_bin, y_bin)"
      ],
      "metadata": {
        "id": "JR6VtuzKF7BH"
      },
      "execution_count": null,
      "outputs": []
    },
    {
      "cell_type": "code",
      "source": [
        "#for Binary classification splitting \n",
        "from sklearn.model_selection import train_test_split\n",
        "X_trainb, X_testb, y_trainb, y_testb = train_test_split(X_smt, y_smt, test_size=0.2)"
      ],
      "metadata": {
        "id": "SMT-ZaeqiWrt"
      },
      "execution_count": null,
      "outputs": []
    },
    {
      "cell_type": "code",
      "source": [
        "type(X_trainb)"
      ],
      "metadata": {
        "colab": {
          "base_uri": "https://localhost:8080/"
        },
        "id": "iHQTLm_6llok",
        "outputId": "b55c0610-a855-448c-a8f3-67ee5df5ecee"
      },
      "execution_count": null,
      "outputs": [
        {
          "output_type": "execute_result",
          "data": {
            "text/plain": [
              "pandas.core.frame.DataFrame"
            ]
          },
          "metadata": {},
          "execution_count": 710
        }
      ]
    },
    {
      "cell_type": "code",
      "source": [
        "X_mul=df_failure.iloc[:,:-1]\n",
        "y_mul=df_failure.iloc[:,-1]"
      ],
      "metadata": {
        "id": "INdGT_5Qjkt8"
      },
      "execution_count": null,
      "outputs": []
    },
    {
      "cell_type": "code",
      "source": [
        "from sklearn.model_selection import train_test_split\n",
        "X_trainm, X_testm, y_trainm, y_testm = train_test_split(X_mul, y_mul, test_size=0.2)"
      ],
      "metadata": {
        "id": "uWoNgNisjtQk"
      },
      "execution_count": null,
      "outputs": []
    },
    {
      "cell_type": "code",
      "source": [
        "type(X_trainm)"
      ],
      "metadata": {
        "colab": {
          "base_uri": "https://localhost:8080/"
        },
        "id": "dyqS11tzlPrs",
        "outputId": "eb0dc7ee-8372-4e45-ec18-97fcc09e04a6"
      },
      "execution_count": null,
      "outputs": [
        {
          "output_type": "execute_result",
          "data": {
            "text/plain": [
              "pandas.core.frame.DataFrame"
            ]
          },
          "metadata": {},
          "execution_count": 713
        }
      ]
    },
    {
      "cell_type": "markdown",
      "source": [
        "# Scaling the data"
      ],
      "metadata": {
        "id": "XU7DItChkBzN"
      }
    },
    {
      "cell_type": "code",
      "source": [
        "pd.DataFrame(X_trainb, columns=X_trainb.columns).plot.box(figsize=(20,5), rot=90)\n",
        "plt.show()  #lets scale both the datasets\n",
        "\n",
        "#no outlier removal beacuse \n",
        "#it seems it have outlier in rotational speed it is very much possible for acheiving high production rate operator may have run in high speeds"
      ],
      "metadata": {
        "colab": {
          "base_uri": "https://localhost:8080/",
          "height": 417
        },
        "id": "dQoApVb3kDWM",
        "outputId": "05c43e2e-e79a-438b-9814-b53de4f1c970"
      },
      "execution_count": null,
      "outputs": [
        {
          "output_type": "display_data",
          "data": {
            "text/plain": [
              "<Figure size 1440x360 with 1 Axes>"
            ],
            "image/png": "[encoded data removed]"
          },
          "metadata": {}
        }
      ]
    },
    {
      "cell_type": "code",
      "source": [
        "type(X_trainb)"
      ],
      "metadata": {
        "colab": {
          "base_uri": "https://localhost:8080/"
        },
        "id": "y9JRqbull418",
        "outputId": "4c0d28b0-8676-428e-8c15-09737f29cfc8"
      },
      "execution_count": null,
      "outputs": [
        {
          "output_type": "execute_result",
          "data": {
            "text/plain": [
              "pandas.core.frame.DataFrame"
            ]
          },
          "metadata": {},
          "execution_count": 715
        }
      ]
    },
    {
      "cell_type": "code",
      "source": [
        "#for binary classification\n",
        "from sklearn.preprocessing import StandardScaler  #x-mean/std\n",
        "ss = StandardScaler().fit(X_trainb)\n",
        "X_trainbs = ss.transform(X_trainb)\n",
        "X_trainbs = pd.DataFrame(X_trainbs, columns=X_trainb.columns)\n",
        "X_testbs = ss.transform(X_testb)\n",
        "X_testbs = pd.DataFrame(X_testbs, columns=X_testb.columns)\n",
        "X_trainbs.plot.box(figsize=(20,5), rot=90)\n",
        "plt.show()"
      ],
      "metadata": {
        "colab": {
          "base_uri": "https://localhost:8080/",
          "height": 415
        },
        "id": "pqdxsFIUkUmM",
        "outputId": "344ea8d7-0209-416c-c077-795873c1aa01"
      },
      "execution_count": null,
      "outputs": [
        {
          "output_type": "display_data",
          "data": {
            "text/plain": [
              "<Figure size 1440x360 with 1 Axes>"
            ],
            "image/png": "[encoded data removed]"
          },
          "metadata": {}
        }
      ]
    },
    {
      "cell_type": "code",
      "source": [
        "#for multi class classification \n",
        "from sklearn.preprocessing import StandardScaler  #x-mean/std\n",
        "ss = StandardScaler().fit(X_trainm)\n",
        "X_trainms = ss.transform(X_trainm)\n",
        "X_trainms = pd.DataFrame(X_trainms, columns=X_trainm.columns)\n",
        "X_testms = ss.transform(X_testm)\n",
        "X_testms = pd.DataFrame(X_testms, columns=X_testm.columns)\n",
        "X_trainms.plot.box(figsize=(20,5), rot=90)\n",
        "plt.show()"
      ],
      "metadata": {
        "colab": {
          "base_uri": "https://localhost:8080/",
          "height": 415
        },
        "id": "F0tqkq36m5az",
        "outputId": "4d590080-4366-4ab8-bc6c-a8b3203d73ef"
      },
      "execution_count": null,
      "outputs": [
        {
          "output_type": "display_data",
          "data": {
            "text/plain": [
              "<Figure size 1440x360 with 1 Axes>"
            ],
            "image/png": "[encoded data removed]"
          },
          "metadata": {}
        }
      ]
    },
    {
      "cell_type": "markdown",
      "source": [
        "# Training the model for binary classification"
      ],
      "metadata": {
        "id": "WWodzBoOnzBK"
      }
    },
    {
      "cell_type": "markdown",
      "source": [
        "**LOGISTIC REGRESSION**\n"
      ],
      "metadata": {
        "id": "TnuAokHbEGS8"
      }
    },
    {
      "cell_type": "code",
      "source": [
        "from sklearn.linear_model import LogisticRegression #main code that build the LR model \n",
        "logistic_regression= LogisticRegression() #initiating the model \n",
        "logistic_regression.fit(X_trainbs,y_trainb) #training "
      ],
      "metadata": {
        "id": "6OrwoEWlnyM6",
        "colab": {
          "base_uri": "https://localhost:8080/"
        },
        "outputId": "46e2432f-2307-4146-e380-6ec20f33805e"
      },
      "execution_count": null,
      "outputs": [
        {
          "output_type": "execute_result",
          "data": {
            "text/plain": [
              "LogisticRegression()"
            ]
          },
          "metadata": {},
          "execution_count": 718
        }
      ]
    },
    {
      "cell_type": "code",
      "source": [
        "y_pred=logistic_regression.predict(X_testbs)"
      ],
      "metadata": {
        "id": "lSoHps7Knw-i"
      },
      "execution_count": null,
      "outputs": []
    },
    {
      "cell_type": "code",
      "source": [
        "from sklearn.metrics import f1_score\n",
        "log_reg_f1=f1_score(y_testb,y_pred) \n",
        "print(\"f1 score for logistic regression :  \",round(log_reg_f1,2))\n",
        "\n",
        "# we get good f1 score "
      ],
      "metadata": {
        "colab": {
          "base_uri": "https://localhost:8080/"
        },
        "id": "eKoUFcWNE9ZX",
        "outputId": "6e6b697e-b40c-4b2f-b42e-dc0396e5644e"
      },
      "execution_count": null,
      "outputs": [
        {
          "output_type": "stream",
          "name": "stdout",
          "text": [
            "f1 score for logistic regression :   0.86\n"
          ]
        }
      ]
    },
    {
      "cell_type": "code",
      "source": [
        "from sklearn.metrics import roc_auc_score\n",
        "log_reg_auroc=roc_auc_score(y_testb,y_pred)\n",
        "print(\"auroc score for logistic regression  :  \",round(log_reg_auroc,2))"
      ],
      "metadata": {
        "colab": {
          "base_uri": "https://localhost:8080/"
        },
        "id": "LAMZbiCvIu-b",
        "outputId": "713a90d7-2fac-4c9a-cdd6-82a5faa6d837"
      },
      "execution_count": null,
      "outputs": [
        {
          "output_type": "stream",
          "name": "stdout",
          "text": [
            "auroc score for logistic regression  :   0.85\n"
          ]
        }
      ]
    },
    {
      "cell_type": "code",
      "source": [
        "from sklearn.metrics import classification_report\n",
        "print(classification_report(y_testb, y_pred))"
      ],
      "metadata": {
        "colab": {
          "base_uri": "https://localhost:8080/"
        },
        "id": "JazXnF9IFsMO",
        "outputId": "0175b312-71a5-40b5-8dc1-94c3417ebe23"
      },
      "execution_count": null,
      "outputs": [
        {
          "output_type": "stream",
          "name": "stdout",
          "text": [
            "              precision    recall  f1-score   support\n",
            "\n",
            "           0       0.84      0.84      0.84      1616\n",
            "           1       0.86      0.86      0.86      1833\n",
            "\n",
            "    accuracy                           0.85      3449\n",
            "   macro avg       0.85      0.85      0.85      3449\n",
            "weighted avg       0.85      0.85      0.85      3449\n",
            "\n"
          ]
        }
      ]
    },
    {
      "cell_type": "code",
      "source": [
        "from sklearn.metrics import  confusion_matrix\n",
        "confusion_matrix(y_testb,y_pred)"
      ],
      "metadata": {
        "colab": {
          "base_uri": "https://localhost:8080/"
        },
        "id": "evIZ0XnKFRA0",
        "outputId": "3b106a1c-c45c-4f58-f4f5-a5f3f619f194"
      },
      "execution_count": null,
      "outputs": [
        {
          "output_type": "execute_result",
          "data": {
            "text/plain": [
              "array([[1359,  257],\n",
              "       [ 261, 1572]])"
            ]
          },
          "metadata": {},
          "execution_count": 723
        }
      ]
    },
    {
      "cell_type": "code",
      "source": [
        "confusion_matrix = pd.crosstab(y_testb, y_pred, rownames=['Actual'], colnames=['Predicted'])\n",
        "fig, ax = plt.subplots(figsize=(5,5))\n",
        "sns.heatmap(confusion_matrix, annot=True,annot_kws={\"size\": 40, \"weight\": \"bold\"}, fmt='d')  # fmt=d makes it to display values in heatmap in numbers"
      ],
      "metadata": {
        "colab": {
          "base_uri": "https://localhost:8080/",
          "height": 351
        },
        "id": "NRHdNZ_KFV8V",
        "outputId": "486da345-2a69-433d-ca5e-548b626b951b"
      },
      "execution_count": null,
      "outputs": [
        {
          "output_type": "execute_result",
          "data": {
            "text/plain": [
              "<matplotlib.axes._subplots.AxesSubplot at 0x7f083e300390>"
            ]
          },
          "metadata": {},
          "execution_count": 724
        },
        {
          "output_type": "display_data",
          "data": {
            "text/plain": [
              "<Figure size 360x360 with 2 Axes>"
            ],
            "image/png": "[encoded data removed]"
          },
          "metadata": {}
        }
      ]
    },
    {
      "cell_type": "markdown",
      "source": [
        "**KNN CLASSIFIER**"
      ],
      "metadata": {
        "id": "L-pgnKlTIkbH"
      }
    },
    {
      "cell_type": "code",
      "source": [
        "from sklearn.neighbors import KNeighborsClassifier"
      ],
      "metadata": {
        "id": "MB_vr-CjIjwq"
      },
      "execution_count": null,
      "outputs": []
    },
    {
      "cell_type": "code",
      "source": [
        "#doing cross validation to identify best value of K \n",
        "from sklearn.model_selection import cross_val_score\n",
        "for i in [1,2,3,4,5,6,7,8,9,10,20,50]:  #for each k value finding the auroc \n",
        "  knn = KNeighborsClassifier(i) #initialising the model\n",
        "  knn.fit(X_trainbs,y_trainb) # training the model\n",
        "  trainAccuracy = accuracy_score(y_trainb, knn.predict(X_trainbs))\n",
        "  print(\"K value  : \" , i,\"Train accuracy :\",trainAccuracy, \" cross val score : \", np.mean(cross_val_score(knn, X_trainbs, y_trainb, cv=10)))"
      ],
      "metadata": {
        "colab": {
          "base_uri": "https://localhost:8080/"
        },
        "id": "dyWldoBJJjYf",
        "outputId": "f860039e-044c-4b93-8c0d-839b36054850"
      },
      "execution_count": null,
      "outputs": [
        {
          "output_type": "stream",
          "name": "stdout",
          "text": [
            "K value  :  1 Train accuracy : 1.0  cross val score :  0.9794127754831793\n",
            "K value  :  2 Train accuracy : 0.9968104385646973  cross val score :  0.9778180996521317\n",
            "K value  :  3 Train accuracy : 0.9855744835085176  cross val score :  0.9720177927714897\n",
            "K value  :  4 Train accuracy : 0.9855019934758971  cross val score :  0.9731782640224484\n",
            "K value  :  5 Train accuracy : 0.9787604204421892  cross val score :  0.9680317074965055\n",
            "K value  :  6 Train accuracy : 0.9802102210945995  cross val score :  0.9702063562127566\n",
            "K value  :  7 Train accuracy : 0.9739760782892353  cross val score :  0.9657121312440227\n",
            "K value  :  8 Train accuracy : 0.9762232693004712  cross val score :  0.9660743449884919\n",
            "K value  :  9 Train accuracy : 0.9712939470822762  cross val score :  0.9625225168416517\n",
            "K value  :  10 Train accuracy : 0.9723088075389634  cross val score :  0.9630299208626288\n",
            "K value  :  20 Train accuracy : 0.958173251177963  cross val score :  0.9502713056089794\n",
            "K value  :  50 Train accuracy : 0.9453425154041319  cross val score :  0.9413550566993516\n"
          ]
        }
      ]
    },
    {
      "cell_type": "code",
      "source": [
        "# at k=2 we get good cross val score \n",
        "from sklearn.neighbors import KNeighborsClassifier\n",
        "classifier = KNeighborsClassifier(n_neighbors=2)  #initialized \n",
        "classifier.fit(X_trainbs,y_trainb)"
      ],
      "metadata": {
        "colab": {
          "base_uri": "https://localhost:8080/"
        },
        "id": "kwBE4if6J_lI",
        "outputId": "ea9d625f-7017-4dab-dfb7-a7ed7a658101"
      },
      "execution_count": null,
      "outputs": [
        {
          "output_type": "execute_result",
          "data": {
            "text/plain": [
              "KNeighborsClassifier(n_neighbors=2)"
            ]
          },
          "metadata": {},
          "execution_count": 727
        }
      ]
    },
    {
      "cell_type": "code",
      "source": [
        "y_pred=classifier.predict(X_testbs)"
      ],
      "metadata": {
        "id": "ff9mwVLdKKvn"
      },
      "execution_count": null,
      "outputs": []
    },
    {
      "cell_type": "code",
      "source": [
        "y_pred  #gives 1 or 0"
      ],
      "metadata": {
        "colab": {
          "base_uri": "https://localhost:8080/"
        },
        "id": "r84qFSEhm40S",
        "outputId": "b76fb914-75e1-465f-9ec7-a1b5a9d291f1"
      },
      "execution_count": null,
      "outputs": [
        {
          "output_type": "execute_result",
          "data": {
            "text/plain": [
              "array([0, 0, 1, ..., 0, 1, 0])"
            ]
          },
          "metadata": {},
          "execution_count": 729
        }
      ]
    },
    {
      "cell_type": "code",
      "source": [
        "from sklearn.metrics import f1_score\n",
        "KNN_f1=f1_score(y_testb,y_pred) \n",
        "print(\"f1 score for KNN  :  \",round(KNN_f1,2))\n",
        "\n",
        "# we get good f1 score "
      ],
      "metadata": {
        "colab": {
          "base_uri": "https://localhost:8080/"
        },
        "id": "mbDQLt9pKRuw",
        "outputId": "045dd27a-e79b-430b-f975-f649bc808bf0"
      },
      "execution_count": null,
      "outputs": [
        {
          "output_type": "stream",
          "name": "stdout",
          "text": [
            "f1 score for KNN  :   0.98\n"
          ]
        }
      ]
    },
    {
      "cell_type": "code",
      "source": [
        "from sklearn.metrics import roc_auc_score\n",
        "KNN_auroc=roc_auc_score(y_testb,y_pred)\n",
        "print(\"auroc score for KNN  :  \",round(KNN_auroc,2))"
      ],
      "metadata": {
        "colab": {
          "base_uri": "https://localhost:8080/"
        },
        "id": "C6UUJtSOLoGY",
        "outputId": "982ddb85-426d-4261-fbe5-6b1ad00e8618"
      },
      "execution_count": null,
      "outputs": [
        {
          "output_type": "stream",
          "name": "stdout",
          "text": [
            "auroc score for KNN  :   0.98\n"
          ]
        }
      ]
    },
    {
      "cell_type": "code",
      "source": [
        "from sklearn.metrics import classification_report\n",
        "print(classification_report(y_testb, y_pred))"
      ],
      "metadata": {
        "colab": {
          "base_uri": "https://localhost:8080/"
        },
        "id": "uIMG9dMvLxpK",
        "outputId": "386b0a44-aff3-435b-c499-f163d08f8e08"
      },
      "execution_count": null,
      "outputs": [
        {
          "output_type": "stream",
          "name": "stdout",
          "text": [
            "              precision    recall  f1-score   support\n",
            "\n",
            "           0       0.98      0.97      0.97      1616\n",
            "           1       0.97      0.98      0.98      1833\n",
            "\n",
            "    accuracy                           0.98      3449\n",
            "   macro avg       0.98      0.98      0.98      3449\n",
            "weighted avg       0.98      0.98      0.98      3449\n",
            "\n"
          ]
        }
      ]
    },
    {
      "cell_type": "code",
      "source": [
        "confusion_matrix = pd.crosstab(y_testb, y_pred, rownames=['Actual'], colnames=['Predicted'])\n",
        "fig, ax = plt.subplots(figsize=(5,5))\n",
        "sns.heatmap(confusion_matrix, annot=True,annot_kws={\"size\": 40, \"weight\": \"bold\"}, fmt='d')"
      ],
      "metadata": {
        "colab": {
          "base_uri": "https://localhost:8080/",
          "height": 354
        },
        "id": "iLvR3XRZL2vo",
        "outputId": "f42fd684-6bad-4f14-bfae-ab39a8b7b2c6"
      },
      "execution_count": null,
      "outputs": [
        {
          "output_type": "execute_result",
          "data": {
            "text/plain": [
              "<matplotlib.axes._subplots.AxesSubplot at 0x7f083ebff150>"
            ]
          },
          "metadata": {},
          "execution_count": 733
        },
        {
          "output_type": "display_data",
          "data": {
            "text/plain": [
              "<Figure size 360x360 with 2 Axes>"
            ],
            "image/png": "[encoded data removed]"
          },
          "metadata": {}
        }
      ]
    },
    {
      "cell_type": "markdown",
      "source": [
        "**DECISION TREE CLASSIFIER**"
      ],
      "metadata": {
        "id": "eNIqEc7qMSeT"
      }
    },
    {
      "cell_type": "code",
      "source": [
        "from sklearn.metrics import accuracy_score"
      ],
      "metadata": {
        "id": "4X3FXEt1NBGZ"
      },
      "execution_count": null,
      "outputs": []
    },
    {
      "cell_type": "code",
      "source": [
        "#doing cross validation to get best value of max _depth to prevent overfitted model \n",
        "from sklearn.model_selection import cross_val_score \n",
        "from sklearn.tree import DecisionTreeClassifier\n",
        "for depth in [1,2,3,4,5,6,7,8,9,10,20]:\n",
        "  dt = DecisionTreeClassifier(max_depth=depth) # will tell the DT to not grow past the given threhsold\n",
        "  # Fit dt to the training set\n",
        "  dt.fit(X_trainbs, y_trainb) # the model is trained\n",
        "  trainAccuracy = accuracy_score(y_trainb, dt.predict(X_trainbs)) # this is useless information - i am showing to prove a point\n",
        "  dt = DecisionTreeClassifier(max_depth=depth) # a fresh model which is not trained yet\n",
        "  valAccuracy = cross_val_score(dt, X_trainbs, y_trainb, cv=10) # syntax : cross_val_Score(freshModel,fts, target, cv= 10/5)\n",
        "  print(\"Depth  : \", depth, \" Training Accuracy : \", trainAccuracy, \" Cross val score : \" ,np.mean(valAccuracy))"
      ],
      "metadata": {
        "colab": {
          "base_uri": "https://localhost:8080/"
        },
        "id": "gtzfqosCMW10",
        "outputId": "142fac6b-cbb3-45b3-9ae7-01a2bc73565f"
      },
      "execution_count": null,
      "outputs": [
        {
          "output_type": "stream",
          "name": "stdout",
          "text": [
            "Depth  :  1  Training Accuracy :  0.7979702790866255  Cross val score :  0.7979699635316496\n",
            "Depth  :  2  Training Accuracy :  0.8741573033707866  Cross val score :  0.8733604481298147\n",
            "Depth  :  3  Training Accuracy :  0.9275099673794853  Cross val score :  0.9246101459784974\n",
            "Depth  :  4  Training Accuracy :  0.958173251177963  Cross val score :  0.9567226828935059\n",
            "Depth  :  5  Training Accuracy :  0.9718013773106198  Cross val score :  0.9669437525617177\n",
            "Depth  :  6  Training Accuracy :  0.9741210583544763  Cross val score :  0.9697708379312882\n",
            "Depth  :  7  Training Accuracy :  0.9791953606379122  Cross val score :  0.9715105989427333\n",
            "Depth  :  8  Training Accuracy :  0.9836172526277637  Cross val score :  0.9744105159168059\n",
            "Depth  :  9  Training Accuracy :  0.9859369336716202  Cross val score :  0.9752079326544123\n",
            "Depth  :  10  Training Accuracy :  0.9879666545849946  Cross val score :  0.9762227406963669\n",
            "Depth  :  20  Training Accuracy :  1.0  Cross val score :  0.9797024729114774\n"
          ]
        }
      ]
    },
    {
      "cell_type": "code",
      "source": [
        "#lets us fit the model with max_depth =5 it seems more of genralised model   in depth>5 we see overfitted model \n",
        "from sklearn.tree import DecisionTreeClassifier\n",
        "dt = DecisionTreeClassifier(max_depth=5)\n",
        "dt.fit(X_trainbs, y_trainb) "
      ],
      "metadata": {
        "colab": {
          "base_uri": "https://localhost:8080/"
        },
        "id": "NGPGAVsVTPKi",
        "outputId": "a52b5359-88ef-4806-f22a-80c7c84d20e2"
      },
      "execution_count": null,
      "outputs": [
        {
          "output_type": "execute_result",
          "data": {
            "text/plain": [
              "DecisionTreeClassifier(max_depth=5)"
            ]
          },
          "metadata": {},
          "execution_count": 736
        }
      ]
    },
    {
      "cell_type": "code",
      "source": [
        "y_pred = dt.predict(X_testbs) "
      ],
      "metadata": {
        "id": "Nz793gCdT1tN"
      },
      "execution_count": null,
      "outputs": []
    },
    {
      "cell_type": "code",
      "source": [
        "y_pred  #gives 1 or 0"
      ],
      "metadata": {
        "colab": {
          "base_uri": "https://localhost:8080/"
        },
        "id": "01PGZw9QmyDS",
        "outputId": "99d5a6a1-5afb-4aae-b046-38e653c363a9"
      },
      "execution_count": null,
      "outputs": [
        {
          "output_type": "execute_result",
          "data": {
            "text/plain": [
              "array([0, 0, 1, ..., 0, 1, 0])"
            ]
          },
          "metadata": {},
          "execution_count": 738
        }
      ]
    },
    {
      "cell_type": "code",
      "source": [
        "from sklearn.metrics import f1_score\n",
        "dt_f1=f1_score(y_testb,y_pred) \n",
        "print(\"f1 score for decision tree  :  \",round(dt_f1,2))\n",
        "\n",
        "# we get good f1 score "
      ],
      "metadata": {
        "colab": {
          "base_uri": "https://localhost:8080/"
        },
        "id": "NunpUaC5T5bj",
        "outputId": "19cd59ec-caa4-44fb-978e-7b6f83f7945c"
      },
      "execution_count": null,
      "outputs": [
        {
          "output_type": "stream",
          "name": "stdout",
          "text": [
            "f1 score for decision tree  :   0.97\n"
          ]
        }
      ]
    },
    {
      "cell_type": "code",
      "source": [
        "from sklearn.metrics import roc_auc_score\n",
        "dt_auroc=roc_auc_score(y_testb,y_pred)\n",
        "print(\"auroc score for decision tree  :  \",round(dt_auroc,2))"
      ],
      "metadata": {
        "colab": {
          "base_uri": "https://localhost:8080/"
        },
        "id": "UcYvFPHTUB1a",
        "outputId": "eecf8b87-0611-49ba-9f59-c95a793d8909"
      },
      "execution_count": null,
      "outputs": [
        {
          "output_type": "stream",
          "name": "stdout",
          "text": [
            "auroc score for decision tree  :   0.97\n"
          ]
        }
      ]
    },
    {
      "cell_type": "code",
      "source": [
        "from sklearn.metrics import classification_report\n",
        "print(classification_report(y_testb, y_pred))"
      ],
      "metadata": {
        "colab": {
          "base_uri": "https://localhost:8080/"
        },
        "id": "aVA2YcimUJWi",
        "outputId": "30c75ad1-1419-44bf-95bb-b5c5ee5d8f95"
      },
      "execution_count": null,
      "outputs": [
        {
          "output_type": "stream",
          "name": "stdout",
          "text": [
            "              precision    recall  f1-score   support\n",
            "\n",
            "           0       0.98      0.96      0.97      1616\n",
            "           1       0.96      0.99      0.97      1833\n",
            "\n",
            "    accuracy                           0.97      3449\n",
            "   macro avg       0.97      0.97      0.97      3449\n",
            "weighted avg       0.97      0.97      0.97      3449\n",
            "\n"
          ]
        }
      ]
    },
    {
      "cell_type": "code",
      "source": [
        "confusion_matrix = pd.crosstab(y_testb, y_pred, rownames=['Actual'], colnames=['Predicted'])\n",
        "fig, ax = plt.subplots(figsize=(5,5))\n",
        "sns.heatmap(confusion_matrix, annot=True,annot_kws={\"size\": 40, \"weight\": \"bold\"}, fmt='d')"
      ],
      "metadata": {
        "colab": {
          "base_uri": "https://localhost:8080/",
          "height": 354
        },
        "id": "wpEcnvJjUK8y",
        "outputId": "a2720136-ecf4-4702-8aaf-9ad8bc1a2089"
      },
      "execution_count": null,
      "outputs": [
        {
          "output_type": "execute_result",
          "data": {
            "text/plain": [
              "<matplotlib.axes._subplots.AxesSubplot at 0x7f083d5d3410>"
            ]
          },
          "metadata": {},
          "execution_count": 742
        },
        {
          "output_type": "display_data",
          "data": {
            "text/plain": [
              "<Figure size 360x360 with 2 Axes>"
            ],
            "image/png": "[encoded data removed]"
          },
          "metadata": {}
        }
      ]
    },
    {
      "cell_type": "markdown",
      "source": [
        "**RANDOM FOREST CLASSIFIER**"
      ],
      "metadata": {
        "id": "S4Q-2ZJJUjEX"
      }
    },
    {
      "cell_type": "code",
      "source": [
        "from sklearn.ensemble import RandomForestClassifier\n",
        "rf= RandomForestClassifier(max_depth=2,n_estimators=100,max_features=\"sqrt\")    #max_depth=log(no of features)\n",
        "rf.fit(X_trainbs, y_trainb)"
      ],
      "metadata": {
        "colab": {
          "base_uri": "https://localhost:8080/"
        },
        "id": "ZislAUqMUifk",
        "outputId": "e86fa790-0d3a-4406-9e31-1de914bb8d3b"
      },
      "execution_count": null,
      "outputs": [
        {
          "output_type": "execute_result",
          "data": {
            "text/plain": [
              "RandomForestClassifier(max_depth=2, max_features='sqrt')"
            ]
          },
          "metadata": {},
          "execution_count": 743
        }
      ]
    },
    {
      "cell_type": "code",
      "source": [
        "y_pred= rf.predict(X_testbs)"
      ],
      "metadata": {
        "id": "99cLZGaoVJ60"
      },
      "execution_count": null,
      "outputs": []
    },
    {
      "cell_type": "code",
      "source": [
        "from sklearn.metrics import f1_score\n",
        "rf_f1=f1_score(y_testb,y_pred) \n",
        "print(\"f1 score for decision tree  :  \",round(rf_f1,2))\n",
        "\n",
        "# we get good f1 score "
      ],
      "metadata": {
        "colab": {
          "base_uri": "https://localhost:8080/"
        },
        "id": "d1kDZVfHVMpA",
        "outputId": "4d725187-02a7-46ae-83c0-fbc53368bdef"
      },
      "execution_count": null,
      "outputs": [
        {
          "output_type": "stream",
          "name": "stdout",
          "text": [
            "f1 score for decision tree  :   0.89\n"
          ]
        }
      ]
    },
    {
      "cell_type": "code",
      "source": [
        "#doing cross validation to get best value of max _depth to prevent overfitted model \n",
        "from sklearn.model_selection import cross_val_score \n",
        "from sklearn.ensemble import RandomForestClassifier\n",
        "for depth in [1,2,3,4,5,6,7,8,9,10,20]:\n",
        "  rf= RandomForestClassifier(max_depth=depth,n_estimators=100,max_features=\"sqrt\")   # will tell the DT to not grow past the given threhsold\n",
        "  # Fit dt to the training set\n",
        "  rf.fit(X_trainbs, y_trainb) # the model is trained\n",
        "  trainAccuracy = accuracy_score(y_trainb, rf.predict(X_trainbs)) # this is useless information - i am showing to prove a point\n",
        "  rf= RandomForestClassifier(max_depth=depth,n_estimators=100,max_features=\"sqrt\")   # a fresh model which is not trained yet\n",
        "  valAccuracy = cross_val_score(rf, X_trainbs, y_trainb, cv=10) # syntax : cross_val_Score(freshModel,fts, target, cv= 10/5)\n",
        "  print(\"Depth  : \", depth, \" Training Accuracy : \", trainAccuracy, \" Cross val score : \" ,np.mean(valAccuracy))"
      ],
      "metadata": {
        "colab": {
          "base_uri": "https://localhost:8080/"
        },
        "id": "XhXbcKgbeKlw",
        "outputId": "11c8727f-4f85-40c4-8fce-9b6fe2b8d009"
      },
      "execution_count": null,
      "outputs": [
        {
          "output_type": "stream",
          "name": "stdout",
          "text": [
            "Depth  :  1  Training Accuracy :  0.8252990213845596  Cross val score :  0.8264586814641991\n",
            "Depth  :  2  Training Accuracy :  0.8922798115259152  Cross val score :  0.8852488150413553\n",
            "Depth  :  3  Training Accuracy :  0.9420804639362088  Cross val score :  0.9365709766581538\n",
            "Depth  :  4  Training Accuracy :  0.952953968829286  Cross val score :  0.949474204159704\n",
            "Depth  :  5  Training Accuracy :  0.9647698441464299  Cross val score :  0.9610722956143393\n",
            "Depth  :  6  Training Accuracy :  0.97042406669083  Cross val score :  0.9667987199293753\n",
            "Depth  :  7  Training Accuracy :  0.9763682493657122  Cross val score :  0.9707130771090162\n",
            "Depth  :  8  Training Accuracy :  0.9799202609641174  Cross val score :  0.9739030067997184\n",
            "Depth  :  9  Training Accuracy :  0.9835447625951431  Cross val score :  0.9765850595369466\n",
            "Depth  :  10  Training Accuracy :  0.9875317143892715  Cross val score :  0.9781074292440438\n",
            "Depth  :  20  Training Accuracy :  1.0  Cross val score :  0.9862264190602307\n"
          ]
        }
      ]
    },
    {
      "cell_type": "code",
      "source": [
        "from sklearn.ensemble import RandomForestClassifier\n",
        "rf= RandomForestClassifier(max_depth=4,n_estimators=100,max_features=\"sqrt\")    #max_depth=log(no of features)\n",
        "rf.fit(X_trainbs, y_trainb)"
      ],
      "metadata": {
        "colab": {
          "base_uri": "https://localhost:8080/"
        },
        "id": "ZZZoFYKTe2an",
        "outputId": "14ed3d7a-d8fe-4257-86dd-83af7108e585"
      },
      "execution_count": null,
      "outputs": [
        {
          "output_type": "execute_result",
          "data": {
            "text/plain": [
              "RandomForestClassifier(max_depth=4, max_features='sqrt')"
            ]
          },
          "metadata": {},
          "execution_count": 747
        }
      ]
    },
    {
      "cell_type": "code",
      "source": [
        "y_pred=rf.predict(X_testbs)"
      ],
      "metadata": {
        "id": "Oh4gib3Me7uA"
      },
      "execution_count": null,
      "outputs": []
    },
    {
      "cell_type": "code",
      "source": [
        "y_pred   #gives either 1 or 0 "
      ],
      "metadata": {
        "colab": {
          "base_uri": "https://localhost:8080/"
        },
        "id": "Uk0k0M1umqIc",
        "outputId": "64a77bf0-24af-4a8c-8290-6c8f1fc9ce5e"
      },
      "execution_count": null,
      "outputs": [
        {
          "output_type": "execute_result",
          "data": {
            "text/plain": [
              "array([0, 0, 1, ..., 0, 1, 0])"
            ]
          },
          "metadata": {},
          "execution_count": 749
        }
      ]
    },
    {
      "cell_type": "code",
      "source": [
        "from sklearn.metrics import f1_score\n",
        "rf_f1=f1_score(y_testb,y_pred) \n",
        "print(\"f1 score for random_forest_classifier  :  \",round(rf_f1,2))\n",
        "\n",
        "# we get good f1 score "
      ],
      "metadata": {
        "colab": {
          "base_uri": "https://localhost:8080/"
        },
        "id": "yaTbzbLEe5yY",
        "outputId": "999e241c-6c8b-4243-e9c6-4b1538d549a9"
      },
      "execution_count": null,
      "outputs": [
        {
          "output_type": "stream",
          "name": "stdout",
          "text": [
            "f1 score for random_forest_classifier  :   0.96\n"
          ]
        }
      ]
    },
    {
      "cell_type": "code",
      "source": [
        "from sklearn.metrics import roc_auc_score\n",
        "rf_auroc=roc_auc_score(y_testb,y_pred)\n",
        "print(\"auroc score for random forest classifier   :  \",round(rf_auroc,2))"
      ],
      "metadata": {
        "colab": {
          "base_uri": "https://localhost:8080/"
        },
        "id": "upAlajLSfQAH",
        "outputId": "e57e3cbb-0288-47df-dd0b-50c94541299f"
      },
      "execution_count": null,
      "outputs": [
        {
          "output_type": "stream",
          "name": "stdout",
          "text": [
            "auroc score for random forest classifier   :   0.95\n"
          ]
        }
      ]
    },
    {
      "cell_type": "code",
      "source": [
        "confusion_matrix = pd.crosstab(y_testb, y_pred, rownames=['Actual'], colnames=['Predicted'])\n",
        "fig, ax = plt.subplots(figsize=(5,5))\n",
        "sns.heatmap(confusion_matrix, annot=True,annot_kws={\"size\": 40, \"weight\": \"bold\"}, fmt='d')"
      ],
      "metadata": {
        "colab": {
          "base_uri": "https://localhost:8080/",
          "height": 351
        },
        "id": "q7UfpKczfYfp",
        "outputId": "600d3cb9-3c1c-4fd2-c16e-b8c8a8cccf78"
      },
      "execution_count": null,
      "outputs": [
        {
          "output_type": "execute_result",
          "data": {
            "text/plain": [
              "<matplotlib.axes._subplots.AxesSubplot at 0x7f083d4a59d0>"
            ]
          },
          "metadata": {},
          "execution_count": 752
        },
        {
          "output_type": "display_data",
          "data": {
            "text/plain": [
              "<Figure size 360x360 with 2 Axes>"
            ],
            "image/png": "[encoded data removed]"
          },
          "metadata": {}
        }
      ]
    },
    {
      "cell_type": "markdown",
      "source": [
        "XGB CLASSIFIER"
      ],
      "metadata": {
        "id": "bMjKlMh2fhGg"
      }
    },
    {
      "cell_type": "code",
      "source": [
        "import xgboost as xgb\n",
        "from sklearn.model_selection import cross_val_score\n",
        "import numpy as np\n",
        "for lr in [0.01,0.02,0.03,0.04,0.05,0.06,0.07,0.08,0.09,0.1,0.11,0.12,0.13,0.14,0.15,0.2,0.5,0.7,1]:  #cross validation for learning rate \n",
        "  model = xgb.XGBClassifier(learning_rate = lr, n_estimators=100, verbosity = 0) # initialise the model\n",
        "  model.fit(X_trainbs,y_trainb)\n",
        "  print(\"Learning rate : \", lr,\" Train score : \", accuracy_score(y_trainb, model.predict(X_trainbs)),\" Cross-Val score : \", np.mean(cross_val_score(model, X_trainbs, y_trainb, cv=10)))"
      ],
      "metadata": {
        "colab": {
          "base_uri": "https://localhost:8080/"
        },
        "id": "99s2dOc0fggI",
        "outputId": "b8bf49fe-c999-44a1-d3a9-75dfeb0b5ddd"
      },
      "execution_count": null,
      "outputs": [
        {
          "output_type": "stream",
          "name": "stdout",
          "text": [
            "Learning rate :  0.01  Train score :  0.9452700253715114  Cross-Val score :  0.9388899223339745\n",
            "Learning rate :  0.02  Train score :  0.9600579920260964  Cross-Val score :  0.9578827337600234\n",
            "Learning rate :  0.03  Train score :  0.9635375135918811  Cross-Val score :  0.9615798572794823\n",
            "Learning rate :  0.04  Train score :  0.9663646248640811  Cross-Val score :  0.963682042227617\n",
            "Learning rate :  0.05  Train score :  0.9673069952881479  Cross-Val score :  0.9643345314289918\n",
            "Learning rate :  0.06  Train score :  0.9689017760057992  Cross-Val score :  0.9657114481193052\n",
            "Learning rate :  0.07  Train score :  0.9699891264951069  Cross-Val score :  0.9668713413416569\n",
            "Learning rate :  0.08  Train score :  0.9702065965929685  Cross-Val score :  0.9671612489621759\n",
            "Learning rate :  0.09  Train score :  0.9723088075389634  Cross-Val score :  0.9679587182478377\n",
            "Learning rate :  0.1  Train score :  0.9735411380935122  Cross-Val score :  0.969625857847001\n",
            "Learning rate :  0.11  Train score :  0.9742660384197173  Cross-Val score :  0.970713287301237\n",
            "Learning rate :  0.12  Train score :  0.9752808988764045  Cross-Val score :  0.9711483851982639\n",
            "Learning rate :  0.13  Train score :  0.975498368974266  Cross-Val score :  0.9723805845445661\n",
            "Learning rate :  0.14  Train score :  0.9765857194635738  Cross-Val score :  0.9723081733245053\n",
            "Learning rate :  0.15  Train score :  0.9784704603117071  Cross-Val score :  0.9735404777669178\n",
            "Learning rate :  0.2  Train score :  0.982964842334179  Cross-Val score :  0.9768748095132999\n",
            "Learning rate :  0.5  Train score :  0.9965929684668358  Cross-Val score :  0.986879118453826\n",
            "Learning rate :  0.7  Train score :  0.9982602392171076  Cross-Val score :  0.9877489989595485\n",
            "Learning rate :  1  Train score :  0.9997825299021385  Cross-Val score :  0.9891265462265242\n"
          ]
        }
      ]
    },
    {
      "cell_type": "code",
      "source": [
        "model = xgb.XGBClassifier(learning_rate =0.08, n_estimators=100)  #at lr=0.08 model is more generalized\n",
        "model.fit(X_trainbs,y_trainb) #train the model"
      ],
      "metadata": {
        "colab": {
          "base_uri": "https://localhost:8080/"
        },
        "id": "Jh1CFb8LipO5",
        "outputId": "40761a5c-cf55-410b-c84e-5ea4dc1d4e72"
      },
      "execution_count": null,
      "outputs": [
        {
          "output_type": "execute_result",
          "data": {
            "text/plain": [
              "XGBClassifier(learning_rate=0.08)"
            ]
          },
          "metadata": {},
          "execution_count": 754
        }
      ]
    },
    {
      "cell_type": "code",
      "source": [
        "y_pred=model.predict(X_testbs)"
      ],
      "metadata": {
        "id": "jyExqVw4gGOZ"
      },
      "execution_count": null,
      "outputs": []
    },
    {
      "cell_type": "code",
      "source": [
        "y_pred  # we are getting predicted probablity for xgb"
      ],
      "metadata": {
        "colab": {
          "base_uri": "https://localhost:8080/"
        },
        "id": "XJNdXfMDnw3s",
        "outputId": "439d7973-33e0-41df-8bc7-67e6da781c51"
      },
      "execution_count": null,
      "outputs": [
        {
          "output_type": "execute_result",
          "data": {
            "text/plain": [
              "array([0, 0, 1, ..., 0, 1, 0])"
            ]
          },
          "metadata": {},
          "execution_count": 756
        }
      ]
    },
    {
      "cell_type": "code",
      "source": [
        "from sklearn.metrics import f1_score\n",
        "xg_f1=f1_score(y_testb,y_pred) \n",
        "print(\"f1 score for xg boost  :  \",round(xg_f1,2))\n",
        "\n",
        "# we get good f1 score "
      ],
      "metadata": {
        "colab": {
          "base_uri": "https://localhost:8080/"
        },
        "id": "hUFqDbYDooED",
        "outputId": "99ac574a-ad1a-4d5a-8875-ca4b94864359"
      },
      "execution_count": null,
      "outputs": [
        {
          "output_type": "stream",
          "name": "stdout",
          "text": [
            "f1 score for xg boost  :   0.98\n"
          ]
        }
      ]
    },
    {
      "cell_type": "code",
      "source": [
        "from sklearn.metrics import roc_auc_score\n",
        "xg_auroc=roc_auc_score(y_testb,y_pred)  #handles predicted probaility \n",
        "print(\"auroc score for xg boost   :  \",round(xg_auroc,2))  #we get 0.99 very good auroc score "
      ],
      "metadata": {
        "colab": {
          "base_uri": "https://localhost:8080/"
        },
        "id": "6U1hz3q0j6Ai",
        "outputId": "a45ef609-e2d3-49b2-e14e-69ac444c4219"
      },
      "execution_count": null,
      "outputs": [
        {
          "output_type": "stream",
          "name": "stdout",
          "text": [
            "auroc score for xg boost   :   0.97\n"
          ]
        }
      ]
    },
    {
      "cell_type": "code",
      "source": [
        "from sklearn.metrics import  confusion_matrix\n",
        "confusion_matrix=confusion_matrix(y_testb,y_pred)"
      ],
      "metadata": {
        "id": "iohn3CkxpZCD"
      },
      "execution_count": null,
      "outputs": []
    },
    {
      "cell_type": "code",
      "source": [
        "fig, ax = plt.subplots(figsize=(5,5))\n",
        "sns.heatmap(confusion_matrix, annot=True,annot_kws={\"size\": 40, \"weight\": \"bold\"}, fmt='d')"
      ],
      "metadata": {
        "colab": {
          "base_uri": "https://localhost:8080/",
          "height": 340
        },
        "id": "oHA6NpuZmYW6",
        "outputId": "8c9624e3-23c5-4784-95b1-444900dbdce0"
      },
      "execution_count": null,
      "outputs": [
        {
          "output_type": "execute_result",
          "data": {
            "text/plain": [
              "<matplotlib.axes._subplots.AxesSubplot at 0x7f083d54ee90>"
            ]
          },
          "metadata": {},
          "execution_count": 760
        },
        {
          "output_type": "display_data",
          "data": {
            "text/plain": [
              "<Figure size 360x360 with 2 Axes>"
            ],
            "image/png": "[encoded data removed]"
          },
          "metadata": {}
        }
      ]
    },
    {
      "cell_type": "code",
      "source": [
        "bin_class=pd.DataFrame({\"Model\":[\"Logistic regression\",\"KNN\",\"Decision Tree\",\"Random Forest\",\"XGboost\"],\n",
        "                       \"f1_score\":[log_reg_f1,KNN_f1,dt_f1,rf_f1,xg_f1],\n",
        "                       \"auroc\":[log_reg_auroc,KNN_auroc,dt_auroc,rf_auroc,xg_auroc]})"
      ],
      "metadata": {
        "id": "DEmytJ1Op00T"
      },
      "execution_count": null,
      "outputs": []
    },
    {
      "cell_type": "code",
      "source": [
        "print(\"Models and their evaluations\")\n",
        "print(\"\\n\")\n",
        "bin_class.sort_values([\"f1_score\",\"auroc\"],ascending=False)"
      ],
      "metadata": {
        "colab": {
          "base_uri": "https://localhost:8080/",
          "height": 258
        },
        "id": "P5VLgd5_qwcj",
        "outputId": "fa39a73d-86bb-462d-dbcc-038edd02ebc0"
      },
      "execution_count": null,
      "outputs": [
        {
          "output_type": "stream",
          "name": "stdout",
          "text": [
            "Models and their evaluations\n",
            "\n",
            "\n"
          ]
        },
        {
          "output_type": "execute_result",
          "data": {
            "text/plain": [
              "                 Model  f1_score     auroc\n",
              "1                  KNN  0.978019  0.976074\n",
              "4              XGboost  0.975108  0.972670\n",
              "2        Decision Tree  0.974110  0.971286\n",
              "3        Random Forest  0.955008  0.949851\n",
              "0  Logistic regression  0.858547  0.849288"
            ],
            "text/html": [
              "\n",
              "  <div id=\"df-6dc765b5-f7ed-4bf1-94b5-ee1135522adb\">\n",
              "    <div class=\"colab-df-container\">\n",
              "      <div>\n",
              "<style scoped>\n",
              "    .dataframe tbody tr th:only-of-type {\n",
              "        vertical-align: middle;\n",
              "    }\n",
              "\n",
              "    .dataframe tbody tr th {\n",
              "        vertical-align: top;\n",
              "    }\n",
              "\n",
              "    .dataframe thead th {\n",
              "        text-align: right;\n",
              "    }\n",
              "</style>\n",
              "<table border=\"1\" class=\"dataframe\">\n",
              "  <thead>\n",
              "    <tr style=\"text-align: right;\">\n",
              "      <th></th>\n",
              "      <th>Model</th>\n",
              "      <th>f1_score</th>\n",
              "      <th>auroc</th>\n",
              "    </tr>\n",
              "  </thead>\n",
              "  <tbody>\n",
              "    <tr>\n",
              "      <th>1</th>\n",
              "      <td>KNN</td>\n",
              "      <td>0.978019</td>\n",
              "      <td>0.976074</td>\n",
              "    </tr>\n",
              "    <tr>\n",
              "      <th>4</th>\n",
              "      <td>XGboost</td>\n",
              "      <td>0.975108</td>\n",
              "      <td>0.972670</td>\n",
              "    </tr>\n",
              "    <tr>\n",
              "      <th>2</th>\n",
              "      <td>Decision Tree</td>\n",
              "      <td>0.974110</td>\n",
              "      <td>0.971286</td>\n",
              "    </tr>\n",
              "    <tr>\n",
              "      <th>3</th>\n",
              "      <td>Random Forest</td>\n",
              "      <td>0.955008</td>\n",
              "      <td>0.949851</td>\n",
              "    </tr>\n",
              "    <tr>\n",
              "      <th>0</th>\n",
              "      <td>Logistic regression</td>\n",
              "      <td>0.858547</td>\n",
              "      <td>0.849288</td>\n",
              "    </tr>\n",
              "  </tbody>\n",
              "</table>\n",
              "</div>\n",
              "      <button class=\"colab-df-convert\" onclick=\"convertToInteractive('df-6dc765b5-f7ed-4bf1-94b5-ee1135522adb')\"\n",
              "              title=\"Convert this dataframe to an interactive table.\"\n",
              "              style=\"display:none;\">\n",
              "        \n",
              "  <svg xmlns=\"http://www.w3.org/2000/svg\" height=\"24px\"viewBox=\"0 0 24 24\"\n",
              "       width=\"24px\">\n",
              "    <path d=\"M0 0h24v24H0V0z\" fill=\"none\"/>\n",
              "    <path d=\"M18.56 5.44l.94 2.06.94-2.06 2.06-.94-2.06-.94-.94-2.06-.94 2.06-2.06.94zm-11 1L8.5 8.5l.94-2.06 2.06-.94-2.06-.94L8.5 2.5l-.94 2.06-2.06.94zm10 10l.94 2.06.94-2.06 2.06-.94-2.06-.94-.94-2.06-.94 2.06-2.06.94z\"/><path d=\"M17.41 7.96l-1.37-1.37c-.4-.4-.92-.59-1.43-.59-.52 0-1.04.2-1.43.59L10.3 9.45l-7.72 7.72c-.78.78-.78 2.05 0 2.83L4 21.41c.39.39.9.59 1.41.59.51 0 1.02-.2 1.41-.59l7.78-7.78 2.81-2.81c.8-.78.8-2.07 0-2.86zM5.41 20L4 18.59l7.72-7.72 1.47 1.35L5.41 20z\"/>\n",
              "  </svg>\n",
              "      </button>\n",
              "      \n",
              "  <style>\n",
              "    .colab-df-container {\n",
              "      display:flex;\n",
              "      flex-wrap:wrap;\n",
              "      gap: 12px;\n",
              "    }\n",
              "\n",
              "    .colab-df-convert {\n",
              "      background-color: #E8F0FE;\n",
              "      border: none;\n",
              "      border-radius: 50%;\n",
              "      cursor: pointer;\n",
              "      display: none;\n",
              "      fill: #1967D2;\n",
              "      height: 32px;\n",
              "      padding: 0 0 0 0;\n",
              "      width: 32px;\n",
              "    }\n",
              "\n",
              "    .colab-df-convert:hover {\n",
              "      background-color: #E2EBFA;\n",
              "      box-shadow: 0px 1px 2px rgba(60, 64, 67, 0.3), 0px 1px 3px 1px rgba(60, 64, 67, 0.15);\n",
              "      fill: #174EA6;\n",
              "    }\n",
              "\n",
              "    [theme=dark] .colab-df-convert {\n",
              "      background-color: #3B4455;\n",
              "      fill: #D2E3FC;\n",
              "    }\n",
              "\n",
              "    [theme=dark] .colab-df-convert:hover {\n",
              "      background-color: #434B5C;\n",
              "      box-shadow: 0px 1px 3px 1px rgba(0, 0, 0, 0.15);\n",
              "      filter: drop-shadow(0px 1px 2px rgba(0, 0, 0, 0.3));\n",
              "      fill: #FFFFFF;\n",
              "    }\n",
              "  </style>\n",
              "\n",
              "      <script>\n",
              "        const buttonEl =\n",
              "          document.querySelector('#df-6dc765b5-f7ed-4bf1-94b5-ee1135522adb button.colab-df-convert');\n",
              "        buttonEl.style.display =\n",
              "          google.colab.kernel.accessAllowed ? 'block' : 'none';\n",
              "\n",
              "        async function convertToInteractive(key) {\n",
              "          const element = document.querySelector('#df-6dc765b5-f7ed-4bf1-94b5-ee1135522adb');\n",
              "          const dataTable =\n",
              "            await google.colab.kernel.invokeFunction('convertToInteractive',\n",
              "                                                     [key], {});\n",
              "          if (!dataTable) return;\n",
              "\n",
              "          const docLinkHtml = 'Like what you see? Visit the ' +\n",
              "            '<a target=\"_blank\" href=https://colab.research.google.com/notebooks/data_table.ipynb>data table notebook</a>'\n",
              "            + ' to learn more about interactive tables.';\n",
              "          element.innerHTML = '';\n",
              "          dataTable['output_type'] = 'display_data';\n",
              "          await google.colab.output.renderOutput(dataTable, element);\n",
              "          const docLink = document.createElement('div');\n",
              "          docLink.innerHTML = docLinkHtml;\n",
              "          element.appendChild(docLink);\n",
              "        }\n",
              "      </script>\n",
              "    </div>\n",
              "  </div>\n",
              "  "
            ]
          },
          "metadata": {},
          "execution_count": 762
        }
      ]
    },
    {
      "cell_type": "markdown",
      "source": [
        "# Training the model for multi class classification"
      ],
      "metadata": {
        "id": "2W8_4CBda8Z0"
      }
    },
    {
      "cell_type": "code",
      "source": [
        "df_failure.head()"
      ],
      "metadata": {
        "id": "gKj82D8esL98",
        "colab": {
          "base_uri": "https://localhost:8080/",
          "height": 206
        },
        "outputId": "6ef68dbc-027c-4aac-87e1-8be5bc916871"
      },
      "execution_count": null,
      "outputs": [
        {
          "output_type": "execute_result",
          "data": {
            "text/plain": [
              "     type  air_temperature  process_temperature  rotational_speed  torque  \\\n",
              "50      1            298.9                309.1              2861     4.6   \n",
              "69      1            298.9                309.0              1410    65.7   \n",
              "77      1            298.8                308.9              1455    41.3   \n",
              "160     1            298.4                308.2              1282    60.7   \n",
              "161     1            298.3                308.1              1412    52.3   \n",
              "\n",
              "     tool_wear  failure_type  \n",
              "50         143             3  \n",
              "69         191             3  \n",
              "77         208             1  \n",
              "160        216             2  \n",
              "161        218             2  "
            ],
            "text/html": [
              "\n",
              "  <div id=\"df-4424ff11-c3f1-4e21-b657-5040fac01e1e\">\n",
              "    <div class=\"colab-df-container\">\n",
              "      <div>\n",
              "<style scoped>\n",
              "    .dataframe tbody tr th:only-of-type {\n",
              "        vertical-align: middle;\n",
              "    }\n",
              "\n",
              "    .dataframe tbody tr th {\n",
              "        vertical-align: top;\n",
              "    }\n",
              "\n",
              "    .dataframe thead th {\n",
              "        text-align: right;\n",
              "    }\n",
              "</style>\n",
              "<table border=\"1\" class=\"dataframe\">\n",
              "  <thead>\n",
              "    <tr style=\"text-align: right;\">\n",
              "      <th></th>\n",
              "      <th>type</th>\n",
              "      <th>air_temperature</th>\n",
              "      <th>process_temperature</th>\n",
              "      <th>rotational_speed</th>\n",
              "      <th>torque</th>\n",
              "      <th>tool_wear</th>\n",
              "      <th>failure_type</th>\n",
              "    </tr>\n",
              "  </thead>\n",
              "  <tbody>\n",
              "    <tr>\n",
              "      <th>50</th>\n",
              "      <td>1</td>\n",
              "      <td>298.9</td>\n",
              "      <td>309.1</td>\n",
              "      <td>2861</td>\n",
              "      <td>4.6</td>\n",
              "      <td>143</td>\n",
              "      <td>3</td>\n",
              "    </tr>\n",
              "    <tr>\n",
              "      <th>69</th>\n",
              "      <td>1</td>\n",
              "      <td>298.9</td>\n",
              "      <td>309.0</td>\n",
              "      <td>1410</td>\n",
              "      <td>65.7</td>\n",
              "      <td>191</td>\n",
              "      <td>3</td>\n",
              "    </tr>\n",
              "    <tr>\n",
              "      <th>77</th>\n",
              "      <td>1</td>\n",
              "      <td>298.8</td>\n",
              "      <td>308.9</td>\n",
              "      <td>1455</td>\n",
              "      <td>41.3</td>\n",
              "      <td>208</td>\n",
              "      <td>1</td>\n",
              "    </tr>\n",
              "    <tr>\n",
              "      <th>160</th>\n",
              "      <td>1</td>\n",
              "      <td>298.4</td>\n",
              "      <td>308.2</td>\n",
              "      <td>1282</td>\n",
              "      <td>60.7</td>\n",
              "      <td>216</td>\n",
              "      <td>2</td>\n",
              "    </tr>\n",
              "    <tr>\n",
              "      <th>161</th>\n",
              "      <td>1</td>\n",
              "      <td>298.3</td>\n",
              "      <td>308.1</td>\n",
              "      <td>1412</td>\n",
              "      <td>52.3</td>\n",
              "      <td>218</td>\n",
              "      <td>2</td>\n",
              "    </tr>\n",
              "  </tbody>\n",
              "</table>\n",
              "</div>\n",
              "      <button class=\"colab-df-convert\" onclick=\"convertToInteractive('df-4424ff11-c3f1-4e21-b657-5040fac01e1e')\"\n",
              "              title=\"Convert this dataframe to an interactive table.\"\n",
              "              style=\"display:none;\">\n",
              "        \n",
              "  <svg xmlns=\"http://www.w3.org/2000/svg\" height=\"24px\"viewBox=\"0 0 24 24\"\n",
              "       width=\"24px\">\n",
              "    <path d=\"M0 0h24v24H0V0z\" fill=\"none\"/>\n",
              "    <path d=\"M18.56 5.44l.94 2.06.94-2.06 2.06-.94-2.06-.94-.94-2.06-.94 2.06-2.06.94zm-11 1L8.5 8.5l.94-2.06 2.06-.94-2.06-.94L8.5 2.5l-.94 2.06-2.06.94zm10 10l.94 2.06.94-2.06 2.06-.94-2.06-.94-.94-2.06-.94 2.06-2.06.94z\"/><path d=\"M17.41 7.96l-1.37-1.37c-.4-.4-.92-.59-1.43-.59-.52 0-1.04.2-1.43.59L10.3 9.45l-7.72 7.72c-.78.78-.78 2.05 0 2.83L4 21.41c.39.39.9.59 1.41.59.51 0 1.02-.2 1.41-.59l7.78-7.78 2.81-2.81c.8-.78.8-2.07 0-2.86zM5.41 20L4 18.59l7.72-7.72 1.47 1.35L5.41 20z\"/>\n",
              "  </svg>\n",
              "      </button>\n",
              "      \n",
              "  <style>\n",
              "    .colab-df-container {\n",
              "      display:flex;\n",
              "      flex-wrap:wrap;\n",
              "      gap: 12px;\n",
              "    }\n",
              "\n",
              "    .colab-df-convert {\n",
              "      background-color: #E8F0FE;\n",
              "      border: none;\n",
              "      border-radius: 50%;\n",
              "      cursor: pointer;\n",
              "      display: none;\n",
              "      fill: #1967D2;\n",
              "      height: 32px;\n",
              "      padding: 0 0 0 0;\n",
              "      width: 32px;\n",
              "    }\n",
              "\n",
              "    .colab-df-convert:hover {\n",
              "      background-color: #E2EBFA;\n",
              "      box-shadow: 0px 1px 2px rgba(60, 64, 67, 0.3), 0px 1px 3px 1px rgba(60, 64, 67, 0.15);\n",
              "      fill: #174EA6;\n",
              "    }\n",
              "\n",
              "    [theme=dark] .colab-df-convert {\n",
              "      background-color: #3B4455;\n",
              "      fill: #D2E3FC;\n",
              "    }\n",
              "\n",
              "    [theme=dark] .colab-df-convert:hover {\n",
              "      background-color: #434B5C;\n",
              "      box-shadow: 0px 1px 3px 1px rgba(0, 0, 0, 0.15);\n",
              "      filter: drop-shadow(0px 1px 2px rgba(0, 0, 0, 0.3));\n",
              "      fill: #FFFFFF;\n",
              "    }\n",
              "  </style>\n",
              "\n",
              "      <script>\n",
              "        const buttonEl =\n",
              "          document.querySelector('#df-4424ff11-c3f1-4e21-b657-5040fac01e1e button.colab-df-convert');\n",
              "        buttonEl.style.display =\n",
              "          google.colab.kernel.accessAllowed ? 'block' : 'none';\n",
              "\n",
              "        async function convertToInteractive(key) {\n",
              "          const element = document.querySelector('#df-4424ff11-c3f1-4e21-b657-5040fac01e1e');\n",
              "          const dataTable =\n",
              "            await google.colab.kernel.invokeFunction('convertToInteractive',\n",
              "                                                     [key], {});\n",
              "          if (!dataTable) return;\n",
              "\n",
              "          const docLinkHtml = 'Like what you see? Visit the ' +\n",
              "            '<a target=\"_blank\" href=https://colab.research.google.com/notebooks/data_table.ipynb>data table notebook</a>'\n",
              "            + ' to learn more about interactive tables.';\n",
              "          element.innerHTML = '';\n",
              "          dataTable['output_type'] = 'display_data';\n",
              "          await google.colab.output.renderOutput(dataTable, element);\n",
              "          const docLink = document.createElement('div');\n",
              "          docLink.innerHTML = docLinkHtml;\n",
              "          element.appendChild(docLink);\n",
              "        }\n",
              "      </script>\n",
              "    </div>\n",
              "  </div>\n",
              "  "
            ]
          },
          "metadata": {},
          "execution_count": 763
        }
      ]
    },
    {
      "cell_type": "code",
      "source": [
        "#types of failure\n",
        "df_failure[\"failure_type\"].value_counts()  #there are 4 classes to predict\n",
        "\n",
        "# 4 classes are {\"Tool Wear Failure\":1,\"Overstrain Failure\":2,\"Power Failure\":3,\"Heat Dissipation Failure\":4}"
      ],
      "metadata": {
        "colab": {
          "base_uri": "https://localhost:8080/"
        },
        "id": "Ab9M1rxgbDGE",
        "outputId": "aee0423c-f410-45ac-8d37-b2ac5f99ee81"
      },
      "execution_count": null,
      "outputs": [
        {
          "output_type": "execute_result",
          "data": {
            "text/plain": [
              "4    112\n",
              "3     92\n",
              "2     78\n",
              "1     45\n",
              "Name: failure_type, dtype: int64"
            ]
          },
          "metadata": {},
          "execution_count": 764
        }
      ]
    },
    {
      "cell_type": "markdown",
      "source": [
        "**LOGISTIC REGRESSION**\n"
      ],
      "metadata": {
        "id": "3D2KygEacZMV"
      }
    },
    {
      "cell_type": "code",
      "source": [
        "from sklearn.linear_model import LogisticRegression #main code that build the LR model \n",
        "logistic_regression= LogisticRegression() #initiating the model \n",
        "logistic_regression.fit(X_trainms,y_trainm) #training "
      ],
      "metadata": {
        "colab": {
          "base_uri": "https://localhost:8080/"
        },
        "id": "0E8wSz07cKmt",
        "outputId": "5e401564-4cba-449f-c985-5804549dd49f"
      },
      "execution_count": null,
      "outputs": [
        {
          "output_type": "execute_result",
          "data": {
            "text/plain": [
              "LogisticRegression()"
            ]
          },
          "metadata": {},
          "execution_count": 765
        }
      ]
    },
    {
      "cell_type": "code",
      "source": [
        "y_pred=logistic_regression.predict(X_testms)\n",
        "y_pred"
      ],
      "metadata": {
        "colab": {
          "base_uri": "https://localhost:8080/"
        },
        "id": "rMv7hAtzc_qs",
        "outputId": "f605cd41-3a86-46be-e5e8-93855cb073f7"
      },
      "execution_count": null,
      "outputs": [
        {
          "output_type": "execute_result",
          "data": {
            "text/plain": [
              "array([2, 2, 4, 3, 4, 4, 3, 4, 4, 4, 2, 3, 4, 3, 3, 2, 4, 4, 2, 2, 2, 3,\n",
              "       4, 2, 4, 4, 4, 2, 1, 4, 4, 4, 2, 1, 1, 4, 4, 2, 4, 3, 4, 3, 3, 2,\n",
              "       3, 4, 2, 4, 3, 4, 4, 2, 2, 4, 4, 4, 1, 3, 2, 1, 1, 3, 4, 2, 4, 4])"
            ]
          },
          "metadata": {},
          "execution_count": 766
        }
      ]
    },
    {
      "cell_type": "code",
      "source": [
        "from sklearn.metrics import f1_score\n",
        "log_reg_f1=f1_score(y_testm,y_pred,average='weighted') \n",
        "print(\"f1 score for logistic regression :  \",round(log_reg_f1,2))"
      ],
      "metadata": {
        "colab": {
          "base_uri": "https://localhost:8080/"
        },
        "id": "B5_q8Y7HdDiU",
        "outputId": "2ed86a28-68ac-4e6a-b12b-3f133f614c28"
      },
      "execution_count": null,
      "outputs": [
        {
          "output_type": "stream",
          "name": "stdout",
          "text": [
            "f1 score for logistic regression :   0.91\n"
          ]
        }
      ]
    },
    {
      "cell_type": "code",
      "source": [
        "from sklearn.metrics import classification_report\n",
        "print(classification_report(y_testm, y_pred))"
      ],
      "metadata": {
        "colab": {
          "base_uri": "https://localhost:8080/"
        },
        "id": "ohnclKaod12e",
        "outputId": "d45b215f-6a16-4588-ff59-c27d28e4c67c"
      },
      "execution_count": null,
      "outputs": [
        {
          "output_type": "stream",
          "name": "stdout",
          "text": [
            "              precision    recall  f1-score   support\n",
            "\n",
            "           1       1.00      0.86      0.92         7\n",
            "           2       0.82      0.93      0.87        15\n",
            "           3       1.00      0.87      0.93        15\n",
            "           4       0.90      0.93      0.92        29\n",
            "\n",
            "    accuracy                           0.91        66\n",
            "   macro avg       0.93      0.90      0.91        66\n",
            "weighted avg       0.92      0.91      0.91        66\n",
            "\n"
          ]
        }
      ]
    },
    {
      "cell_type": "code",
      "source": [
        "from sklearn.metrics import  confusion_matrix\n",
        "confusion_matrix(y_testm,y_pred)"
      ],
      "metadata": {
        "colab": {
          "base_uri": "https://localhost:8080/"
        },
        "id": "p_x827mzd3wd",
        "outputId": "ab3453ef-c346-497a-d531-6b48fcc53cd2"
      },
      "execution_count": null,
      "outputs": [
        {
          "output_type": "execute_result",
          "data": {
            "text/plain": [
              "array([[ 6,  0,  0,  1],\n",
              "       [ 0, 14,  0,  1],\n",
              "       [ 0,  1, 13,  1],\n",
              "       [ 0,  2,  0, 27]])"
            ]
          },
          "metadata": {},
          "execution_count": 769
        }
      ]
    },
    {
      "cell_type": "code",
      "source": [
        "confusion_matrix=pd.crosstab(y_pred,y_testm,rownames=[\"Predicted\"],colnames=[\"Actual\"])\n",
        "sns.heatmap(confusion_matrix, annot=True,annot_kws={\"size\": 40, \"weight\": \"bold\"}, fmt='d')"
      ],
      "metadata": {
        "colab": {
          "base_uri": "https://localhost:8080/",
          "height": 296
        },
        "id": "PrddUpfad-IE",
        "outputId": "d2020bcb-979d-4795-eb2b-7b23d286c588"
      },
      "execution_count": null,
      "outputs": [
        {
          "output_type": "execute_result",
          "data": {
            "text/plain": [
              "<matplotlib.axes._subplots.AxesSubplot at 0x7f083d37e210>"
            ]
          },
          "metadata": {},
          "execution_count": 770
        },
        {
          "output_type": "display_data",
          "data": {
            "text/plain": [
              "<Figure size 432x288 with 2 Axes>"
            ],
            "image/png": "[encoded data removed]"
          },
          "metadata": {}
        }
      ]
    },
    {
      "cell_type": "markdown",
      "source": [
        "**KNearestNeighhborClassifier**"
      ],
      "metadata": {
        "id": "IXd6lEpwh-XX"
      }
    },
    {
      "cell_type": "code",
      "source": [
        "from sklearn.neighbors import KNeighborsClassifier"
      ],
      "metadata": {
        "id": "09Sx1kKaikuN"
      },
      "execution_count": null,
      "outputs": []
    },
    {
      "cell_type": "code",
      "source": [
        "from sklearn.model_selection import cross_val_score\n",
        "for i in [1,2,3,4,5,6,7,8,9,10,20,50]:  #for each k value finding the auroc \n",
        "  knn = KNeighborsClassifier(i) #initialising the model\n",
        "  knn.fit(X_trainms,y_trainm) # training the model\n",
        "  trainAccuracy = accuracy_score(y_trainm, knn.predict(X_trainms))\n",
        "  print(\"K value  : \" , i,\"Train accuracy :\",trainAccuracy, \" cross val score : \", np.mean(cross_val_score(knn, X_trainms, y_trainm, cv=10)))"
      ],
      "metadata": {
        "colab": {
          "base_uri": "https://localhost:8080/"
        },
        "id": "dP2p3VBiim8J",
        "outputId": "2ebfb517-2f71-4810-9f1f-22164680f842"
      },
      "execution_count": null,
      "outputs": [
        {
          "output_type": "stream",
          "name": "stdout",
          "text": [
            "K value  :  1 Train accuracy : 1.0  cross val score :  0.8391737891737892\n",
            "K value  :  2 Train accuracy : 0.9310344827586207  cross val score :  0.839031339031339\n",
            "K value  :  3 Train accuracy : 0.9233716475095786  cross val score :  0.8427350427350426\n",
            "K value  :  4 Train accuracy : 0.9157088122605364  cross val score :  0.8504273504273504\n",
            "K value  :  5 Train accuracy : 0.9003831417624522  cross val score :  0.8428774928774929\n",
            "K value  :  6 Train accuracy : 0.8850574712643678  cross val score :  0.8313390313390313\n",
            "K value  :  7 Train accuracy : 0.8735632183908046  cross val score :  0.8274928774928775\n",
            "K value  :  8 Train accuracy : 0.8773946360153256  cross val score :  0.8313390313390313\n",
            "K value  :  9 Train accuracy : 0.842911877394636  cross val score :  0.797008547008547\n",
            "K value  :  10 Train accuracy : 0.8659003831417624  cross val score :  0.8044159544159545\n",
            "K value  :  20 Train accuracy : 0.7854406130268199  cross val score :  0.7739316239316238\n",
            "K value  :  50 Train accuracy : 0.7394636015325671  cross val score :  0.6780626780626781\n"
          ]
        }
      ]
    },
    {
      "cell_type": "code",
      "source": [
        "# at k=10 we get good cross val score \n",
        "from sklearn.neighbors import KNeighborsClassifier\n",
        "classifier = KNeighborsClassifier(n_neighbors=10)  #initialized \n",
        "classifier.fit(X_trainms,y_trainm)"
      ],
      "metadata": {
        "colab": {
          "base_uri": "https://localhost:8080/"
        },
        "id": "9fLFFSgPiqyg",
        "outputId": "e9e8e61a-2222-453c-e1c3-1d121d2b8cc7"
      },
      "execution_count": null,
      "outputs": [
        {
          "output_type": "execute_result",
          "data": {
            "text/plain": [
              "KNeighborsClassifier(n_neighbors=10)"
            ]
          },
          "metadata": {},
          "execution_count": 773
        }
      ]
    },
    {
      "cell_type": "code",
      "source": [
        "y_pred=classifier.predict(X_testms)"
      ],
      "metadata": {
        "id": "9318Ui90kWay"
      },
      "execution_count": null,
      "outputs": []
    },
    {
      "cell_type": "code",
      "source": [
        "from sklearn.metrics import f1_score\n",
        "KNN_f1=f1_score(y_testm,y_pred,average='weighted') \n",
        "print(\"f1 score for KNN  :  \",round(KNN_f1,2))"
      ],
      "metadata": {
        "colab": {
          "base_uri": "https://localhost:8080/"
        },
        "id": "bLgg2HqGkXkT",
        "outputId": "803a8049-e310-45d0-9ee7-c594f9e25943"
      },
      "execution_count": null,
      "outputs": [
        {
          "output_type": "stream",
          "name": "stdout",
          "text": [
            "f1 score for KNN  :   0.85\n"
          ]
        }
      ]
    },
    {
      "cell_type": "code",
      "source": [
        "from sklearn.metrics import classification_report\n",
        "print(classification_report(y_testm, y_pred))"
      ],
      "metadata": {
        "colab": {
          "base_uri": "https://localhost:8080/"
        },
        "id": "jJH9lrJtkf6I",
        "outputId": "1843165b-c290-4fcb-96f0-67213b24dc72"
      },
      "execution_count": null,
      "outputs": [
        {
          "output_type": "stream",
          "name": "stdout",
          "text": [
            "              precision    recall  f1-score   support\n",
            "\n",
            "           1       1.00      0.71      0.83         7\n",
            "           2       0.75      0.80      0.77        15\n",
            "           3       1.00      0.73      0.85        15\n",
            "           4       0.82      0.97      0.89        29\n",
            "\n",
            "    accuracy                           0.85        66\n",
            "   macro avg       0.89      0.80      0.84        66\n",
            "weighted avg       0.87      0.85      0.85        66\n",
            "\n"
          ]
        }
      ]
    },
    {
      "cell_type": "code",
      "source": [
        "confusion_matrix = pd.crosstab(y_testm, y_pred, rownames=['Actual'], colnames=['Predicted'])\n",
        "fig, ax = plt.subplots(figsize=(5,5))\n",
        "sns.heatmap(confusion_matrix, annot=True,annot_kws={\"size\": 40, \"weight\": \"bold\"}, fmt='d')"
      ],
      "metadata": {
        "colab": {
          "base_uri": "https://localhost:8080/",
          "height": 351
        },
        "id": "C4THBzdKkiZS",
        "outputId": "4bd85ee6-5d47-427c-f738-e2ecee68e5c4"
      },
      "execution_count": null,
      "outputs": [
        {
          "output_type": "execute_result",
          "data": {
            "text/plain": [
              "<matplotlib.axes._subplots.AxesSubplot at 0x7f083d438c50>"
            ]
          },
          "metadata": {},
          "execution_count": 777
        },
        {
          "output_type": "display_data",
          "data": {
            "text/plain": [
              "<Figure size 360x360 with 2 Axes>"
            ],
            "image/png": "[encoded data removed]"
          },
          "metadata": {}
        }
      ]
    },
    {
      "cell_type": "markdown",
      "source": [
        "DECISION TREE CLASSIFIER "
      ],
      "metadata": {
        "id": "vMv0Ueixkp_R"
      }
    },
    {
      "cell_type": "code",
      "source": [
        "from sklearn.metrics import accuracy_score"
      ],
      "metadata": {
        "id": "zaZcEHt2kvFZ"
      },
      "execution_count": null,
      "outputs": []
    },
    {
      "cell_type": "code",
      "source": [
        "#doing cross validation to get best value of max _depth to prevent overfitted model \n",
        "from sklearn.model_selection import cross_val_score \n",
        "from sklearn.tree import DecisionTreeClassifier\n",
        "for depth in [1,2,3,4,5,6,7,8,9,10,20]:\n",
        "  dt = DecisionTreeClassifier(max_depth=depth) # will tell the DT to not grow past the given threhsold\n",
        "  # Fit dt to the training set\n",
        "  dt.fit(X_trainms, y_trainm) # the model is trained\n",
        "  trainAccuracy = accuracy_score(y_trainm, dt.predict(X_trainms)) # this is useless information - i am showing to prove a point\n",
        "  dt = DecisionTreeClassifier(max_depth=depth) # a fresh model which is not trained yet\n",
        "  valAccuracy = cross_val_score(dt, X_trainms, y_trainm, cv=10) # syntax : cross_val_Score(freshModel,fts, target, cv= 10/5)\n",
        "  print(\"Depth  : \", depth, \" Training Accuracy : \", trainAccuracy, \" Cross val score : \" ,np.mean(valAccuracy))"
      ],
      "metadata": {
        "colab": {
          "base_uri": "https://localhost:8080/"
        },
        "id": "K3jj3LpNlRtZ",
        "outputId": "44311b02-5314-478c-f60c-ecf1bb125a51"
      },
      "execution_count": null,
      "outputs": [
        {
          "output_type": "stream",
          "name": "stdout",
          "text": [
            "Depth  :  1  Training Accuracy :  0.5134099616858238  Cross val score :  0.5094017094017094\n",
            "Depth  :  2  Training Accuracy :  0.8199233716475096  Cross val score :  0.8118233618233617\n",
            "Depth  :  3  Training Accuracy :  0.8850574712643678  Cross val score :  0.842735042735043\n",
            "Depth  :  4  Training Accuracy :  0.9425287356321839  Cross val score :  0.866096866096866\n",
            "Depth  :  5  Training Accuracy :  0.9655172413793104  Cross val score :  0.8964387464387465\n",
            "Depth  :  6  Training Accuracy :  0.9885057471264368  Cross val score :  0.8736467236467236\n",
            "Depth  :  7  Training Accuracy :  1.0  Cross val score :  0.8850427350427349\n",
            "Depth  :  8  Training Accuracy :  1.0  Cross val score :  0.8850427350427349\n",
            "Depth  :  9  Training Accuracy :  1.0  Cross val score :  0.8850427350427349\n",
            "Depth  :  10  Training Accuracy :  1.0  Cross val score :  0.8850427350427351\n",
            "Depth  :  20  Training Accuracy :  1.0  Cross val score :  0.8816239316239317\n"
          ]
        }
      ]
    },
    {
      "cell_type": "code",
      "source": [
        "#lets us fit the model with max_depth =2 it seems more of genralised model   in depth>5 we see overfitted model \n",
        "from sklearn.tree import DecisionTreeClassifier\n",
        "dt = DecisionTreeClassifier(max_depth=2)\n",
        "dt.fit(X_trainms, y_trainm) "
      ],
      "metadata": {
        "colab": {
          "base_uri": "https://localhost:8080/"
        },
        "id": "c4-KawM8lczp",
        "outputId": "2c3a0ffd-98a3-448e-bd4a-a31e8884ba11"
      },
      "execution_count": null,
      "outputs": [
        {
          "output_type": "execute_result",
          "data": {
            "text/plain": [
              "DecisionTreeClassifier(max_depth=2)"
            ]
          },
          "metadata": {},
          "execution_count": 780
        }
      ]
    },
    {
      "cell_type": "code",
      "source": [
        "y_pred = dt.predict(X_testms) "
      ],
      "metadata": {
        "id": "ozJV2ReglqIx"
      },
      "execution_count": null,
      "outputs": []
    },
    {
      "cell_type": "code",
      "source": [
        "from sklearn.metrics import f1_score\n",
        "dt_f1=f1_score(y_testm,y_pred,average='weighted') \n",
        "print(\"f1 score for decision tree  :  \",round(dt_f1,2))"
      ],
      "metadata": {
        "colab": {
          "base_uri": "https://localhost:8080/"
        },
        "id": "Cca63uXClu_m",
        "outputId": "a73d9e9c-bfde-4133-8324-58716ed73ac1"
      },
      "execution_count": null,
      "outputs": [
        {
          "output_type": "stream",
          "name": "stdout",
          "text": [
            "f1 score for decision tree  :   0.8\n"
          ]
        }
      ]
    },
    {
      "cell_type": "code",
      "source": [
        "from sklearn.metrics import classification_report\n",
        "print(classification_report(y_testm, y_pred))"
      ],
      "metadata": {
        "colab": {
          "base_uri": "https://localhost:8080/"
        },
        "id": "ivij63-Rl9Pr",
        "outputId": "a7eeaba7-99d2-4801-e81c-54ff0b9d5061"
      },
      "execution_count": null,
      "outputs": [
        {
          "output_type": "stream",
          "name": "stdout",
          "text": [
            "              precision    recall  f1-score   support\n",
            "\n",
            "           1       1.00      1.00      1.00         7\n",
            "           2       0.65      1.00      0.79        15\n",
            "           3       0.91      0.67      0.77        15\n",
            "           4       0.84      0.72      0.78        29\n",
            "\n",
            "    accuracy                           0.80        66\n",
            "   macro avg       0.85      0.85      0.83        66\n",
            "weighted avg       0.83      0.80      0.80        66\n",
            "\n"
          ]
        }
      ]
    },
    {
      "cell_type": "code",
      "source": [
        "confusion_matrix = pd.crosstab(y_testm, y_pred, rownames=['Actual'], colnames=['Predicted'])\n",
        "fig, ax = plt.subplots(figsize=(5,5))\n",
        "sns.heatmap(confusion_matrix, annot=True,annot_kws={\"size\": 40, \"weight\": \"bold\"}, fmt='d')"
      ],
      "metadata": {
        "colab": {
          "base_uri": "https://localhost:8080/",
          "height": 351
        },
        "id": "rvZ6ewe3mI1H",
        "outputId": "482ba691-0115-4173-f0b1-d085b870703e"
      },
      "execution_count": null,
      "outputs": [
        {
          "output_type": "execute_result",
          "data": {
            "text/plain": [
              "<matplotlib.axes._subplots.AxesSubplot at 0x7f083d1b6250>"
            ]
          },
          "metadata": {},
          "execution_count": 784
        },
        {
          "output_type": "display_data",
          "data": {
            "text/plain": [
              "<Figure size 360x360 with 2 Axes>"
            ],
            "image/png": "[encoded data removed]"
          },
          "metadata": {}
        }
      ]
    },
    {
      "cell_type": "markdown",
      "source": [
        "RANDOM FOREST CLASSIFIER"
      ],
      "metadata": {
        "id": "F8E1S5WbmPZC"
      }
    },
    {
      "cell_type": "code",
      "source": [
        "from sklearn.ensemble import RandomForestClassifier\n",
        "rf= RandomForestClassifier(max_depth=2,n_estimators=100,max_features=\"sqrt\")    #max_depth=log(no of features)\n",
        "rf.fit(X_trainms, y_trainm)"
      ],
      "metadata": {
        "colab": {
          "base_uri": "https://localhost:8080/"
        },
        "id": "JMsEOFEmmxrQ",
        "outputId": "eaa21d12-dd57-4427-d3fb-96350d5a86ee"
      },
      "execution_count": null,
      "outputs": [
        {
          "output_type": "execute_result",
          "data": {
            "text/plain": [
              "RandomForestClassifier(max_depth=2, max_features='sqrt')"
            ]
          },
          "metadata": {},
          "execution_count": 785
        }
      ]
    },
    {
      "cell_type": "code",
      "source": [
        "y_pred= rf.predict(X_testms)"
      ],
      "metadata": {
        "id": "x6SeMUfNm1RR"
      },
      "execution_count": null,
      "outputs": []
    },
    {
      "cell_type": "code",
      "source": [
        "from sklearn.metrics import f1_score\n",
        "rf_f1=f1_score(y_testm,y_pred,average='weighted') \n",
        "print(\"f1 score for decision tree  :  \",round(rf_f1,2))"
      ],
      "metadata": {
        "colab": {
          "base_uri": "https://localhost:8080/"
        },
        "id": "PrLTMmwxnAkr",
        "outputId": "59741bf5-242b-46da-f96e-7979fde0b6d8"
      },
      "execution_count": null,
      "outputs": [
        {
          "output_type": "stream",
          "name": "stdout",
          "text": [
            "f1 score for decision tree  :   0.86\n"
          ]
        }
      ]
    },
    {
      "cell_type": "code",
      "source": [
        "#doing cross validation to get best value of max _depth to prevent overfitted model \n",
        "from sklearn.model_selection import cross_val_score \n",
        "from sklearn.ensemble import RandomForestClassifier\n",
        "for depth in [1,2,3,4,5,6,7,8,9,10,20]:\n",
        "  rf= RandomForestClassifier(max_depth=depth,n_estimators=100,max_features=\"sqrt\")   # will tell the DT to not grow past the given threhsold\n",
        "  # Fit dt to the training set\n",
        "  rf.fit(X_trainms, y_trainm) # the model is trained\n",
        "  trainAccuracy = accuracy_score(y_trainm, rf.predict(X_trainms)) # this is useless information - i am showing to prove a point\n",
        "  rf= RandomForestClassifier(max_depth=depth,n_estimators=100,max_features=\"sqrt\")   # a fresh model which is not trained yet\n",
        "  valAccuracy = cross_val_score(rf, X_trainms, y_trainm, cv=10) # syntax : cross_val_Score(freshModel,fts, target, cv= 10/5)\n",
        "  print(\"Depth  : \", depth, \" Training Accuracy : \", trainAccuracy, \" Cross val score : \" ,np.mean(valAccuracy))"
      ],
      "metadata": {
        "colab": {
          "base_uri": "https://localhost:8080/"
        },
        "id": "5O8P8wZtnJoF",
        "outputId": "701a7423-5169-44a4-8ca4-1ccccb401e19"
      },
      "execution_count": null,
      "outputs": [
        {
          "output_type": "stream",
          "name": "stdout",
          "text": [
            "Depth  :  1  Training Accuracy :  0.7049808429118773  Cross val score :  0.6933048433048434\n",
            "Depth  :  2  Training Accuracy :  0.842911877394636  Cross val score :  0.8351851851851853\n",
            "Depth  :  3  Training Accuracy :  0.9157088122605364  Cross val score :  0.8504273504273504\n",
            "Depth  :  4  Training Accuracy :  0.9616858237547893  Cross val score :  0.8810541310541311\n",
            "Depth  :  5  Training Accuracy :  0.9885057471264368  Cross val score :  0.9078347578347579\n",
            "Depth  :  6  Training Accuracy :  0.9923371647509579  Cross val score :  0.8964387464387465\n",
            "Depth  :  7  Training Accuracy :  1.0  Cross val score :  0.9155270655270655\n",
            "Depth  :  8  Training Accuracy :  1.0  Cross val score :  0.903988603988604\n",
            "Depth  :  9  Training Accuracy :  1.0  Cross val score :  0.9078347578347579\n",
            "Depth  :  10  Training Accuracy :  1.0  Cross val score :  0.9041310541310542\n",
            "Depth  :  20  Training Accuracy :  1.0  Cross val score :  0.903846153846154\n"
          ]
        }
      ]
    },
    {
      "cell_type": "code",
      "source": [
        "from sklearn.ensemble import RandomForestClassifier\n",
        "rf= RandomForestClassifier(max_depth=4,n_estimators=100,max_features=\"sqrt\")    \n",
        "rf.fit(X_trainms, y_trainm)"
      ],
      "metadata": {
        "colab": {
          "base_uri": "https://localhost:8080/"
        },
        "id": "LdATx1jFnyrr",
        "outputId": "461658a8-ea55-4e3d-e91c-d9a515e0579d"
      },
      "execution_count": null,
      "outputs": [
        {
          "output_type": "execute_result",
          "data": {
            "text/plain": [
              "RandomForestClassifier(max_depth=4, max_features='sqrt')"
            ]
          },
          "metadata": {},
          "execution_count": 789
        }
      ]
    },
    {
      "cell_type": "code",
      "source": [
        "y_pred=rf.predict(X_testms)"
      ],
      "metadata": {
        "id": "8CZ5-938n28z"
      },
      "execution_count": null,
      "outputs": []
    },
    {
      "cell_type": "code",
      "source": [
        "from sklearn.metrics import f1_score\n",
        "rf_f1=f1_score(y_testm,y_pred,average='weighted') \n",
        "print(\"f1 score for random_forest_classifier  :  \",round(rf_f1,2))"
      ],
      "metadata": {
        "colab": {
          "base_uri": "https://localhost:8080/"
        },
        "id": "V0FlhDA_n6AM",
        "outputId": "c026c371-070c-4967-d4b3-d627fed0b181"
      },
      "execution_count": null,
      "outputs": [
        {
          "output_type": "stream",
          "name": "stdout",
          "text": [
            "f1 score for random_forest_classifier  :   0.93\n"
          ]
        }
      ]
    },
    {
      "cell_type": "code",
      "source": [
        "from sklearn.metrics import classification_report\n",
        "print(classification_report(y_testm, y_pred))"
      ],
      "metadata": {
        "colab": {
          "base_uri": "https://localhost:8080/"
        },
        "id": "OloNmm4559tT",
        "outputId": "d4541779-4b1d-484b-cff0-25869c2ec345"
      },
      "execution_count": null,
      "outputs": [
        {
          "output_type": "stream",
          "name": "stdout",
          "text": [
            "              precision    recall  f1-score   support\n",
            "\n",
            "           1       1.00      0.86      0.92         7\n",
            "           2       0.83      1.00      0.91        15\n",
            "           3       0.88      0.93      0.90        15\n",
            "           4       1.00      0.90      0.95        29\n",
            "\n",
            "    accuracy                           0.92        66\n",
            "   macro avg       0.93      0.92      0.92        66\n",
            "weighted avg       0.93      0.92      0.93        66\n",
            "\n"
          ]
        }
      ]
    },
    {
      "cell_type": "code",
      "source": [
        "confusion_matrix = pd.crosstab(y_testm, y_pred, rownames=['Actual'], colnames=['Predicted'])\n",
        "fig, ax = plt.subplots(figsize=(5,5))\n",
        "sns.heatmap(confusion_matrix, annot=True,annot_kws={\"size\": 40, \"weight\": \"bold\"}, fmt='d')"
      ],
      "metadata": {
        "colab": {
          "base_uri": "https://localhost:8080/",
          "height": 351
        },
        "id": "8a3hogbBogX6",
        "outputId": "6d281bdc-867d-4618-a5fb-562135f9688e"
      },
      "execution_count": null,
      "outputs": [
        {
          "output_type": "execute_result",
          "data": {
            "text/plain": [
              "<matplotlib.axes._subplots.AxesSubplot at 0x7f083d0dac10>"
            ]
          },
          "metadata": {},
          "execution_count": 793
        },
        {
          "output_type": "display_data",
          "data": {
            "text/plain": [
              "<Figure size 360x360 with 2 Axes>"
            ],
            "image/png": "[encoded data removed]"
          },
          "metadata": {}
        }
      ]
    },
    {
      "cell_type": "markdown",
      "source": [
        "XGB CLASSIFIER"
      ],
      "metadata": {
        "id": "5YHp6eGRopuz"
      }
    },
    {
      "cell_type": "code",
      "source": [
        "import xgboost as xgb\n",
        "from sklearn.model_selection import cross_val_score\n",
        "import numpy as np\n",
        "for lr in [0.01,0.02,0.03,0.04,0.05,0.06,0.07,0.08,0.09,0.1,0.11,0.12,0.13,0.14,0.15,0.2,0.5,0.7,1]:  #cross validation for learning rate \n",
        "  model = xgb.XGBClassifier(learning_rate = lr, n_estimators=100, verbosity = 0,objective=\"multi:softprob\") # initialise the model\n",
        "  model.fit(X_trainms,y_trainm)\n",
        "  print(\"Learning rate : \", lr,\" Train score : \", accuracy_score(y_trainm, model.predict(X_trainms)),\" Cross-Val score : \", np.mean(cross_val_score(model, X_trainms, y_trainm, cv=10)))"
      ],
      "metadata": {
        "colab": {
          "base_uri": "https://localhost:8080/"
        },
        "id": "ozXMxQtBooTN",
        "outputId": "c4d1a4b1-5c29-4a7a-94ef-bd0c4e0149d5"
      },
      "execution_count": null,
      "outputs": [
        {
          "output_type": "stream",
          "name": "stdout",
          "text": [
            "Learning rate :  0.01  Train score :  0.9501915708812261  Cross-Val score :  0.8925925925925927\n",
            "Learning rate :  0.02  Train score :  0.9616858237547893  Cross-Val score :  0.9078347578347579\n",
            "Learning rate :  0.03  Train score :  0.9808429118773946  Cross-Val score :  0.903988603988604\n",
            "Learning rate :  0.04  Train score :  0.9808429118773946  Cross-Val score :  0.903988603988604\n",
            "Learning rate :  0.05  Train score :  0.9923371647509579  Cross-Val score :  0.903988603988604\n",
            "Learning rate :  0.06  Train score :  0.9961685823754789  Cross-Val score :  0.9078347578347579\n",
            "Learning rate :  0.07  Train score :  0.9961685823754789  Cross-Val score :  0.9116809116809117\n",
            "Learning rate :  0.08  Train score :  1.0  Cross-Val score :  0.907977207977208\n",
            "Learning rate :  0.09  Train score :  1.0  Cross-Val score :  0.9041310541310542\n",
            "Learning rate :  0.1  Train score :  1.0  Cross-Val score :  0.9002849002849004\n",
            "Learning rate :  0.11  Train score :  1.0  Cross-Val score :  0.907977207977208\n",
            "Learning rate :  0.12  Train score :  1.0  Cross-Val score :  0.9041310541310542\n",
            "Learning rate :  0.13  Train score :  1.0  Cross-Val score :  0.9041310541310542\n",
            "Learning rate :  0.14  Train score :  1.0  Cross-Val score :  0.9002849002849003\n",
            "Learning rate :  0.15  Train score :  1.0  Cross-Val score :  0.9041310541310542\n",
            "Learning rate :  0.2  Train score :  1.0  Cross-Val score :  0.9002849002849004\n",
            "Learning rate :  0.5  Train score :  1.0  Cross-Val score :  0.907977207977208\n",
            "Learning rate :  0.7  Train score :  1.0  Cross-Val score :  0.907977207977208\n",
            "Learning rate :  1  Train score :  1.0  Cross-Val score :  0.9118233618233619\n"
          ]
        }
      ]
    },
    {
      "cell_type": "code",
      "source": [
        "model = xgb.XGBClassifier(learning_rate =0.03, n_estimators=100,objective='multi:softprob',verbose=0)  #at lr=0.01 model is more generalized\n",
        "model.fit(X_trainms,y_trainm) #train the model"
      ],
      "metadata": {
        "colab": {
          "base_uri": "https://localhost:8080/"
        },
        "id": "r50zmMR6ukZh",
        "outputId": "bda9fde3-c748-4ba4-d0a1-7949f4c98288"
      },
      "execution_count": null,
      "outputs": [
        {
          "output_type": "execute_result",
          "data": {
            "text/plain": [
              "XGBClassifier(learning_rate=0.03, objective='multi:softprob', verbose=0)"
            ]
          },
          "metadata": {},
          "execution_count": 795
        }
      ]
    },
    {
      "cell_type": "code",
      "source": [
        "y_pred=model.predict(X_testms)"
      ],
      "metadata": {
        "id": "YprNeGTGusNo"
      },
      "execution_count": null,
      "outputs": []
    },
    {
      "cell_type": "code",
      "source": [
        "y_pred"
      ],
      "metadata": {
        "colab": {
          "base_uri": "https://localhost:8080/"
        },
        "id": "IDKNawcKv5Ew",
        "outputId": "edfe93e8-a4d2-42b0-954f-fd2948bb7e2a"
      },
      "execution_count": null,
      "outputs": [
        {
          "output_type": "execute_result",
          "data": {
            "text/plain": [
              "array([2, 2, 4, 3, 4, 4, 3, 4, 4, 4, 2, 3, 4, 3, 3, 2, 4, 4, 2, 2, 2, 3,\n",
              "       4, 2, 4, 4, 3, 2, 1, 3, 4, 4, 4, 1, 1, 2, 4, 2, 4, 3, 4, 3, 3, 2,\n",
              "       3, 4, 2, 4, 3, 4, 4, 2, 3, 4, 4, 4, 1, 3, 2, 1, 1, 3, 4, 4, 4, 1])"
            ]
          },
          "metadata": {},
          "execution_count": 797
        }
      ]
    },
    {
      "cell_type": "code",
      "source": [
        "from sklearn.metrics import f1_score\n",
        "xg_f1=f1_score(y_testm,y_pred,average='weighted') \n",
        "print(\"f1 score for xg boost  :  \",round(xg_f1,2))\n",
        "\n",
        "# we get good f1 score "
      ],
      "metadata": {
        "colab": {
          "base_uri": "https://localhost:8080/"
        },
        "id": "_ZgveVEOuuWR",
        "outputId": "aecfd6f2-86f8-49bd-a616-b047e77b3e8b"
      },
      "execution_count": null,
      "outputs": [
        {
          "output_type": "stream",
          "name": "stdout",
          "text": [
            "f1 score for xg boost  :   0.94\n"
          ]
        }
      ]
    },
    {
      "cell_type": "code",
      "source": [
        "from sklearn.metrics import  confusion_matrix\n",
        "confusion_matrix=confusion_matrix(y_testm,y_pred)\n",
        "confusion_matrix"
      ],
      "metadata": {
        "colab": {
          "base_uri": "https://localhost:8080/"
        },
        "id": "xCZbDm92vNNX",
        "outputId": "398d5b21-6203-44c5-c840-54d290b4371f"
      },
      "execution_count": null,
      "outputs": [
        {
          "output_type": "execute_result",
          "data": {
            "text/plain": [
              "array([[ 7,  0,  0,  0],\n",
              "       [ 0, 14,  0,  1],\n",
              "       [ 0,  1, 14,  0],\n",
              "       [ 0,  0,  2, 27]])"
            ]
          },
          "metadata": {},
          "execution_count": 799
        }
      ]
    },
    {
      "cell_type": "code",
      "source": [
        "confusion_matrix = pd.crosstab(y_testm, y_pred, rownames=['Actual'], colnames=['Predicted'])\n",
        "fig, ax = plt.subplots(figsize=(5,5))\n",
        "sns.heatmap(confusion_matrix, annot=True,annot_kws={\"size\": 40, \"weight\": \"bold\"}, fmt='d')"
      ],
      "metadata": {
        "colab": {
          "base_uri": "https://localhost:8080/",
          "height": 351
        },
        "id": "vEbUdB-avS68",
        "outputId": "ad00d6b0-ca13-4217-ec32-1d3579b3e98d"
      },
      "execution_count": null,
      "outputs": [
        {
          "output_type": "execute_result",
          "data": {
            "text/plain": [
              "<matplotlib.axes._subplots.AxesSubplot at 0x7f083cf82a10>"
            ]
          },
          "metadata": {},
          "execution_count": 800
        },
        {
          "output_type": "display_data",
          "data": {
            "text/plain": [
              "<Figure size 360x360 with 2 Axes>"
            ],
            "image/png": "[encoded data removed]"
          },
          "metadata": {}
        }
      ]
    },
    {
      "cell_type": "code",
      "source": [
        "multi_class=pd.DataFrame({\"Model\":[\"Logistic regression\",\"KNN\",\"Decision Tree\",\"Random Forest\",\"XGboost\"],\n",
        "                       \"f1_score\":[log_reg_f1,KNN_f1,dt_f1,rf_f1,xg_f1]})"
      ],
      "metadata": {
        "id": "3K-ObB605ail"
      },
      "execution_count": null,
      "outputs": []
    },
    {
      "cell_type": "code",
      "source": [
        "print(\"Models and their evaluations\")\n",
        "print(\"\\n\")\n",
        "multi_class.sort_values([\"f1_score\"],ascending=False)"
      ],
      "metadata": {
        "colab": {
          "base_uri": "https://localhost:8080/",
          "height": 258
        },
        "id": "ESbh2Sef5eN7",
        "outputId": "68f55cdb-4b27-4543-85a1-64858c86bf77"
      },
      "execution_count": null,
      "outputs": [
        {
          "output_type": "stream",
          "name": "stdout",
          "text": [
            "Models and their evaluations\n",
            "\n",
            "\n"
          ]
        },
        {
          "output_type": "execute_result",
          "data": {
            "text/plain": [
              "                 Model  f1_score\n",
              "4              XGboost  0.939728\n",
              "3        Random Forest  0.925219\n",
              "0  Logistic regression  0.909962\n",
              "1                  KNN  0.847217\n",
              "2        Decision Tree  0.802062"
            ],
            "text/html": [
              "\n",
              "  <div id=\"df-ad615213-926c-44b6-8def-68f22103c56f\">\n",
              "    <div class=\"colab-df-container\">\n",
              "      <div>\n",
              "<style scoped>\n",
              "    .dataframe tbody tr th:only-of-type {\n",
              "        vertical-align: middle;\n",
              "    }\n",
              "\n",
              "    .dataframe tbody tr th {\n",
              "        vertical-align: top;\n",
              "    }\n",
              "\n",
              "    .dataframe thead th {\n",
              "        text-align: right;\n",
              "    }\n",
              "</style>\n",
              "<table border=\"1\" class=\"dataframe\">\n",
              "  <thead>\n",
              "    <tr style=\"text-align: right;\">\n",
              "      <th></th>\n",
              "      <th>Model</th>\n",
              "      <th>f1_score</th>\n",
              "    </tr>\n",
              "  </thead>\n",
              "  <tbody>\n",
              "    <tr>\n",
              "      <th>4</th>\n",
              "      <td>XGboost</td>\n",
              "      <td>0.939728</td>\n",
              "    </tr>\n",
              "    <tr>\n",
              "      <th>3</th>\n",
              "      <td>Random Forest</td>\n",
              "      <td>0.925219</td>\n",
              "    </tr>\n",
              "    <tr>\n",
              "      <th>0</th>\n",
              "      <td>Logistic regression</td>\n",
              "      <td>0.909962</td>\n",
              "    </tr>\n",
              "    <tr>\n",
              "      <th>1</th>\n",
              "      <td>KNN</td>\n",
              "      <td>0.847217</td>\n",
              "    </tr>\n",
              "    <tr>\n",
              "      <th>2</th>\n",
              "      <td>Decision Tree</td>\n",
              "      <td>0.802062</td>\n",
              "    </tr>\n",
              "  </tbody>\n",
              "</table>\n",
              "</div>\n",
              "      <button class=\"colab-df-convert\" onclick=\"convertToInteractive('df-ad615213-926c-44b6-8def-68f22103c56f')\"\n",
              "              title=\"Convert this dataframe to an interactive table.\"\n",
              "              style=\"display:none;\">\n",
              "        \n",
              "  <svg xmlns=\"http://www.w3.org/2000/svg\" height=\"24px\"viewBox=\"0 0 24 24\"\n",
              "       width=\"24px\">\n",
              "    <path d=\"M0 0h24v24H0V0z\" fill=\"none\"/>\n",
              "    <path d=\"M18.56 5.44l.94 2.06.94-2.06 2.06-.94-2.06-.94-.94-2.06-.94 2.06-2.06.94zm-11 1L8.5 8.5l.94-2.06 2.06-.94-2.06-.94L8.5 2.5l-.94 2.06-2.06.94zm10 10l.94 2.06.94-2.06 2.06-.94-2.06-.94-.94-2.06-.94 2.06-2.06.94z\"/><path d=\"M17.41 7.96l-1.37-1.37c-.4-.4-.92-.59-1.43-.59-.52 0-1.04.2-1.43.59L10.3 9.45l-7.72 7.72c-.78.78-.78 2.05 0 2.83L4 21.41c.39.39.9.59 1.41.59.51 0 1.02-.2 1.41-.59l7.78-7.78 2.81-2.81c.8-.78.8-2.07 0-2.86zM5.41 20L4 18.59l7.72-7.72 1.47 1.35L5.41 20z\"/>\n",
              "  </svg>\n",
              "      </button>\n",
              "      \n",
              "  <style>\n",
              "    .colab-df-container {\n",
              "      display:flex;\n",
              "      flex-wrap:wrap;\n",
              "      gap: 12px;\n",
              "    }\n",
              "\n",
              "    .colab-df-convert {\n",
              "      background-color: #E8F0FE;\n",
              "      border: none;\n",
              "      border-radius: 50%;\n",
              "      cursor: pointer;\n",
              "      display: none;\n",
              "      fill: #1967D2;\n",
              "      height: 32px;\n",
              "      padding: 0 0 0 0;\n",
              "      width: 32px;\n",
              "    }\n",
              "\n",
              "    .colab-df-convert:hover {\n",
              "      background-color: #E2EBFA;\n",
              "      box-shadow: 0px 1px 2px rgba(60, 64, 67, 0.3), 0px 1px 3px 1px rgba(60, 64, 67, 0.15);\n",
              "      fill: #174EA6;\n",
              "    }\n",
              "\n",
              "    [theme=dark] .colab-df-convert {\n",
              "      background-color: #3B4455;\n",
              "      fill: #D2E3FC;\n",
              "    }\n",
              "\n",
              "    [theme=dark] .colab-df-convert:hover {\n",
              "      background-color: #434B5C;\n",
              "      box-shadow: 0px 1px 3px 1px rgba(0, 0, 0, 0.15);\n",
              "      filter: drop-shadow(0px 1px 2px rgba(0, 0, 0, 0.3));\n",
              "      fill: #FFFFFF;\n",
              "    }\n",
              "  </style>\n",
              "\n",
              "      <script>\n",
              "        const buttonEl =\n",
              "          document.querySelector('#df-ad615213-926c-44b6-8def-68f22103c56f button.colab-df-convert');\n",
              "        buttonEl.style.display =\n",
              "          google.colab.kernel.accessAllowed ? 'block' : 'none';\n",
              "\n",
              "        async function convertToInteractive(key) {\n",
              "          const element = document.querySelector('#df-ad615213-926c-44b6-8def-68f22103c56f');\n",
              "          const dataTable =\n",
              "            await google.colab.kernel.invokeFunction('convertToInteractive',\n",
              "                                                     [key], {});\n",
              "          if (!dataTable) return;\n",
              "\n",
              "          const docLinkHtml = 'Like what you see? Visit the ' +\n",
              "            '<a target=\"_blank\" href=https://colab.research.google.com/notebooks/data_table.ipynb>data table notebook</a>'\n",
              "            + ' to learn more about interactive tables.';\n",
              "          element.innerHTML = '';\n",
              "          dataTable['output_type'] = 'display_data';\n",
              "          await google.colab.output.renderOutput(dataTable, element);\n",
              "          const docLink = document.createElement('div');\n",
              "          docLink.innerHTML = docLinkHtml;\n",
              "          element.appendChild(docLink);\n",
              "        }\n",
              "      </script>\n",
              "    </div>\n",
              "  </div>\n",
              "  "
            ]
          },
          "metadata": {},
          "execution_count": 802
        }
      ]
    }
  ]
}